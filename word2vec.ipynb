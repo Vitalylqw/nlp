{
 "cells": [
  {
   "cell_type": "markdown",
   "metadata": {
    "id": "haJUNjSB60Kh"
   },
   "source": [
    "# Word2Vec"
   ]
  },
  {
   "cell_type": "markdown",
   "metadata": {
    "id": "99d4ky2lWFvn"
   },
   "source": [
    "Word2Vec - это не единичный алгоритм, а скорее семейство архитектур моделей и оптимизаций, которые можно использовать для изучения встраивания слов из больших наборов данных. Встраивание, полученное с помощью Word2Vec, оказалось успешным в различных последующих задачах обработки естественного языка.\n",
    "\n",
    "Примечание. Это руководство основано на методе «Эффективная оценка представлений слов в векторном пространстве» и « Распределенные представления слов и фраз и их композиционности» . Это не точная реализация документов. Скорее, он предназначен для иллюстрации основных идей.\n",
    "В этих статьях предлагалось два метода изучения представлений слов:\n",
    "\n",
    "Модель непрерывного набора слов, которая предсказывает среднее слово на основе окружающих контекстных слов. Контекст состоит из нескольких слов до и после текущего (среднего) слова. Эта архитектура называется моделью набора слов, поскольку порядок слов в контексте не важен.\n",
    "Модель непрерывной скип-граммы, которая предсказывает слова в определенном диапазоне до и после текущего слова в одном предложении. Рабочий пример этого приведен ниже.\n",
    "В этом руководстве вы будете использовать метод пропуска граммов. Во-первых, вы изучите скип-граммы и другие концепции, используя для иллюстрации одно предложение. Затем вы обучите свою собственную модель Word2Vec на небольшом наборе данных. Это руководство также содержит код для экспорта обученных внедрений и их визуализации в проекторе встраивания TensorFlow ."
   ]
  },
  {
   "cell_type": "markdown",
   "metadata": {
    "id": "xP00WlaMWBZC"
   },
   "source": [
    "## Skip-gram and Negative Sampling "
   ]
  },
  {
   "cell_type": "markdown",
   "metadata": {
    "id": "Zr2wjv0bW236"
   },
   "source": [
    "В то время как модель набора слов предсказывает слово с учетом соседнего контекста, модель пропуска грамматики предсказывает контекст (или соседей) слова с учетом самого слова. Модель обучается на скип-граммах, которые представляют собой n-граммы, которые позволяют пропускать токены (см. Пример на диаграмме ниже). Контекст слова может быть представлен через набор пар пропуска грамматики (target_word, context_word) где context_word появляется в соседнем контексте target_word ."
   ]
  },
  {
   "cell_type": "markdown",
   "metadata": {
    "id": "ICjc-McbaVTd"
   },
   "source": [
    "Рассмотрим следующее предложение из 8 слов.\n",
    "\n",
    "Широкая дорога сияла на палящем солнце.\n",
    "\n",
    "Контекстные слова для каждого из 8 слов этого предложения определяются размером окна. Размер окна определяет диапазон слов по обе стороны от target_word которые можно рассматривать как context word . Взгляните на эту таблицу скип-граммов для целевых слов, основанных на разных размерах окна.\n",
    "\n"
   ]
  },
  {
   "cell_type": "markdown",
   "metadata": {
    "id": "YKE87IKT_YT8"
   },
   "source": [
    "Примечание. В этом руководстве размер окна n подразумевает n слов с каждой стороны с общим размером окна 2 * n + 1 слово в слове.\n"
   ]
  },
  {
   "cell_type": "markdown",
   "metadata": {
    "id": "RsCwQ07E8mqU"
   },
   "source": [
    "![word2vec_skipgrams](https://github.com/tensorflow/docs/blob/master/site/en/tutorials/text/images/word2vec_skipgram.png?raw=1)"
   ]
  },
  {
   "cell_type": "markdown",
   "metadata": {
    "id": "gK1gN1jwkMpU"
   },
   "source": [
    "Целью обучения модели пропуска грамматики является максимизация вероятности предсказания контекстных слов с учетом целевого слова. Для последовательности слов *w<sub>1</sub>, w<sub>2</sub> , ... w<sub>T</sub>* цель может быть записана как средняя логарифмическая вероятность\n",
    "\n"
   ]
  },
  {
   "cell_type": "markdown",
   "metadata": {
    "id": "pILO_iAc84e-"
   },
   "source": [
    "![word2vec_skipgram_objective](https://github.com/tensorflow/docs/blob/master/site/en/tutorials/text/images/word2vec_skipgram_objective.png?raw=1)"
   ]
  },
  {
   "cell_type": "markdown",
   "metadata": {
    "id": "Gsy6TUbtnz_K"
   },
   "source": [
    "где c - размер обучающего контекста. Базовая формулировка скип-граммы определяет эту вероятность с помощью функции softmax."
   ]
  },
  {
   "cell_type": "markdown",
   "metadata": {
    "id": "P81Qavbb9APd"
   },
   "source": [
    "![word2vec_full_softmax](https://github.com/tensorflow/docs/blob/master/site/en/tutorials/text/images/word2vec_full_softmax.png?raw=1)"
   ]
  },
  {
   "cell_type": "markdown",
   "metadata": {
    "id": "axZvd-hhotVB"
   },
   "source": [
    "где v и v ' - целевые и контекстные векторные представления слов, а W - размер словаря.\n",
    "\n"
   ]
  },
  {
   "cell_type": "markdown",
   "metadata": {
    "id": "SoLzxbqSpT6_"
   },
   "source": [
    "Вычисление знаменателя этой формулировки включает выполнение полного softmax для всего словарного запаса, который часто бывает большим (10^5 -10^7 ) терминами.\n",
    "\n"
   ]
  },
  {
   "cell_type": "markdown",
   "metadata": {
    "id": "Y5VWYtmFzHkU"
   },
   "source": [
    "Функция потерь с контрастной оценкой шума является эффективным приближением для полного softmax. С целью изучения встраивания слов вместо моделирования распределения слов, потерю NCE можно упростить, используя отрицательную выборку.\n",
    "\n"
   ]
  },
  {
   "cell_type": "markdown",
   "metadata": {
    "id": "WTZBPf1RsOsg"
   },
   "source": [
    "Упрощенная цель отрицательной выборки для целевого слова состоит в том, чтобы отличить контекстное слово от отрицательных выборок num_ns, взятых из распределения шума P <sub>n</sub> (w) слов. Точнее, эффективное приближение полного softmax по словарю для пары пропуска-грамма представляет собой потерю целевого слова как проблему классификации между контекстным словом и отрицательными выборками num_ns ."
   ]
  },
  {
   "cell_type": "markdown",
   "metadata": {
    "id": "Cl0rSfHjt6Mf"
   },
   "source": [
    "Отрицательный образец определяется как пара (target_word, context_word), так что context_word не появляется в окрестности window_size для target_word. Для примера предложения это несколько потенциальных отрицательных выборок (когда window_size равно 2).\n",
    "\n",
    "```\n",
    "(hot, shimmered)\n",
    "(wide, hot)\n",
    "(wide, sun)\n",
    "```"
   ]
  },
  {
   "cell_type": "markdown",
   "metadata": {
    "id": "kq0q2uqbucFg"
   },
   "source": [
    "В следующем разделе вы создадите скип-граммы и отрицательные образцы для одного предложения. Вы также узнаете о методах подвыборки и обучите модель классификации для положительных и отрицательных обучающих примеров позже в этом руководстве."
   ]
  },
  {
   "cell_type": "markdown",
   "metadata": {
    "id": "mk4-Hpe1CH16"
   },
   "source": [
    "## Setup"
   ]
  },
  {
   "cell_type": "code",
   "execution_count": null,
   "metadata": {
    "id": "OSUalgiCchft"
   },
   "outputs": [],
   "source": [
    "!pip install tqdm"
   ]
  },
  {
   "cell_type": "code",
   "execution_count": 1,
   "metadata": {
    "id": "RutaI-Tpev3T"
   },
   "outputs": [],
   "source": [
    "import io\n",
    "import itertools\n",
    "import numpy as np\n",
    "import os\n",
    "import re\n",
    "import string\n",
    "import tensorflow as tf\n",
    "import tqdm\n",
    "\n",
    "from tensorflow.keras import Model, Sequential\n",
    "from tensorflow.keras.layers import Activation, Dense, Dot, Embedding, Flatten, GlobalAveragePooling1D, Reshape\n",
    "from tensorflow.keras.layers.experimental.preprocessing import TextVectorization"
   ]
  },
  {
   "cell_type": "code",
   "execution_count": 2,
   "metadata": {
    "id": "XkJ5299Tek6B"
   },
   "outputs": [],
   "source": [
    "SEED = 42 \n",
    "AUTOTUNE = tf.data.experimental.AUTOTUNE"
   ]
  },
  {
   "cell_type": "markdown",
   "metadata": {
    "id": "RW-g5buCHwh3"
   },
   "source": [
    "### Vectorize an example sentence"
   ]
  },
  {
   "cell_type": "markdown",
   "metadata": {
    "id": "y8TfZIgoQrcP"
   },
   "source": [
    "Рассмотрим следующее предложение:    \n",
    "`The wide road shimmered in the hot sun.`\n",
    "\n",
    "Обозначьте предложение:"
   ]
  },
  {
   "cell_type": "code",
   "execution_count": 3,
   "metadata": {
    "colab": {
     "base_uri": "https://localhost:8080/"
    },
    "id": "bsl7jBzV6_KK",
    "outputId": "6f6ee156-366f-4ffc-9ace-a9089b72d4ab"
   },
   "outputs": [
    {
     "name": "stdout",
     "output_type": "stream",
     "text": [
      "8\n"
     ]
    }
   ],
   "source": [
    "sentence = \"The wide road shimmered in the hot sun\"\n",
    "tokens = list(sentence.lower().split())\n",
    "print(len(tokens))"
   ]
  },
  {
   "cell_type": "code",
   "execution_count": 4,
   "metadata": {},
   "outputs": [
    {
     "data": {
      "text/plain": [
       "['the', 'wide', 'road', 'shimmered', 'in', 'the', 'hot', 'sun']"
      ]
     },
     "execution_count": 4,
     "metadata": {},
     "output_type": "execute_result"
    }
   ],
   "source": [
    "tokens"
   ]
  },
  {
   "cell_type": "markdown",
   "metadata": {
    "id": "PU-bs1XtThEw"
   },
   "source": [
    "Создайте словарь, чтобы сохранять сопоставления токенов с целочисленными индексами.\n",
    "\n"
   ]
  },
  {
   "cell_type": "code",
   "execution_count": 5,
   "metadata": {
    "colab": {
     "base_uri": "https://localhost:8080/"
    },
    "id": "UdYv1HJUQ8XA",
    "outputId": "1032bf17-96f1-4a7b-e438-1ce256a91121"
   },
   "outputs": [
    {
     "name": "stdout",
     "output_type": "stream",
     "text": [
      "{'<pad>': 0, 'the': 1, 'wide': 2, 'road': 3, 'shimmered': 4, 'in': 5, 'hot': 6, 'sun': 7}\n"
     ]
    }
   ],
   "source": [
    "vocab, index = {}, 1 # start indexing from 1\n",
    "vocab['<pad>'] = 0 # add a padding token \n",
    "for token in tokens:\n",
    "    if token not in vocab: \n",
    "        vocab[token] = index\n",
    "        index += 1\n",
    "vocab_size = len(vocab)\n",
    "print(vocab)"
   ]
  },
  {
   "cell_type": "markdown",
   "metadata": {
    "id": "ZpuP43Dddasr"
   },
   "source": [
    "Создайте обратный словарь, чтобы сохранить сопоставления от целочисленных индексов к токенам.\n",
    "\n"
   ]
  },
  {
   "cell_type": "code",
   "execution_count": 6,
   "metadata": {
    "colab": {
     "base_uri": "https://localhost:8080/"
    },
    "id": "o9ULAJYtEvKl",
    "outputId": "1cd90ced-62a1-4810-c771-469fbb79595f"
   },
   "outputs": [
    {
     "name": "stdout",
     "output_type": "stream",
     "text": [
      "{0: '<pad>', 1: 'the', 2: 'wide', 3: 'road', 4: 'shimmered', 5: 'in', 6: 'hot', 7: 'sun'}\n"
     ]
    }
   ],
   "source": [
    "inverse_vocab = {index: token for token, index in vocab.items()}\n",
    "print(inverse_vocab)"
   ]
  },
  {
   "cell_type": "markdown",
   "metadata": {
    "id": "n3qtuyxIRyii"
   },
   "source": [
    "Векторизуйте свое предложение."
   ]
  },
  {
   "cell_type": "code",
   "execution_count": 7,
   "metadata": {
    "colab": {
     "base_uri": "https://localhost:8080/"
    },
    "id": "CsB3-9uQQYyl",
    "outputId": "a87d3134-c567-47eb-a54f-7a52db885a8d"
   },
   "outputs": [
    {
     "name": "stdout",
     "output_type": "stream",
     "text": [
      "[1, 2, 3, 4, 5, 1, 6, 7]\n"
     ]
    }
   ],
   "source": [
    "example_sequence = [vocab[word] for word in tokens]\n",
    "print(example_sequence)"
   ]
  },
  {
   "cell_type": "markdown",
   "metadata": {
    "id": "ox1I28JRIOdM"
   },
   "source": [
    "### Создавайте скип-граммы из одного предложения"
   ]
  },
  {
   "cell_type": "markdown",
   "metadata": {
    "id": "t7NNKAmSiHvy"
   },
   "source": [
    "Модуль tf.keras.preprocessing.sequence предоставляет полезные функции, упрощающие подготовку данных для Word2Vec. Вы можете использовать tf.keras.preprocessing.sequence.skipgrams для генерации пар пропуска-грамм из example_sequence с заданным window_size из токенов в диапазоне [0, vocab_size)\n",
    "\n",
    "Примечание. Для параметра negative_samples установлено значение 0 поскольку для пакетной обработки отрицательных выборок, сгенерированных этой функцией, требуется немного кода. В следующем разделе вы будете использовать другую функцию для выполнения отрицательной выборки.\n"
   ]
  },
  {
   "cell_type": "code",
   "execution_count": 2,
   "metadata": {
    "colab": {
     "base_uri": "https://localhost:8080/"
    },
    "id": "USAJxW4RD7pn",
    "outputId": "f71594bd-10be-4816-d4a2-199c1393a8e6"
   },
   "outputs": [],
   "source": [
    "window_size = 2\n",
    "positive_skip_grams, _ = tf.keras.preprocessing.sequence.skipgrams(\n",
    "      example_sequence, \n",
    "      vocabulary_size=vocab_size,\n",
    "      window_size=window_size,\n",
    "      negative_samples=0)\n",
    "print(len(positive_skip_grams))"
   ]
  },
  {
   "cell_type": "code",
   "execution_count": 10,
   "metadata": {},
   "outputs": [
    {
     "data": {
      "text/plain": [
       "[[1, 2],\n",
       " [7, 1],\n",
       " [3, 2],\n",
       " [1, 4],\n",
       " [5, 6],\n",
       " [3, 5],\n",
       " [1, 7],\n",
       " [1, 5],\n",
       " [5, 1],\n",
       " [6, 5],\n",
       " [2, 1],\n",
       " [3, 4],\n",
       " [5, 3],\n",
       " [4, 2],\n",
       " [6, 1],\n",
       " [7, 6],\n",
       " [4, 1],\n",
       " [1, 3],\n",
       " [3, 1],\n",
       " [6, 7],\n",
       " [4, 3],\n",
       " [2, 3],\n",
       " [5, 4],\n",
       " [1, 6],\n",
       " [2, 4],\n",
       " [4, 5]]"
      ]
     },
     "execution_count": 10,
     "metadata": {},
     "output_type": "execute_result"
    }
   ],
   "source": [
    "positive_skip_grams"
   ]
  },
  {
   "cell_type": "code",
   "execution_count": null,
   "metadata": {},
   "outputs": [],
   "source": []
  },
  {
   "cell_type": "markdown",
   "metadata": {
    "id": "uc9uhiMwY-AQ"
   },
   "source": [
    "Взгляните на несколько положительных скип-грамм."
   ]
  },
  {
   "cell_type": "code",
   "execution_count": 11,
   "metadata": {
    "colab": {
     "base_uri": "https://localhost:8080/"
    },
    "id": "SCnqEukIE9pt",
    "outputId": "ecd59686-eba8-4894-e722-a735b74f42fb"
   },
   "outputs": [
    {
     "name": "stdout",
     "output_type": "stream",
     "text": [
      "(1, 2): (the, wide)\n",
      "(7, 1): (sun, the)\n",
      "(3, 2): (road, wide)\n",
      "(1, 4): (the, shimmered)\n",
      "(5, 6): (in, hot)\n"
     ]
    }
   ],
   "source": [
    "for target, context in positive_skip_grams[:5]:\n",
    "    print(f\"({target}, {context}): ({inverse_vocab[target]}, {inverse_vocab[context]})\")"
   ]
  },
  {
   "cell_type": "markdown",
   "metadata": {
    "id": "_ua9PkMTISF0"
   },
   "source": [
    "### Отрицательная выборка на один скип-грамм"
   ]
  },
  {
   "cell_type": "markdown",
   "metadata": {
    "id": "Esqn8WBfZnEK"
   },
   "source": [
    "Функция skipgrams возвращает все положительные пары skip-gram путем скольжения по заданному промежутку окна. Чтобы создать дополнительные пары скип-грамм, которые будут служить отрицательными образцами для обучения, вам необходимо выбрать случайные слова из словаря. Используйте функцию tf.random.log_uniform_candidate_sampler для выборки числа отрицательных выборок num_ns для данного целевого слова в окне. Вы можете вызвать функцию для целевого слова одной скип-граммы и передать контекстное слово как истинный класс, чтобы исключить его из выборки.\n",
    "\n"
   ]
  },
  {
   "cell_type": "markdown",
   "metadata": {
    "id": "AgH3aSvw3xTD"
   },
   "source": [
    "Ключевой момент: num_ns (количество отрицательных выборок на одно положительное контекстное слово) между [5, 20], как показано, лучше всего работает для небольших наборов данных, тогда как num_ns между [2,5] достаточно для больших наборов данных.\n"
   ]
  },
  {
   "cell_type": "code",
   "execution_count": 12,
   "metadata": {},
   "outputs": [
    {
     "data": {
      "text/plain": [
       "(1, 2)"
      ]
     },
     "execution_count": 12,
     "metadata": {},
     "output_type": "execute_result"
    }
   ],
   "source": [
    "target_word, context_word= positive_skip_grams[0]\n",
    "target_word, context_word"
   ]
  },
  {
   "cell_type": "code",
   "execution_count": 13,
   "metadata": {},
   "outputs": [],
   "source": [
    "context_class = tf.reshape(tf.constant(context_word, dtype=\"int64\"), (1, 1))"
   ]
  },
  {
   "cell_type": "code",
   "execution_count": 14,
   "metadata": {},
   "outputs": [
    {
     "data": {
      "text/plain": [
       "<tf.Tensor: shape=(1, 1), dtype=int64, numpy=array([[2]], dtype=int64)>"
      ]
     },
     "execution_count": 14,
     "metadata": {},
     "output_type": "execute_result"
    }
   ],
   "source": [
    "context_class"
   ]
  },
  {
   "cell_type": "code",
   "execution_count": null,
   "metadata": {},
   "outputs": [],
   "source": []
  },
  {
   "cell_type": "code",
   "execution_count": 15,
   "metadata": {
    "colab": {
     "base_uri": "https://localhost:8080/"
    },
    "id": "m_LmdzqIGr5L",
    "outputId": "0fe4f55b-b218-45cd-9f46-8fd801e21bf5"
   },
   "outputs": [
    {
     "name": "stdout",
     "output_type": "stream",
     "text": [
      "tf.Tensor([2 1 4 3], shape=(4,), dtype=int64)\n",
      "['wide', 'the', 'shimmered', 'road']\n"
     ]
    }
   ],
   "source": [
    "# Get target and context words for one positive skip-gram.\n",
    "target_word, context_word = positive_skip_grams[0]\n",
    "\n",
    "# Set the number of negative samples per positive context. \n",
    "num_ns = 4\n",
    "\n",
    "context_class = tf.reshape(tf.constant(context_word, dtype=\"int64\"), (1, 1))\n",
    "negative_sampling_candidates, _, _ = tf.random.log_uniform_candidate_sampler(\n",
    "    true_classes=context_class, # class that should be sampled as 'positive'\n",
    "    num_true=1, # each positive skip-gram has 1 positive context class\n",
    "    num_sampled=num_ns, # number of negative context words to sample\n",
    "    unique=True, # all the negative samples should be unique\n",
    "    range_max=vocab_size, # pick index of the samples from [0, vocab_size]\n",
    "    seed=SEED, # seed for reproducibility\n",
    "    name=\"negative_sampling\" # name of this operation\n",
    ")\n",
    "print(negative_sampling_candidates)\n",
    "print([inverse_vocab[index.numpy()] for index in negative_sampling_candidates])"
   ]
  },
  {
   "cell_type": "markdown",
   "metadata": {
    "id": "8MSxWCrLIalp"
   },
   "source": [
    "### Создайте один обучающий пример"
   ]
  },
  {
   "cell_type": "markdown",
   "metadata": {
    "id": "Q6uEWdj8vKKv"
   },
   "source": [
    "Для данной положительной (target_word, context_word) skip-граммы теперь у вас также есть num_ns отрицательных выбранных контекстных слов, которые не появляются в окрестности размера окна target_word . Пакетный в 1 положительных context_word и num_ns отрицательные контекстные слова в один тензор. Это дает набор положительных скип-грамм (помеченных как 1 ) и отрицательных выборок (помеченных как 0 ) для каждого целевого слова.\n",
    "\n"
   ]
  },
  {
   "cell_type": "code",
   "execution_count": 26,
   "metadata": {},
   "outputs": [
    {
     "data": {
      "text/plain": [
       "<tf.Tensor: shape=(4, 1), dtype=int64, numpy=\n",
       "array([[2],\n",
       "       [1],\n",
       "       [4],\n",
       "       [3]], dtype=int64)>"
      ]
     },
     "execution_count": 26,
     "metadata": {},
     "output_type": "execute_result"
    }
   ],
   "source": [
    " tf.expand_dims(negative_sampling_candidates, 1)"
   ]
  },
  {
   "cell_type": "code",
   "execution_count": 31,
   "metadata": {},
   "outputs": [
    {
     "data": {
      "text/plain": [
       "<tf.Tensor: shape=(5, 1), dtype=int64, numpy=\n",
       "array([[2],\n",
       "       [1],\n",
       "       [5],\n",
       "       [0],\n",
       "       [4]], dtype=int64)>"
      ]
     },
     "execution_count": 31,
     "metadata": {},
     "output_type": "execute_result"
    }
   ],
   "source": [
    " tf.concat([context_class, negative_sampling_candidates], 0)"
   ]
  },
  {
   "cell_type": "code",
   "execution_count": 32,
   "metadata": {},
   "outputs": [
    {
     "data": {
      "text/plain": [
       "<tf.Tensor: shape=(5,), dtype=int64, numpy=array([1, 0, 0, 0, 0], dtype=int64)>"
      ]
     },
     "execution_count": 32,
     "metadata": {},
     "output_type": "execute_result"
    }
   ],
   "source": [
    "tf.constant([1] + [0]*num_ns, dtype=\"int64\")"
   ]
  },
  {
   "cell_type": "code",
   "execution_count": 16,
   "metadata": {
    "id": "zSiZwifuLvHf"
   },
   "outputs": [],
   "source": [
    "# Add a dimension so you can use concatenation (on the next step).\n",
    "negative_sampling_candidates = tf.expand_dims(negative_sampling_candidates, 1)\n",
    "\n",
    "# Concat positive context word with negative sampled words.\n",
    "context = tf.concat([context_class, negative_sampling_candidates], 0)\n",
    "\n",
    "# Label first context word as 1 (positive) followed by num_ns 0s (negative).\n",
    "label = tf.constant([1] + [0]*num_ns, dtype=\"int64\") \n",
    "\n",
    "# Reshape target to shape (1,) and context and label to (num_ns+1,).\n",
    "target = tf.squeeze(target_word)\n",
    "context = tf.squeeze(context)\n",
    "label =  tf.squeeze(label)"
   ]
  },
  {
   "cell_type": "code",
   "execution_count": null,
   "metadata": {},
   "outputs": [],
   "source": []
  },
  {
   "cell_type": "code",
   "execution_count": 17,
   "metadata": {},
   "outputs": [
    {
     "data": {
      "text/plain": [
       "<tf.Tensor: shape=(4, 1), dtype=int64, numpy=\n",
       "array([[2],\n",
       "       [1],\n",
       "       [4],\n",
       "       [3]], dtype=int64)>"
      ]
     },
     "execution_count": 17,
     "metadata": {},
     "output_type": "execute_result"
    }
   ],
   "source": [
    "negative_sampling_candidates"
   ]
  },
  {
   "cell_type": "markdown",
   "metadata": {
    "id": "OIJeoFCAwtXJ"
   },
   "source": [
    "Взгляните на контекст и соответствующие ярлыки для целевого слова из приведенного выше примера пропуска граммы.\n"
   ]
  },
  {
   "cell_type": "code",
   "execution_count": 18,
   "metadata": {
    "colab": {
     "base_uri": "https://localhost:8080/"
    },
    "id": "tzyCPCuZwmdL",
    "outputId": "13813635-7bc7-42b0-8bbf-55891c58c66b"
   },
   "outputs": [
    {
     "name": "stdout",
     "output_type": "stream",
     "text": [
      "target_index    : 1\n",
      "target_word     : the\n",
      "context_indices : [2 2 1 4 3]\n",
      "context_words   : ['wide', 'wide', 'the', 'shimmered', 'road']\n",
      "label           : [1 0 0 0 0]\n"
     ]
    }
   ],
   "source": [
    "print(f\"target_index    : {target}\")\n",
    "print(f\"target_word     : {inverse_vocab[target_word]}\")\n",
    "print(f\"context_indices : {context}\")\n",
    "print(f\"context_words   : {[inverse_vocab[c.numpy()] for c in context]}\")\n",
    "print(f\"label           : {label}\")"
   ]
  },
  {
   "cell_type": "markdown",
   "metadata": {
    "id": "gBtTcUVQr8EO"
   },
   "source": [
    "Кортеж тензоров (target, context, label) составляет один обучающий пример для обучения вашей модели Word2Vec с отрицательной выборкой с пропуском грамматики. Обратите внимание, что цель имеет форму (1,) а контекст и метка имеют форму (1+num_ns,)\n",
    "\n"
   ]
  },
  {
   "cell_type": "code",
   "execution_count": 35,
   "metadata": {},
   "outputs": [
    {
     "data": {
      "text/plain": [
       "'The wide road shimmered in the hot sun'"
      ]
     },
     "execution_count": 35,
     "metadata": {},
     "output_type": "execute_result"
    }
   ],
   "source": [
    "sentence"
   ]
  },
  {
   "cell_type": "code",
   "execution_count": 34,
   "metadata": {},
   "outputs": [
    {
     "data": {
      "text/plain": [
       "[1, 2, 3, 4, 5, 1, 6, 7]"
      ]
     },
     "execution_count": 34,
     "metadata": {},
     "output_type": "execute_result"
    }
   ],
   "source": [
    "example_sequence"
   ]
  },
  {
   "cell_type": "code",
   "execution_count": 19,
   "metadata": {
    "colab": {
     "base_uri": "https://localhost:8080/"
    },
    "id": "x-FwkR8jx9-Z",
    "outputId": "7f320e9c-2316-40a3-a349-422dff39f3ab"
   },
   "outputs": [
    {
     "name": "stdout",
     "output_type": "stream",
     "text": [
      "target  : tf.Tensor(1, shape=(), dtype=int32)\n",
      "context : tf.Tensor([2 2 1 4 3], shape=(5,), dtype=int64)\n",
      "label   : tf.Tensor([1 0 0 0 0], shape=(5,), dtype=int64)\n"
     ]
    }
   ],
   "source": [
    "print(f\"target  :\", target)\n",
    "print(f\"context :\", context )\n",
    "print(f\"label   :\", label )"
   ]
  },
  {
   "cell_type": "markdown",
   "metadata": {
    "id": "4bRJIlow4Dlv"
   },
   "source": [
    "### Summary"
   ]
  },
  {
   "cell_type": "markdown",
   "metadata": {
    "id": "pWkuha0oykG5"
   },
   "source": [
    "На этом рисунке изображена процедура создания обучающего примера из предложения."
   ]
  },
  {
   "cell_type": "markdown",
   "metadata": {
    "id": "_KlwdiAa9crJ"
   },
   "source": [
    "![word2vec_negative_sampling](https://github.com/tensorflow/docs/blob/master/site/en/tutorials/text/images/word2vec_negative_sampling.png?raw=1)"
   ]
  },
  {
   "cell_type": "markdown",
   "metadata": {
    "id": "9wmdO_MEIpaM"
   },
   "source": [
    "## Скомпилируйте все шаги в одну функцию\n"
   ]
  },
  {
   "cell_type": "markdown",
   "metadata": {
    "id": "iLKwNAczHsKg"
   },
   "source": [
    "### Таблица отбора проб на скип-грамм"
   ]
  },
  {
   "cell_type": "markdown",
   "metadata": {
    "id": "TUUK3uDtFNFE"
   },
   "source": [
    "Большой набор данных означает больший словарный запас с большим количеством более частых слов, таких как стоп-слова. Примеры обучения , полученные от выборки , обычно происходящие слов (например, , the is , on ) не добавляют много полезной информации для модели узнать. Миколов и др. предложите подвыборку часто встречающихся слов в качестве полезной практики для улучшения качества встраивания.\n",
    "\n"
   ]
  },
  {
   "cell_type": "markdown",
   "metadata": {
    "id": "bPtbv7zNP7Dx"
   },
   "source": [
    "Функция tf.keras.preprocessing.sequence.skipgrams принимает аргумент таблицы выборки для кодирования вероятностей выборки любого токена. Вы можете использовать tf.keras.preprocessing.sequence.make_sampling_table для создания таблицы вероятностной выборки на основе частотного ранга и передать ее функции skipgrams . Взгляните на вероятности выборки для параметра vocab_size 10.\n",
    "\n"
   ]
  },
  {
   "cell_type": "code",
   "execution_count": 20,
   "metadata": {
    "id": "Rn9zAnDccyRg"
   },
   "outputs": [
    {
     "name": "stdout",
     "output_type": "stream",
     "text": [
      "[0.00315225 0.00315225 0.00547597 0.00741556 0.00912817 0.01068435\n",
      " 0.01212381 0.01347162 0.01474487 0.0159558 ]\n"
     ]
    }
   ],
   "source": [
    "sampling_table = tf.keras.preprocessing.sequence.make_sampling_table(size=10)\n",
    "print(sampling_table)"
   ]
  },
  {
   "cell_type": "markdown",
   "metadata": {
    "id": "EHvSptcPk5fp"
   },
   "source": [
    "sampling_table[i] обозначает вероятность выборки i-го наиболее распространенного слова в наборе данных. Функция предполагает распределение частот слов по Ципфу для выборки."
   ]
  },
  {
   "cell_type": "markdown",
   "metadata": {
    "id": "mRHMssMmHgH-"
   },
   "source": [
    "Ключевой момент: tf.random.log_uniform_candidate_sampler уже предполагает, что частота словарного запаса соответствует логарифмически равномерному (Zipf's) распределению. Использование этой выборки, взвешенной по распределению, также помогает аппроксимировать потерю контрастной оценки шума (NCE) с помощью более простых функций потерь для обучения отрицательной цели выборки.\n"
   ]
  },
  {
   "cell_type": "markdown",
   "metadata": {
    "id": "aj--8RFK6fgW"
   },
   "source": [
    "### Создавать обучающие данные"
   ]
  },
  {
   "cell_type": "markdown",
   "metadata": {
    "id": "dy5hl4lQ0B2M"
   },
   "source": [
    "Скомпилируйте все шаги, описанные выше, в функцию, которую можно вызвать для списка векторизованных предложений, полученных из любого набора текстовых данных. Обратите внимание, что таблица выборки создается до выборки пар слов с пропуском грамма. Вы будете использовать эту функцию в следующих разделах.\n",
    "\n"
   ]
  },
  {
   "cell_type": "code",
   "execution_count": null,
   "metadata": {},
   "outputs": [],
   "source": []
  },
  {
   "cell_type": "code",
   "execution_count": 22,
   "metadata": {
    "id": "63INISDEX1Hu"
   },
   "outputs": [],
   "source": [
    "# Generates skip-gram pairs with negative sampling for a list of sequences\n",
    "# (int-encoded sentences) based on window size, number of negative samples\n",
    "# and vocabulary size.\n",
    "def generate_training_data(sequences, window_size, num_ns, vocab_size, seed):\n",
    "  # Elements of each training example are appended to these lists.\n",
    "  targets, contexts, labels = [], [], []\n",
    "\n",
    "  # Build the sampling table for vocab_size tokens.\n",
    "  sampling_table = tf.keras.preprocessing.sequence.make_sampling_table(vocab_size)\n",
    "\n",
    "  # Iterate over all sequences (sentences) in dataset.\n",
    "  for sequence in tqdm.tqdm(sequences):\n",
    "\n",
    "    # Generate positive skip-gram pairs for a sequence (sentence).\n",
    "    positive_skip_grams, _ = tf.keras.preprocessing.sequence.skipgrams(\n",
    "          sequence, \n",
    "          vocabulary_size=vocab_size,\n",
    "          sampling_table=sampling_table,\n",
    "          window_size=window_size,\n",
    "          negative_samples=0)\n",
    "    \n",
    "    # Iterate over each positive skip-gram pair to produce training examples \n",
    "    # with positive context word and negative samples.\n",
    "    for target_word, context_word in positive_skip_grams:\n",
    "      context_class = tf.expand_dims(\n",
    "          tf.constant([context_word], dtype=\"int64\"), 1)\n",
    "      negative_sampling_candidates, _, _ = tf.random.log_uniform_candidate_sampler(\n",
    "          true_classes=context_class,\n",
    "          num_true=1, \n",
    "          num_sampled=num_ns, \n",
    "          unique=True, \n",
    "          range_max=vocab_size, \n",
    "          seed=SEED, \n",
    "          name=\"negative_sampling\")\n",
    "      \n",
    "      # Build context and label vectors (for one target word)\n",
    "      negative_sampling_candidates = tf.expand_dims(\n",
    "          negative_sampling_candidates, 1)\n",
    "\n",
    "      context = tf.concat([context_class, negative_sampling_candidates], 0)\n",
    "      label = tf.constant([1] + [0]*num_ns, dtype=\"int64\")\n",
    "\n",
    "      # Append each element from the training example to global lists.\n",
    "      targets.append(target_word)\n",
    "      contexts.append(context)\n",
    "      labels.append(label)\n",
    "\n",
    "  return targets, contexts, labels"
   ]
  },
  {
   "cell_type": "markdown",
   "metadata": {
    "id": "shvPC8Ji2cMK"
   },
   "source": [
    "## Подготовить обучающие данные для Word2Vec"
   ]
  },
  {
   "cell_type": "markdown",
   "metadata": {
    "id": "j5mbZsZu6uKg"
   },
   "source": [
    "Зная, как работать с одним предложением для модели Word2Vec на основе отрицательной выборки с пропуском грамм, вы можете приступить к созданию обучающих примеров из большего списка предложений!\n",
    "\n"
   ]
  },
  {
   "cell_type": "markdown",
   "metadata": {
    "id": "OFlikI6L26nh"
   },
   "source": [
    "### Download text corpus\n"
   ]
  },
  {
   "cell_type": "markdown",
   "metadata": {
    "id": "rEFavOgN98al"
   },
   "source": [
    "Для этого урока вы будете использовать текстовый файл, написанный Шекспиром. Измените следующую строку, чтобы запустить этот код на ваших собственных данных.\n",
    "\n"
   ]
  },
  {
   "cell_type": "code",
   "execution_count": 23,
   "metadata": {
    "id": "QFkitxzVVaAi"
   },
   "outputs": [
    {
     "name": "stdout",
     "output_type": "stream",
     "text": [
      "Downloading data from https://storage.googleapis.com/download.tensorflow.org/data/shakespeare.txt\n",
      "1122304/1115394 [==============================] - 0s 0us/step\n"
     ]
    }
   ],
   "source": [
    "path_to_file = tf.keras.utils.get_file('shakespeare.txt', 'https://storage.googleapis.com/download.tensorflow.org/data/shakespeare.txt')"
   ]
  },
  {
   "cell_type": "markdown",
   "metadata": {
    "id": "sOsbLq8a37dr"
   },
   "source": [
    "Прочтите текст из файла и посмотрите на первые несколько строк.\n",
    "\n"
   ]
  },
  {
   "cell_type": "code",
   "execution_count": 24,
   "metadata": {
    "id": "lfgnsUw3ofMD"
   },
   "outputs": [
    {
     "name": "stdout",
     "output_type": "stream",
     "text": [
      "First Citizen:\n",
      "Before we proceed any further, hear me speak.\n",
      "\n",
      "All:\n",
      "Speak, speak.\n",
      "\n",
      "First Citizen:\n",
      "You are all resolved rather to die than to famish?\n",
      "\n",
      "All:\n",
      "Resolved. resolved.\n",
      "\n",
      "First Citizen:\n",
      "First, you know Caius Marcius is chief enemy to the people.\n",
      "\n",
      "All:\n",
      "We know't, we know't.\n",
      "\n",
      "First Citizen:\n",
      "Let us kill him, and we'll have corn at our own price.\n"
     ]
    }
   ],
   "source": [
    "with open(path_to_file) as f: \n",
    "  lines = f.read().splitlines()\n",
    "for line in lines[:20]:\n",
    "  print(line)"
   ]
  },
  {
   "cell_type": "markdown",
   "metadata": {
    "id": "gTNZYqUs5C2V"
   },
   "source": [
    "Используйте непустые строки для tf.data.TextLineDataset объекта tf.data.TextLineDataset для следующих шагов.\n",
    "\n"
   ]
  },
  {
   "cell_type": "code",
   "execution_count": 25,
   "metadata": {
    "id": "ViDrwy-HjAs9"
   },
   "outputs": [],
   "source": [
    "text_ds = tf.data.TextLineDataset(path_to_file).filter(lambda x: tf.cast(tf.strings.length(x), bool))"
   ]
  },
  {
   "cell_type": "code",
   "execution_count": 29,
   "metadata": {},
   "outputs": [
    {
     "data": {
      "text/plain": [
       "'C:\\\\Users\\\\lqw\\\\.keras\\\\datasets\\\\shakespeare.txt'"
      ]
     },
     "execution_count": 29,
     "metadata": {},
     "output_type": "execute_result"
    }
   ],
   "source": [
    "path_to_file"
   ]
  },
  {
   "cell_type": "markdown",
   "metadata": {
    "id": "vfsc88zE9upk"
   },
   "source": [
    "### Векторизовать предложения из корпуса"
   ]
  },
  {
   "cell_type": "markdown",
   "metadata": {
    "id": "XfgZo8zR94KK"
   },
   "source": [
    "Вы можете использовать слой TextVectorization для векторизации предложений из корпуса. Узнайте больше об использовании этого слоя в этом руководстве по классификации текста . Обратите внимание на несколько первых предложений выше, что текст должен быть в одном регистре и пунктуация должна быть удалена. Для этого определите функцию custom_standardization function которую можно использовать в слое TextVectorization.\n",
    "\n"
   ]
  },
  {
   "cell_type": "code",
   "execution_count": 63,
   "metadata": {
    "id": "2MlsXzo-ZlfK"
   },
   "outputs": [],
   "source": [
    "# We create a custom standardization function to lowercase the text and \n",
    "# remove punctuation.\n",
    "def custom_standardization(input_data):\n",
    "  lowercase = tf.strings.lower(input_data)\n",
    "  return tf.strings.regex_replace(lowercase,\n",
    "                                  '[%s]' % re.escape(string.punctuation), '')\n",
    "\n",
    "# Define the vocabulary size and number of words in a sequence.\n",
    "vocab_size = 4096\n",
    "sequence_length = 10\n",
    "\n",
    "# Use the text vectorization layer to normalize, split, and map strings to\n",
    "# integers. Set output_sequence_length length to pad all samples to same length.\n",
    "vectorize_layer = TextVectorization(\n",
    "    standardize=custom_standardization,\n",
    "    max_tokens=vocab_size,\n",
    "    output_mode='int',\n",
    "    output_sequence_length=sequence_length)"
   ]
  },
  {
   "cell_type": "markdown",
   "metadata": {
    "id": "g92LuvnyBmz1"
   },
   "source": [
    "Для создания словаря вызовите adapt текстового набора данных.\n",
    "\n"
   ]
  },
  {
   "cell_type": "code",
   "execution_count": 60,
   "metadata": {},
   "outputs": [
    {
     "data": {
      "text/plain": [
       "'!\"#$%&\\'()*+,-./:;<=>?@[\\\\]^_`{|}~'"
      ]
     },
     "execution_count": 60,
     "metadata": {},
     "output_type": "execute_result"
    }
   ],
   "source": [
    "string.punctuation"
   ]
  },
  {
   "cell_type": "code",
   "execution_count": 61,
   "metadata": {},
   "outputs": [],
   "source": [
    "a = iter(text_ds)"
   ]
  },
  {
   "cell_type": "code",
   "execution_count": 62,
   "metadata": {},
   "outputs": [
    {
     "data": {
      "text/plain": [
       "<tf.Tensor: shape=(), dtype=string, numpy=b'First Citizen:'>"
      ]
     },
     "execution_count": 62,
     "metadata": {},
     "output_type": "execute_result"
    }
   ],
   "source": [
    "a.next()"
   ]
  },
  {
   "cell_type": "code",
   "execution_count": 64,
   "metadata": {
    "id": "seZau_iYMPFT"
   },
   "outputs": [],
   "source": [
    "vectorize_layer.adapt(text_ds.batch(1024))"
   ]
  },
  {
   "cell_type": "markdown",
   "metadata": {
    "id": "jg2z7eeHMnH-"
   },
   "source": [
    "После того, как состояние слоя было адаптировано для представления текстового корпуса, словарь может быть доступен с помощью get_vocabulary() . Эта функция возвращает список всех лексем лексики, отсортированных (по убыванию) по их частоте.\n",
    "\n"
   ]
  },
  {
   "cell_type": "code",
   "execution_count": 65,
   "metadata": {
    "id": "jgw9pTA7MRaU"
   },
   "outputs": [
    {
     "name": "stdout",
     "output_type": "stream",
     "text": [
      "['', '[UNK]', 'the', 'and', 'to', 'i', 'of', 'you', 'my', 'a', 'that', 'in', 'is', 'not', 'for', 'with', 'me', 'it', 'be', 'your']\n"
     ]
    }
   ],
   "source": [
    "# Save the created vocabulary for reference.\n",
    "inverse_vocab = vectorize_layer.get_vocabulary()\n",
    "print(inverse_vocab[:20])"
   ]
  },
  {
   "cell_type": "markdown",
   "metadata": {
    "id": "DOQ30Tx6KA2G"
   },
   "source": [
    "Vectorize_layer теперь можно использовать для генерации векторов для каждого элемента в text_ds ."
   ]
  },
  {
   "cell_type": "code",
   "execution_count": 66,
   "metadata": {
    "id": "yUVYrDp0araQ"
   },
   "outputs": [],
   "source": [
    "def vectorize_text(text):\n",
    "  text = tf.expand_dims(text, -1)\n",
    "  return tf.squeeze(vectorize_layer(text))\n",
    "\n",
    "# Vectorize the data in text_ds.\n",
    "text_vector_ds = text_ds.batch(1024).prefetch(AUTOTUNE).map(vectorize_layer).unbatch()"
   ]
  },
  {
   "cell_type": "code",
   "execution_count": null,
   "metadata": {},
   "outputs": [],
   "source": []
  },
  {
   "cell_type": "markdown",
   "metadata": {
    "id": "7YyH_SYzB72p"
   },
   "source": [
    "### Получить последовательности из набора данных"
   ]
  },
  {
   "cell_type": "markdown",
   "metadata": {
    "id": "NFUQLX0_KaRC"
   },
   "source": [
    "Теперь у вас естьtf.data.Dataset целочисленных предложений. Чтобы подготовить набор данных для обучения модели Word2Vec, сведите набор данных в список последовательностей векторов предложений. Этот шаг необходим, поскольку вы будете перебирать каждое предложение в наборе данных для получения положительных и отрицательных примеров. \n",
    "\n",
    "Примечание. Поскольку функция generate_training_data() определенная ранее, использует функции python / numpy, отличные от TF, вы также можете использовать tf.py_function или tf.numpy_function с tf.data.Dataset.map() .\n"
   ]
  },
  {
   "cell_type": "code",
   "execution_count": 69,
   "metadata": {
    "id": "sGXoOh9y11pM"
   },
   "outputs": [
    {
     "name": "stdout",
     "output_type": "stream",
     "text": [
      "32777\n"
     ]
    }
   ],
   "source": [
    "sequences = list(text_vector_ds.as_numpy_iterator())\n",
    "print(len(sequences))"
   ]
  },
  {
   "cell_type": "code",
   "execution_count": 70,
   "metadata": {},
   "outputs": [
    {
     "data": {
      "text/plain": [
       "[array([ 89, 270,   0,   0,   0,   0,   0,   0,   0,   0], dtype=int64),\n",
       " array([138,  36, 982, 144, 673, 125,  16, 106,   0,   0], dtype=int64),\n",
       " array([34,  0,  0,  0,  0,  0,  0,  0,  0,  0], dtype=int64),\n",
       " array([106, 106,   0,   0,   0,   0,   0,   0,   0,   0], dtype=int64),\n",
       " array([ 89, 270,   0,   0,   0,   0,   0,   0,   0,   0], dtype=int64),\n",
       " array([   7,   41,   34, 1286,  344,    4,  200,   64,    4, 3690],\n",
       "       dtype=int64),\n",
       " array([34,  0,  0,  0,  0,  0,  0,  0,  0,  0], dtype=int64),\n",
       " array([1286, 1286,    0,    0,    0,    0,    0,    0,    0,    0],\n",
       "       dtype=int64),\n",
       " array([ 89, 270,   0,   0,   0,   0,   0,   0,   0,   0], dtype=int64),\n",
       " array([  89,    7,   93, 1187,  225,   12, 2442,  592,    4,    2],\n",
       "       dtype=int64),\n",
       " array([34,  0,  0,  0,  0,  0,  0,  0,  0,  0], dtype=int64),\n",
       " array([  36, 2655,   36, 2655,    0,    0,    0,    0,    0,    0],\n",
       "       dtype=int64),\n",
       " array([ 89, 270,   0,   0,   0,   0,   0,   0,   0,   0], dtype=int64),\n",
       " array([  72,   79,  506,   27,    3,   56,   24, 1390,   57,   40],\n",
       "       dtype=int64),\n",
       " array([644,   9,   1,   0,   0,   0,   0,   0,   0,   0], dtype=int64),\n",
       " array([34,  0,  0,  0,  0,  0,  0,  0,  0,  0], dtype=int64),\n",
       " array([  32,   54, 2863,  885,   72,   17,   18,  163,  146,  146],\n",
       "       dtype=int64),\n",
       " array([165, 270,   0,   0,   0,   0,   0,   0,   0,   0], dtype=int64),\n",
       " array([ 74, 218,  46, 595,   0,   0,   0,   0,   0,   0], dtype=int64),\n",
       " array([ 89, 270,   0,   0,   0,   0,   0,   0,   0,   0], dtype=int64),\n",
       " array([  36,   41,    1,  172,  595,    2, 1780,   46,    0,    0],\n",
       "       dtype=int64),\n",
       " array([  29, 1323,    1,   47,   58,    1,   79,   39,   60,    0],\n",
       "       dtype=int64),\n",
       " array([ 58, 573,  79,  22,   2,   1, 334,  17,  76,   0], dtype=int64),\n",
       " array([1870,   36,  258, 1026,   60,    1,   79,    1,    0,    0],\n",
       "       dtype=int64),\n",
       " array([ 22,  60, 131,  36,  41, 100, 267,   2,   1,  10], dtype=int64),\n",
       " array([   1,   79,    2, 2346,    6,   40, 1540,   12,   25,   88],\n",
       "       dtype=int64),\n",
       " array([ 1,  4,  1, 65,  1, 40,  0,  0,  0,  0], dtype=int64),\n",
       " array([2871,   12,    9, 1375,    4,   66,   72,   79,  625,   21],\n",
       "       dtype=int64),\n",
       " array([ 40,   1, 251,  36, 662,   1,  14,   2, 260,  93], dtype=int64),\n",
       " array([ 106,   21,   11,    1,   14, 2461,   13,   11, 3329,   14],\n",
       "       dtype=int64),\n",
       " array([165, 270,   0,   0,   0,   0,   0,   0,   0,   0], dtype=int64),\n",
       " array([  58,    7,  982, 3696,  170, 1187,  225,    0,    0,    0],\n",
       "       dtype=int64),\n",
       " array([34,  0,  0,  0,  0,  0,  0,  0,  0,  0], dtype=int64),\n",
       " array([ 170,   27,   89,  339,    9,  157, 1033,    4,    2,    1],\n",
       "       dtype=int64),\n",
       " array([165, 270,   0,   0,   0,   0,   0,   0,   0,   0], dtype=int64),\n",
       " array([1834,    7,   29, 1519,   23,  320,  163,   14,   20,  659],\n",
       "       dtype=int64),\n",
       " array([ 89, 270,   0,   0,   0,   0,   0,   0,   0,   0], dtype=int64),\n",
       " array([157,  56,   3, 231,  18, 496,   4, 102,  27,  46], dtype=int64),\n",
       " array([ 556, 1169,   22,   10,   23, 3500,  245,   15,  145,  450],\n",
       "       dtype=int64),\n",
       " array([165, 270,   0,   0,   0,   0,   0,   0,   0,   0], dtype=int64),\n",
       " array([181,  22, 106,  13,   1,   0,   0,   0,   0,   0], dtype=int64),\n",
       " array([ 89, 270,   0,   0,   0,   0,   0,   0,   0,   0], dtype=int64),\n",
       " array([  5,  71, 214,   7,  29,  23,  70, 163,   1,  23], dtype=int64),\n",
       " array([ 17,   4,  10, 384, 171,   1, 153, 115,  18,   0], dtype=int64),\n",
       " array([496,   4,  71,  17,  59,  14,  20, 659,  23,  95], dtype=int64),\n",
       " array([ 303,   20,  223,    3,    4,   18, 1781,  450,   53,   23],\n",
       "       dtype=int64),\n",
       " array([ 12, 196, 184,   2,   1,   6,  20, 638,   0,   0], dtype=int64),\n",
       " array([165, 270,   0,   0,   0,   0,   0,   0,   0,   0], dtype=int64),\n",
       " array([  29,   23,  142,  309,   11,   20,  408,    7, 1199,    9],\n",
       "       dtype=int64),\n",
       " array([1206,   11,   27,    7,   86,   11,   32,  177,   71,   23],\n",
       "       dtype=int64),\n",
       " array([ 89, 270,   0,   0,   0,   0,   0,   0,   0,   0], dtype=int64),\n",
       " array([  39,    5,   86,   13,    5,  451,   13,   18, 2022,    6],\n",
       "       dtype=int64),\n",
       " array([  23,   70,  742,   15,    1,    4, 3322,   11, 3431,    0],\n",
       "       dtype=int64),\n",
       " array([  29, 4083,   41,  104,    2,  205,  649,   48,    2,  445],\n",
       "       dtype=int64),\n",
       " array([  12,    1,   90,  188,   36, 2956,   62,    4,    2, 1319],\n",
       "       dtype=int64),\n",
       " array([34,  0,  0,  0,  0,  0,  0,  0,  0,  0], dtype=int64),\n",
       " array([49, 49,  0,  0,  0,  0,  0,  0,  0,  0], dtype=int64),\n",
       " array([ 89, 270,   0,   0,   0,   0,   0,   0,   0,   0], dtype=int64),\n",
       " array([752, 103, 194,  62,   0,   0,   0,   0,   0,   0], dtype=int64),\n",
       " array([165, 270,   0,   0,   0,   0,   0,   0,   0,   0], dtype=int64),\n",
       " array([ 446,  154,    1,   74,   10,   70, 1196,  712,    0,    0],\n",
       "       dtype=int64),\n",
       " array([  2, 307,   0,   0,   0,   0,   0,   0,   0,   0], dtype=int64),\n",
       " array([ 89, 270,   0,   0,   0,   0,   0,   0,   0,   0], dtype=int64),\n",
       " array([339,  74, 605, 394,  58,  34,   2, 257,  76,  28], dtype=int64),\n",
       " array([154,   0,   0,   0,   0,   0,   0,   0,   0,   0], dtype=int64),\n",
       " array([  29,    1,    8, 2208,   11,  158,   97,   75,    7,    0],\n",
       "       dtype=int64),\n",
       " array([ 15,   1,   3,   1,   2, 390, 106,   5, 160,   7], dtype=int64),\n",
       " array([ 89, 270,   0,   0,   0,   0,   0,   0,   0,   0], dtype=int64),\n",
       " array([  40,  388,   12,   13, 1504,    4,    2, 1520,   60,   24],\n",
       "       dtype=int64),\n",
       " array([  92,    1,   21,    1,   29,   36, 1368,    4,   42,    0],\n",
       "       dtype=int64),\n",
       " array([ 53,  44,  56, 315, 847,  11, 780,  60,  71, 172], dtype=int64),\n",
       " array([2089,   24,  751,    1,   60,   37,   93,   36,    0,    0],\n",
       "       dtype=int64),\n",
       " array([ 24, 751, 395, 100,   0,   0,   0,   0,   0,   0], dtype=int64),\n",
       " array([154,   0,   0,   0,   0,   0,   0,   0,   0,   0], dtype=int64),\n",
       " array([  90,  628,    8,   46,  208,  109,  605, 1942,    0,    0],\n",
       "       dtype=int64),\n",
       " array([  31,    7, 2840,  969,    0,    0,    0,    0,    0,    0],\n",
       "       dtype=int64),\n",
       " array([ 89, 270,   0,   0,   0,   0,   0,   0,   0,   0], dtype=int64),\n",
       " array([  36,  142,   51,   36,   41, 1268,  702,    0,    0,    0],\n",
       "       dtype=int64),\n",
       " array([154,   0,   0,   0,   0,   0,   0,   0,   0,   0], dtype=int64),\n",
       " array([  5, 117,   7, 208, 120,   1, 497,   0,   0,   0], dtype=int64),\n",
       " array([  24,    2, 1780,    6,    7,   14,   19, 1610,    0,    0],\n",
       "       dtype=int64),\n",
       " array([  19, 2870,   11,   21, 3136,    7,   78,   25,   56,    0],\n",
       "       dtype=int64),\n",
       " array([ 537,   57,    2,  182,   15,   19,    1,   25, 1954,   66],\n",
       "       dtype=int64),\n",
       " array([170,   2, 820, 329, 202, 690,  31,  47,   0,   0], dtype=int64),\n",
       " array([   2,  177,   17, 1623, 3150,  610,  352,    1,    0,    0],\n",
       "       dtype=int64),\n",
       " array([  6,  54, 751,   1,   1,  64, 115, 195,   0,   0], dtype=int64),\n",
       " array([ 787,   11,   19, 3612,   14,    2, 3136,    0,    0,    0],\n",
       "       dtype=int64),\n",
       " array([   2,  260,   13,    2, 1780,   80,   17,    3,    0,    0],\n",
       "       dtype=int64),\n",
       " array([ 19, 987,   4,  66,  13, 395,  86, 309, 833,   0], dtype=int64),\n",
       " array([   7,   41, 3314,   33, 3193,    0,    0,    0,    0,    0],\n",
       "       dtype=int64),\n",
       " array([ 770,   97,   54,    1,    7,    3,    7, 1346,    0,    0],\n",
       "       dtype=int64),\n",
       " array([  2,   1,  48,   2, 329, 103, 497,  14,   7,  84], dtype=int64),\n",
       " array([ 73,   7, 699,  66,  25, 658,   0,   0,   0,   0], dtype=int64),\n",
       " array([ 89, 270,   0,   0,   0,   0,   0,   0,   0,   0], dtype=int64),\n",
       " array([497,  14,  79, 139, 310,  60, 439,   1,  14,  79], dtype=int64),\n",
       " array([  82, 1052,   79,    4, 3690,    3,   65,    1,    0,    0],\n",
       "       dtype=int64),\n",
       " array([   1,   15, 2402,   80,    1,   14,    1,    4,    0,    0],\n",
       "       dtype=int64),\n",
       " array([3347,    1, 3432, 1830,  144, 1870,  968,    0,    0,    0],\n",
       "       dtype=int64),\n",
       " array([   1,  170,    2,  683,    3, 2322,   54,    0,    0,    0],\n",
       "       dtype=int64),\n",
       " array([2336, 2883, 1830,    4,    1,  111,    3,    1,    0,    0],\n",
       "       dtype=int64),\n",
       " array([   2,  172,   39,    2,  664, 1126,   79,   13,  111,   60],\n",
       "       dtype=int64),\n",
       " array([413,  34,   2,  77,  60, 203,  79,   0,   0,   0], dtype=int64),\n",
       " array([154,   0,   0,   0,   0,   0,   0,   0,   0,   0], dtype=int64),\n",
       " array([478,   7,  86,   0,   0,   0,   0,   0,   0,   0], dtype=int64),\n",
       " array([ 691,  969, 1729,    1,    0,    0,    0,    0,    0,    0],\n",
       "       dtype=int64),\n",
       " array([  52,   18, 1861,    6, 1696,    5,   37,  117,    7,    0],\n",
       "       dtype=int64),\n",
       " array([  9, 798, 639,  17,  78,  18,   7,  24, 311,  17], dtype=int64),\n",
       " array([  22,  228,   17, 1636,    8,  502,    5,   31, 2834,    0],\n",
       "       dtype=int64),\n",
       " array([   4, 2279,  818,    9,  234,   54,    0,    0,    0,    0],\n",
       "       dtype=int64),\n",
       " array([ 89, 270,   0,   0,   0,   0,   0,   0,   0,   0], dtype=int64),\n",
       " array([ 56,  67, 125,  17,  51,  82,   7,  86,  13, 131], dtype=int64),\n",
       " array([   1,  219,   40, 1991,   15,    9,  639,   22,   88,  818],\n",
       "       dtype=int64),\n",
       " array([  7, 959,   0,   0,   0,   0,   0,   0,   0,   0], dtype=int64),\n",
       " array([154,   0,   0,   0,   0,   0,   0,   0,   0,   0], dtype=int64),\n",
       " array([  85,   59,    9,  118,   73,   34,    2, 1842, 2636,    0],\n",
       "       dtype=int64),\n",
       " array([   1,  170,    2, 1490,  141, 1861,   17,    0,    0,    0],\n",
       "       dtype=int64),\n",
       " array([  10,  337,   84,    9, 3643,   17,   95, 1016,    0,    0],\n",
       "       dtype=int64),\n",
       " array([   5,    2, 3002,   48,    2,  407, 1119,    3,    1,    0],\n",
       "       dtype=int64),\n",
       " array([ 227,    1,    2,    1,  134, 1597,    0,    0,    0,    0],\n",
       "       dtype=int64),\n",
       " array([  84, 1072,   15,    2,  257,   97,    2,  205, 1681,    0],\n",
       "       dtype=int64),\n",
       " array([  95,   98,    3,  125, 1384, 1683, 1007,  808,    0,    0],\n",
       "       dtype=int64),\n",
       " array([   3,    1,    1,   95, 1670,    0,    0,    0,    0,    0],\n",
       "       dtype=int64),\n",
       " array([ 214,    2, 2031,    3, 1198,  572,    0,    0,    0,    0],\n",
       "       dtype=int64),\n",
       " array([   6,    2, 1329,  407,    2, 1490, 2481,    0,    0,    0],\n",
       "       dtype=int64),\n",
       " array([ 89, 270,   0,   0,   0,   0,   0,   0,   0,   0], dtype=int64),\n",
       " array([  56,   51,   29,  351,  128,    2, 1490,    0,    0,    0],\n",
       "       dtype=int64),\n",
       " array([154,   0,   0,   0,   0,   0,   0,   0,   0,   0], dtype=int64),\n",
       " array([  51,    5,   37,  117,    7,   15,    9,  409,    6, 1058],\n",
       "       dtype=int64),\n",
       " array([  53,  439,  285,   50,    2, 3566,   22,  196,  141,    0],\n",
       "       dtype=int64),\n",
       " array([  14,  155,    7,    5,   78,   80,    2, 1490, 1058,    0],\n",
       "       dtype=int64),\n",
       " array([  25,   56,   25,    1,    1, 3430,    0,    0,    0,    0],\n",
       "       dtype=int64),\n",
       " array([   4,    2, 2722, 2636,    2, 2628, 1363,    0,    0,    0],\n",
       "       dtype=int64),\n",
       " array([ 10,   1,  20,   1, 196,  28, 120,   1,   0,   0], dtype=int64),\n",
       " array([  25,    7,    1,   40, 1281,   14,   10,    0,    0,    0],\n",
       "       dtype=int64),\n",
       " array([ 60,  41,  13, 110,  25,   7,   0,   0,   0,   0], dtype=int64),\n",
       " array([ 89, 270,   0,   0,   0,   0,   0,   0,   0,   0], dtype=int64),\n",
       " array([ 19,   1, 351,  29,   0,   0,   0,   0,   0,   0], dtype=int64),\n",
       " array([  2,   1, 210,   2,   1, 349,   0,   0,   0,   0], dtype=int64),\n",
       " array([   2, 3154,  133,    2,  596,   40,  733,    0,    0,    0],\n",
       "       dtype=int64),\n",
       " array([  40, 2881,    2, 3036,    2,  266,   40,    1,    0,    0],\n",
       "       dtype=int64),\n",
       " array([  15,  205,    1,    3, 2611, 2675,    0,    0,    0,    0],\n",
       "       dtype=int64),\n",
       " array([11, 21, 40,  1, 39, 10, 60,  0,  0,  0], dtype=int64),\n",
       " array([154,   0,   0,   0,   0,   0,   0,   0,   0,   0], dtype=int64),\n",
       " array([29, 55,  0,  0,  0,  0,  0,  0,  0,  0], dtype=int64),\n",
       " array([1814,   16,   21,  383,  910,   29,   55,   29,   55,    0],\n",
       "       dtype=int64),\n",
       " array([ 89, 270,   0,   0,   0,   0,   0,   0,   0,   0], dtype=int64),\n",
       " array([  87,   33,    2,    1, 1490,   18,    1,    0,    0,    0],\n",
       "       dtype=int64),\n",
       " array([ 103,   12,    2, 1631,   48,    2,  407,    0,    0,    0],\n",
       "       dtype=int64),\n",
       " array([154,   0,   0,   0,   0,   0,   0,   0,   0,   0], dtype=int64),\n",
       " array([56, 29, 55,  0,  0,  0,  0,  0,  0,  0], dtype=int64),\n",
       " array([ 89, 270,   0,   0,   0,   0,   0,   0,   0,   0], dtype=int64),\n",
       " array([   2, 1306,    1,   39,   60,   95, 2004,    0,    0,    0],\n",
       "       dtype=int64),\n",
       " array([  29,  231,    2, 1490,  351,    0,    0,    0,    0,    0],\n",
       "       dtype=int64),\n",
       " array([154,   0,   0,   0,   0,   0,   0,   0,   0,   0], dtype=int64),\n",
       " array([  5,  31, 117,   7,   0,   0,   0,   0,   0,   0], dtype=int64),\n",
       " array([  39,  585, 3820,    9,    1,   29,    7,   24,  234,    0],\n",
       "       dtype=int64),\n",
       " array([601, 850, 585, 125,   2,   1, 351,   0,   0,   0], dtype=int64),\n",
       " array([ 89, 270,   0,   0,   0,   0,   0,   0,   0,   0], dtype=int64),\n",
       " array([3258,  244,  301,   17,    0,    0,    0,    0,    0,    0],\n",
       "       dtype=int64),\n",
       " array([154,   0,   0,   0,   0,   0,   0,   0,   0,   0], dtype=int64),\n",
       " array([887,  16,  21,  46, 328,   0,   0,   0,   0,   0], dtype=int64),\n",
       " array([  19,  120,  392, 1490,   59,    1,    0,    0,    0,    0],\n",
       "       dtype=int64),\n",
       " array([  13, 1920,   84,   20,    1,    3,  141, 2481,    0,    0],\n",
       "       dtype=int64),\n",
       " array([ 139,   12,   17,    8,    1,  208, 1017,   23,    0,    0],\n",
       "       dtype=int64),\n",
       " array([  10,    5, 1218,    2,  580, 1978,   57,   89,    0,    0],\n",
       "       dtype=int64),\n",
       " array([ 53,   7,  42, 189,  81,   3, 741,  17,  12,   0], dtype=int64),\n",
       " array([ 471,    5,   69,    2,    1,    3,    2, 2561,    0,    0],\n",
       "       dtype=int64),\n",
       " array([   6,    2, 1329,  407,   22,   39,    7,   42,  532,    0],\n",
       "       dtype=int64),\n",
       " array([  5, 415,  17, 473,   2, 531,   6,  19, 147,   0], dtype=int64),\n",
       " array([196,   4,   2, 675,   2, 133,   4,   2, 979,  48], dtype=int64),\n",
       " array([   3,  473,    2,    1,    3, 2343,    6,   94,    0,    0],\n",
       "       dtype=int64),\n",
       " array([   2,    1,    1,    3,  882, 3604, 1736,    0,    0,    0],\n",
       "       dtype=int64),\n",
       " array([  50,   16, 1218,   10, 1538,    1,    0,    0,    0,    0],\n",
       "       dtype=int64),\n",
       " array([3891,   60,  189,    3,  171,   10,   34,   57,  240,    0],\n",
       "       dtype=int64),\n",
       " array([   7,    8,   46,    1,  500,    2, 1490,  543,   16,    0],\n",
       "       dtype=int64),\n",
       " array([ 89, 270,   0,   0,   0,   0,   0,   0,   0,   0], dtype=int64),\n",
       " array([137,  51,  56,  56,   0,   0,   0,   0,   0,   0], dtype=int64),\n",
       " array([154,   0,   0,   0,   0,   0,   0,   0,   0,   0], dtype=int64),\n",
       " array([171,  34,  57, 240, 142,   0,   0,   0,   0,   0], dtype=int64),\n",
       " array([ 98,  29,   5,  42, 959, 112,   4, 524,   0,   0], dtype=int64),\n",
       " array([ 82,   5, 115,  80,   8,   1, 111,  10,  34,   0], dtype=int64),\n",
       " array([  50,   16,   42,  300, 1218,    2,    1,    6,   34,    0],\n",
       "       dtype=int64),\n",
       " array([  3, 168,  16,  22,   2,   1,  29,  71,   7, 817], dtype=int64),\n",
       " array([ 89, 270,   0,   0,   0,   0,   0,   0,   0,   0], dtype=int64),\n",
       " array([  17,   59,   88,  351,   61, 3845,    7,   21,    0,    0],\n",
       "       dtype=int64),\n",
       " array([154,   0,   0,   0,   0,   0,   0,   0,   0,   0], dtype=int64),\n",
       " array([   2, 1281,    6,  302,   41,   21,   46, 1490,    0,    0],\n",
       "       dtype=int64),\n",
       " array([   3,    7,    2, 2628, 2636,   14,    1,    0,    0,    0],\n",
       "       dtype=int64),\n",
       " array([  65, 2742,    3,   65, 1318, 3723,  389,    1,    0,    0],\n",
       "       dtype=int64),\n",
       " array([2525,    2, 3279,   48,    2,  572,    7,   37,  281,    0],\n",
       "       dtype=int64),\n",
       " array([  32, 2118, 1396,   53,    7, 1218,    0,    0,    0,    0],\n",
       "       dtype=int64),\n",
       " array([ 22,  17,   1,  52, 194,  50,  66,   4,   7,   0], dtype=int64),\n",
       " array([  3,  32, 177,  50, 969,  29,  42,   7, 131,   0], dtype=int64),\n",
       " array([   7,    2,  169, 3320,    6,   21,    1,    0,    0,    0],\n",
       "       dtype=int64),\n",
       " array([ 89, 270,   0,   0,   0,   0,   0,   0,   0,   0], dtype=int64),\n",
       " array([   5,    2,  169, 3320,   90,    2,  169, 3320,    0,    0],\n",
       "       dtype=int64),\n",
       " array([154,   0,   0,   0,   0,   0,   0,   0,   0,   0], dtype=int64),\n",
       " array([ 14,  10, 145,  74,  48,   2,   1,   1,   1,   0], dtype=int64),\n",
       " array([   6,   21,  120,  790, 2115,   26, 3649,    1,    0,    0],\n",
       "       dtype=int64),\n",
       " array([  26, 1921,   10,  129,  852,   11,  147,    4,  682,    0],\n",
       "       dtype=int64),\n",
       " array([   1,   89,    4,  766,   99, 1331,    0,    0,    0,    0],\n",
       "       dtype=int64),\n",
       " array([  22,   80,    7,  501,   19, 2879,    1,    3,    1,    0],\n",
       "       dtype=int64),\n",
       " array([ 302,    3,   38, 3447,   41,   57,    2,  626,    6,  786],\n",
       "       dtype=int64),\n",
       " array([  2,  74, 649,  86,  24,   1,   0,   0,   0,   0], dtype=int64),\n",
       " array([1454,  152,  225,    0,    0,    0,    0,    0,    0,    0],\n",
       "       dtype=int64),\n",
       " array([225,   0,   0,   0,   0,   0,   0,   0,   0,   0], dtype=int64),\n",
       " array([527, 327,   2, 390,   7,   1,   1,   0,   0,   0], dtype=int64),\n",
       " array([  10,    1,    2,  172,    1,    6,   19, 1440,    0,    0],\n",
       "       dtype=int64),\n",
       " array([ 80, 969,   1,   0,   0,   0,   0,   0,   0,   0], dtype=int64),\n",
       " array([ 89, 270,   0,   0,   0,   0,   0,   0,   0,   0], dtype=int64),\n",
       " array([ 36,  24, 195,  19,  46, 218,   0,   0,   0,   0], dtype=int64),\n",
       " array([225,   0,   0,   0,   0,   0,   0,   0,   0,   0], dtype=int64),\n",
       " array([  23,   10,   31,  102,   46,  248,    4,   43,   31, 1124],\n",
       "       dtype=int64),\n",
       " array([ 1,  1, 29, 58,  7, 24,  7,  1,  0,  0], dtype=int64),\n",
       " array([ 10,  84, 123, 212, 123, 373,   2,  74,   1,   7], dtype=int64),\n",
       " array([  2, 205, 308,   7, 450,  23,  10,   1,   4,   7], dtype=int64),\n",
       " array([  97,   23,   87,  281,    7, 3027, 1697,    7,    1,    0],\n",
       "       dtype=int64),\n",
       " array([97,  1,  1,  7, 41, 32,  1, 32,  0,  0], dtype=int64),\n",
       " array([  64,   12,    2,    1,    6,  477,   81,    2, 2669,    0],\n",
       "       dtype=int64),\n",
       " array([ 52,   1,  11,   2, 374,  19, 638,  12,   0,   0], dtype=int64),\n",
       " array([  4,  80,  27, 446, 202, 886,   1,  27,   0,   0], dtype=int64),\n",
       " array([  3, 699,  10, 466,  95,  17,   0,   0,   0,   0], dtype=int64),\n",
       " array([ 103, 1472, 2174,    0,    0,    0,    0,    0,    0,    0],\n",
       "       dtype=int64),\n",
       " array([1472,   19,  391,    3,   19, 1722,   41,    0,    0,    0],\n",
       "       dtype=int64),\n",
       " array([   9, 1013,  775, 2031,  103, 1703,  120,   10,    0,    0],\n",
       "       dtype=int64),\n",
       " array([  53,   58, 1962,   20, 1175,   23,   10,    1,    0,    0],\n",
       "       dtype=int64),\n",
       " array([  81,   19, 2414,    1,   15,    1,    6,  951,    0,    0],\n",
       "       dtype=int64),\n",
       " array([   3,    1,  174,    1,   15, 2922,  829,  563,  599,  563],\n",
       "       dtype=int64),\n",
       " array([  15,  282, 2358,    7,   42,  661,    9,  319,    0,    0],\n",
       "       dtype=int64),\n",
       " array([  3, 185,  27, 152,  10,  59,  44,  19, 391,   0], dtype=int64),\n",
       " array([  27, 1138,   10,   59,   19, 2176,  327,    2,  390,    0],\n",
       "       dtype=int64),\n",
       " array([  10,   11,  104, 1423, 2124,    6,    2,  445,    0,    0],\n",
       "       dtype=int64),\n",
       " array([   7,  535,  170,    2,  152, 1520,  103,    0,    0,    0],\n",
       "       dtype=int64),\n",
       " array([480,   2, 260, 273,   7,  11,   1,  53, 252,   0], dtype=int64),\n",
       " array([  58, 1817,   47,   74,  356,  327,   65, 2568,    0,    0],\n",
       "       dtype=int64),\n",
       " array([154,   0,   0,   0,   0,   0,   0,   0,   0,   0], dtype=int64),\n",
       " array([  14, 1390,   57,   65,  161,    1, 1203,   60,   71,    0],\n",
       "       dtype=int64),\n",
       " array([  2, 445,  12,  56,   1,   0,   0,   0,   0,   0], dtype=int64),\n",
       " array([225,   0,   0,   0,   0,   0,   0,   0,   0,   0], dtype=int64),\n",
       " array([829, 847,  60,  71,   0,   0,   0,   0,   0,   0], dtype=int64),\n",
       " array([1745,  458,   33,    2,  477,    3, 2604,    4,   93,    0],\n",
       "       dtype=int64),\n",
       " array([ 327,  163,    5,    2, 1319, 1202,   84,    4,  981,    0],\n",
       "       dtype=int64),\n",
       " array([103,   1,   3, 103,   1, 649,   1,   0,   0,   0], dtype=int64),\n",
       " array([  3, 102, 112,   0,   0,   0,   0,   0,   0,   0], dtype=int64),\n",
       " array([   1,    1, 1069, 2617,  751,    0,    0,    0,    0,    0],\n",
       "       dtype=int64),\n",
       " array([   3,    1,  110,   25,  190,   13,   11,   65, 2372,    0],\n",
       "       dtype=int64),\n",
       " array([1717,   65,    1, 2562,   60,   71,  413,    0,    0,    0],\n",
       "       dtype=int64),\n",
       " array([2402,  394,    0,    0,    0,    0,    0,    0,    0,    0],\n",
       "       dtype=int64),\n",
       " array([  58,    2, 2347,  362,  934,   65,    1,    0,    0,    0],\n",
       "       dtype=int64),\n",
       " array([  3,  72,  16, 364,   8, 465,  67,  80,   9,   1], dtype=int64),\n",
       " array([  15, 2853,    6,  104,    1, 1760,   25,  467,    0,    0],\n",
       "       dtype=int64),\n",
       " array([  25,    5,  231,    1,    8, 3580,    0,    0,    0,    0],\n",
       "       dtype=int64),\n",
       " array([154,   0,   0,   0,   0,   0,   0,   0,   0,   0], dtype=int64),\n",
       " array([181, 104,  41, 788,   1,   1,   0,   0,   0,   0], dtype=int64),\n",
       " array([  14,  171,    1,   60, 1071,    1,    0,    0,    0,    0],\n",
       "       dtype=int64),\n",
       " array([  82,   41,   60, 1362, 2739,   22,    5,  369,    7,    0],\n",
       "       dtype=int64),\n",
       " array([  29,  500,    2,  205, 2520,    0,    0,    0,    0,    0],\n",
       "       dtype=int64),\n",
       " array([225,   0,   0,   0,   0,   0,   0,   0,   0,   0], dtype=int64),\n",
       " array([ 60,  41,   1, 829, 847,   0,   0,   0,   0,   0], dtype=int64),\n",
       " array([  60,  279,   60,   76,    1, 3388,  284,    1,    0,    0],\n",
       "       dtype=int64),\n",
       " array([  10,    1,  963, 1146, 1098,   10, 1827,   86, 1126,    0],\n",
       "       dtype=int64),\n",
       " array([  10, 1160,   59,  128,   14, 1945,   10,    2,  260,  530],\n",
       "       dtype=int64),\n",
       " array([1390,   14,    2,  683,  153,  337,   15,  104,    1,    0],\n",
       "       dtype=int64),\n",
       " array([  60,    1,   65,    1,   53,  145, 2481,    0,    0,    0],\n",
       "       dtype=int64),\n",
       " array([   3,    9, 2612, 1687,   66,    9,  517,   74,    0,    0],\n",
       "       dtype=int64),\n",
       " array([  4, 488,   2, 133,   6,   1,   0,   0,   0,   0], dtype=int64),\n",
       " array([   3,   80,  719,  264,  155,    1, 2852,   65, 2450,    0],\n",
       "       dtype=int64),\n",
       " array([ 25,  60,  58, 829,  66,  47,   2,   1,  48,   2], dtype=int64),\n",
       " array([ 1, 65,  1,  0,  0,  0,  0,  0,  0,  0], dtype=int64),\n",
       " array([154,   0,   0,   0,   0,   0,   0,   0,   0,   0], dtype=int64),\n",
       " array([  29,   12, 1687,   66,    0,    0,    0,    0,    0,    0],\n",
       "       dtype=int64),\n",
       " array([225,   0,   0,   0,   0,   0,   0,   0,   0,   0], dtype=int64),\n",
       " array([ 831,  692,    4,  927,   65, 3913,    1,    0,    0,    0],\n",
       "       dtype=int64),\n",
       " array([   6,   65,  161, 1247, 1221,    1,  293,    0,    0,    0],\n",
       "       dtype=int64),\n",
       " array([232,   1,   3,   5,  93,   1,   0,   0,   0,   0], dtype=int64),\n",
       " array([  2,   1,  87,  24,  89,   1,   2, 445,   0,   0], dtype=int64),\n",
       " array([ 251,   28, 2330,   15,   16,   17,   31,   11,  118,    0],\n",
       "       dtype=int64),\n",
       " array([766,  81, 264,   3, 769, 284, 865,   1,   0,   0], dtype=int64),\n",
       " array([14,  1,  1,  0,  0,  0,  0,  0,  0,  0], dtype=int64),\n",
       " array([154,   0,   0,   0,   0,   0,   0,   0,   0,   0], dtype=int64),\n",
       " array([ 21,  12, 517,   0,   0,   0,   0,   0,   0,   0], dtype=int64),\n",
       " array([225,   0,   0,   0,   0,   0,   0,   0,   0,   0], dtype=int64),\n",
       " array([ 75, 410,   7, 287,   7,   1,   0,   0,   0,   0], dtype=int64),\n",
       " array([462,   0,   0,   0,   0,   0,   0,   0,   0,   0], dtype=int64),\n",
       " array([ 972, 1187,  225,    0,    0,    0,    0,    0,    0,    0],\n",
       "       dtype=int64),\n",
       " array([225,   0,   0,   0,   0,   0,   0,   0,   0,   0], dtype=int64),\n",
       " array([ 62, 327,   2, 390,   0,   0,   0,   0,   0,   0], dtype=int64),\n",
       " array([462,   0,   0,   0,   0,   0,   0,   0,   0,   0], dtype=int64),\n",
       " array([   2,  229,   12,   51,    2, 1099,   41,   11,  395,    0],\n",
       "       dtype=int64),\n",
       " array([225,   0,   0,   0,   0,   0,   0,   0,   0,   0], dtype=int64),\n",
       " array([  5,  69, 991,  47, 818,  55,  36,  37, 590, 433], dtype=int64),\n",
       " array([  40, 3530,    1,   98,   40,  262,    1,    0,    0,    0],\n",
       "       dtype=int64),\n",
       " array([ 89, 567,   0,   0,   0,   0,   0,   0,   0,   0], dtype=int64),\n",
       " array([ 225,   96,  139,   10,    7,   24, 2378,  448,   79,    0],\n",
       "       dtype=int64),\n",
       " array([   2, 1099,   41,   11,  395,    0,    0,    0,    0,    0],\n",
       "       dtype=int64),\n",
       " array([225,   0,   0,   0,   0,   0,   0,   0,   0,   0], dtype=int64),\n",
       " array([60, 24,  9,  1,  0,  0,  0,  0,  0,  0], dtype=int64),\n",
       " array([2067,  342,   10,   31,  239,    7,    4,  818,    0,    0],\n",
       "       dtype=int64),\n",
       " array([   5,  565,   11,    1,   20, 2347,    0,    0,    0,    0],\n",
       "       dtype=int64),\n",
       " array([  3,  76,   5, 144, 238,  22,  29,   5,  69,   0], dtype=int64),\n",
       " array([  5,  58, 456,  16, 337,  23,   0,   0,   0,   0], dtype=int64),\n",
       " array([323,   0,   0,   0,   0,   0,   0,   0,   0,   0], dtype=int64),\n",
       " array([   7,   24, 1030,  463,    0,    0,    0,    0,    0,    0],\n",
       "       dtype=int64),\n",
       " array([225,   0,   0,   0,   0,   0,   0,   0,   0,   0], dtype=int64),\n",
       " array([ 76, 630,   4, 630,   2, 187,  33,   2, 511,   3], dtype=int64),\n",
       " array([  81,    8, 1155, 1229, 2306,    4,   80,    0,    0,    0],\n",
       "       dtype=int64),\n",
       " array([ 337,    8,  664,   15,   27,   23,   12,    9, 1792,    0],\n",
       "       dtype=int64),\n",
       " array([  10,    5,   69,  450,    4, 2160,    0,    0,    0,    0],\n",
       "       dtype=int64),\n",
       " array([ 89, 567,   0,   0,   0,   0,   0,   0,   0,   0], dtype=int64),\n",
       " array([ 55, 446, 225,   0,   0,   0,   0,   0,   0,   0], dtype=int64),\n",
       " array([765,  81, 323,   4, 104, 664,   0,   0,   0,   0], dtype=int64),\n",
       " array([323,   0,   0,   0,   0,   0,   0,   0,   0,   0], dtype=int64),\n",
       " array([  17,   12,   19, 1306,  839,    0,    0,    0,    0,    0],\n",
       "       dtype=int64),\n",
       " array([225,   0,   0,   0,   0,   0,   0,   0,   0,   0], dtype=int64),\n",
       " array([51, 17, 12,  0,  0,  0,  0,  0,  0,  0], dtype=int64),\n",
       " array([   3,    5,   69, 2001, 1505,  778,   26,    0,    0,    0],\n",
       "       dtype=int64),\n",
       " array([ 361,   98,   16,  240,   54,  537,   57, 2067,  246,    0],\n",
       "       dtype=int64),\n",
       " array([  29,  129,   26, 2879, 4041,  112,    0,    0,    0,    0],\n",
       "       dtype=int64),\n",
       " array([1505,    0,    0,    0,    0,    0,    0,    0,    0,    0],\n",
       "       dtype=int64),\n",
       " array([  32, 1187,  225,    0,    0,    0,    0,    0,    0,    0],\n",
       "       dtype=int64),\n",
       " array([  67, 2376,   81,   74,    1,    3,  421,   15,    1,    0],\n",
       "       dtype=int64),\n",
       " array([251, 188, 932,  21, 388,   0,   0,   0,   0,   0], dtype=int64),\n",
       " array([154,   0,   0,   0,   0,   0,   0,   0,   0,   0], dtype=int64),\n",
       " array([48,  1,  0,  0,  0,  0,  0,  0,  0,  0], dtype=int64),\n",
       " array([ 89, 567,   0,   0,   0,   0,   0,   0,   0,   0], dtype=int64),\n",
       " array([  19,  634,    4,    2, 1319,   97,    5,   93,    0,    0],\n",
       "       dtype=int64),\n",
       " array([  40, 1807,  208,  765,   79,    0,    0,    0,    0,    0],\n",
       "       dtype=int64),\n",
       " array([1505,    0,    0,    0,    0,    0,    0,    0,    0,    0],\n",
       "       dtype=int64),\n",
       " array([323,   0,   0,   0,   0,   0,   0,   0,   0,   0], dtype=int64),\n",
       " array([152, 225,   0,   0,   0,   0,   0,   0,   0,   0], dtype=int64),\n",
       " array([ 89, 567,   0,   0,   0,   0,   0,   0,   0,   0], dtype=int64),\n",
       " array([225,   0,   0,   0,   0,   0,   0,   0,   0,   0], dtype=int64),\n",
       " array([181,  72,  66, 427,   0,   0,   0,   0,   0,   0], dtype=int64),\n",
       " array([   2, 1099,   24,  132, 1390,  105,  104, 3447,  770,    0],\n",
       "       dtype=int64),\n",
       " array([   4,    1,   65,    1, 3262,    1,    0,    0,    0,    0],\n",
       "       dtype=int64),\n",
       " array([  19, 1139, 1653,   56,  284,  160,  427,    0,    0,    0],\n",
       "       dtype=int64),\n",
       " array([232,   0,   0,   0,   0,   0,   0,   0,   0,   0], dtype=int64),\n",
       " array([ 59, 195,  94,  28, 450,  25,  12,  21, 225,   0], dtype=int64),\n",
       " array([293,   0,   0,   0,   0,   0,   0,   0,   0,   0], dtype=int64),\n",
       " array([  23,  320,   32, 1822,    0,    0,    0,    0,    0,    0],\n",
       "       dtype=int64),\n",
       " array([232,   0,   0,   0,   0,   0,   0,   0,   0,   0], dtype=int64),\n",
       " array([  73,   36,   76, 2759,  692,   14,    2,  307,    0,    0],\n",
       "       dtype=int64),\n",
       " array([293,   0,   0,   0,   0,   0,   0,   0,   0,   0], dtype=int64),\n",
       " array([2143,    7,   20, 1446,    3,  186,    0,    0,    0,    0],\n",
       "       dtype=int64),\n",
       " array([232,   0,   0,   0,   0,   0,   0,   0,   0,   0], dtype=int64),\n",
       " array([ 181,   22,   20, 2860,    0,    0,    0,    0,    0,    0],\n",
       "       dtype=int64),\n",
       " array([293,   0,   0,   0,   0,   0,   0,   0,   0,   0], dtype=int64),\n",
       " array([ 145, 1022,   23,   31,   13, 1344,    4,    1,    2,  260],\n",
       "       dtype=int64),\n",
       " array([232,   0,   0,   0,   0,   0,   0,   0,   0,   0], dtype=int64),\n",
       " array([   1,    2, 2354,  841,    0,    0,    0,    0,    0,    0],\n",
       "       dtype=int64),\n",
       " array([293,   0,   0,   0,   0,   0,   0,   0,   0,   0], dtype=int64),\n",
       " array([   2,  432,  664,    1,   27,   23,   12, 1168,    0,    0],\n",
       "       dtype=int64),\n",
       " array([100, 450,   4,  18,  28, 794,   0,   0,   0,   0], dtype=int64),\n",
       " array([232,   0,   0,   0,   0,   0,   0,   0,   0,   0], dtype=int64),\n",
       " array([110,   9, 408,   0,   0,   0,   0,   0,   0,   0], dtype=int64),\n",
       " array([   1,   15,   46, 1417,    1,    2, 1422,    0,    0,    0],\n",
       "       dtype=int64),\n",
       " array([  53,   23,    1,   47,   57, 3516,   22,    5,   42,  789],\n",
       "       dtype=int64),\n",
       " array([  20, 3601,  115, 2009,    4,   18, 1482,    0,    0,    0],\n",
       "       dtype=int64),\n",
       " array([480, 323,   0,   0,   0,   0,   0,   0,   0,   0], dtype=int64),\n",
       " array([293,   0,   0,   0,   0,   0,   0,   0,   0,   0], dtype=int64),\n",
       " array([1569,   57,    2,   53,   23, 3244,    0,    0,    0,    0],\n",
       "       dtype=int64),\n",
       " array([  11,  241,  702,  339,   56, 2403,  115,   13,    0,    0],\n",
       "       dtype=int64),\n",
       " array([216,  18, 828, 123,  54,   1,  64,  33,   0,   0], dtype=int64),\n",
       " array([   9,  318, 1717,    2,   89,   14,   29,    1,    0,    0],\n",
       "       dtype=int64),\n",
       " array([  37,   18,    2,    1,  591,  171,   23, 1533,    0,    0],\n",
       "       dtype=int64),\n",
       " array([   4,    2, 2837,    6,    9,   94,    3, 2406, 2447,    0],\n",
       "       dtype=int64),\n",
       " array([ 31,  55, 535, 112,   6, 225,  48,  39,  23,   0], dtype=int64),\n",
       " array([  92, 1395,    2,  388,    0,    0,    0,    0,    0,    0],\n",
       "       dtype=int64),\n",
       " array([232,   0,   0,   0,   0,   0,   0,   0,   0,   0], dtype=int64),\n",
       " array([872,  39, 389,  75,  56,   0,   0,   0,   0,   0], dtype=int64),\n",
       " array([1440,   10,   28,    1,   47,  225,   37,    0,    0,    0],\n",
       "       dtype=int64),\n",
       " array([   6,   20,    1, 2928,  323,    0,    0,    0,    0,    0],\n",
       "       dtype=int64),\n",
       " array([293,   0,   0,   0,   0,   0,   0,   0,   0,   0], dtype=int64),\n",
       " array([49,  0,  0,  0,  0,  0,  0,  0,  0,  0], dtype=int64),\n",
       " array([630,  34, 323, 805,  41,   4, 225,   0,   0,   0], dtype=int64),\n",
       " array([171, 225,   1,  66,  13,   3,  34,  20, 742,   0], dtype=int64),\n",
       " array([  4, 225,  37,  18, 805, 171, 310,   0,   0,   0], dtype=int64),\n",
       " array([  11, 1401,   23, 1949,   13,    0,    0,    0,    0,    0],\n",
       "       dtype=int64),\n",
       " array([232,   0,   0,   0,   0,   0,   0,   0,   0,   0], dtype=int64),\n",
       " array([291, 224,   3, 125,   0,   0,   0,   0,   0,   0], dtype=int64),\n",
       " array([  61,    2, 1034,   12,  128,    3,   11,   29, 2415,    0],\n",
       "       dtype=int64),\n",
       " array([ 54,  64,  20,   1,  23, 714,   0,   0,   0,   0], dtype=int64),\n",
       " array([ 81,  21, 432, 936,   0,   0,   0,   0,   0,   0], dtype=int64),\n",
       " array([293,   0,   0,   0,   0,   0,   0,   0,   0,   0], dtype=int64),\n",
       " array([291, 703,   0,   0,   0,   0,   0,   0,   0,   0], dtype=int64),\n",
       " array([ 89, 567,   0,   0,   0,   0,   0,   0,   0,   0], dtype=int64),\n",
       " array([  28,   19, 1440,   12,  342,    0,    0,    0,    0,    0],\n",
       "       dtype=int64),\n",
       " array([  10,   60,    6,  302,   41,    1,   11,   40, 2742,    0],\n",
       "       dtype=int64),\n",
       " array([  3,  93,  61,  36, 982,   0,   0,   0,   0,   0], dtype=int64),\n",
       " array([342,   0,   0,   0,   0,   0,   0,   0,   0,   0], dtype=int64),\n",
       " array([ 12,  17,  13, 429,   0,   0,   0,   0,   0,   0], dtype=int64),\n",
       " array([ 29, 195,  24, 151, 314,  47,  11,  21, 329,   0], dtype=int64),\n",
       " array([ 10, 231,  18, 536,   4,   1, 968, 251, 302,   0], dtype=int64),\n",
       " array([ 92,   1,  96,  13, 956, 418, 220,   0,   0,   0], dtype=int64),\n",
       " array([228,   5, 311, 730, 104,  41,   2, 248,   5, 131], dtype=int64),\n",
       " array([  5,  24,   2, 985,  62, 609,  62,  17,  12,   0], dtype=int64),\n",
       " array([  60,   24, 2605,    9,  264,   22,   17,   12,   13,  604],\n",
       "       dtype=int64),\n",
       " array([ 815,   14, 1699,   52, 2499,    2, 3136,   12,  169,    0],\n",
       "       dtype=int64),\n",
       " array([   2,  307, 2628,    3,   17,   12,    1,    0,    0,    0],\n",
       "       dtype=int64),\n",
       " array([323, 225,  19, 180, 592,   0,   0,   0,   0,   0], dtype=int64),\n",
       " array([ 103,   12,    6,  302,  637, 2168,   64,    6,    7,    0],\n",
       "       dtype=int64),\n",
       " array([   3, 1505,  778,    9,  120,  794,  820,    0,    0,    0],\n",
       "       dtype=int64),\n",
       " array([104, 403, 951,  47,  21,   1,   0,   0,   0,   0], dtype=int64),\n",
       " array([ 878,   96, 2779,  120, 2150,   96,   14,    7,    0,    0],\n",
       "       dtype=int64),\n",
       " array([1834,    6,   17,    0,    0,    0,    0,    0,    0,    0],\n",
       "       dtype=int64),\n",
       " array([ 89, 567,   0,   0,   0,   0,   0,   0,   0,   0], dtype=int64),\n",
       " array([ 40,   1,  11,   2, 657,   0,   0,   0,   0,   0], dtype=int64),\n",
       " array([ 36, 134,  82, 128, 469,  22, 302,  59, 501,   0], dtype=int64),\n",
       " array([  4, 351,  79,   0,   0,   0,   0,   0,   0,   0], dtype=int64),\n",
       " array([342,   0,   0,   0,   0,   0,   0,   0,   0,   0], dtype=int64),\n",
       " array([ 123,   95,    7,  131,   17, 1696,    0,    0,    0,    0],\n",
       "       dtype=int64),\n",
       " array([  4, 273,  19, 169,   1,   1, 184,  73,   0,   0], dtype=int64),\n",
       " array([ 60, 888,  86, 315, 680,  53,   0,   0,   0,   0], dtype=int64),\n",
       " array([11,  2,  1,  0,  0,  0,  0,  0,  0,  0], dtype=int64),\n",
       " array([  17, 2108,    1,    4,  302,   33,    2,    1,    0,    0],\n",
       "       dtype=int64),\n",
       " array([  36,   37,   18,    1,   11,   40, 2799,   53,   59,    0],\n",
       "       dtype=int64),\n",
       " array([   4,  105,   11,  193, 2524,  251,  788,  302,    0,    0],\n",
       "       dtype=int64),\n",
       " array([  87,   93,   36,   76, 3858,    0,    0,    0,    0,    0],\n",
       "       dtype=int64),\n",
       " array([165, 567,   0,   0,   0,   0,   0,   0,   0,   0], dtype=int64),\n",
       " array([152, 342,   0,   0,   0,   0,   0,   0,   0,   0], dtype=int64),\n",
       " array([ 105,   19, 1836, 1304,    7,    4,   19, 2473,    0,    0],\n",
       "       dtype=int64),\n",
       " array([  72,   79,  525,    4, 1232, 1185,    0,    0,    0,    0],\n",
       "       dtype=int64),\n",
       " array([  39,   60,  243,  174,  138, 1424,   14,    2, 1916,    0],\n",
       "       dtype=int64),\n",
       " array([ 272,   19, 1095,   22,    5,  131,  585,  281,    0,    0],\n",
       "       dtype=int64),\n",
       " array([   1,   13, 1358,   14,   79,    0,    0,    0,    0,    0],\n",
       "       dtype=int64),\n",
       " array([342,   0,   0,   0,   0,   0,   0,   0,   0,   0], dtype=int64),\n",
       " array([ 48, 469,  13,  10,   0,   0,   0,   0,   0,   0], dtype=int64),\n",
       " array([  5, 106,  50,   1, 181,  54,   0,   0,   0,   0], dtype=int64),\n",
       " array([ 99,   1,   6,  65, 264,  41, 284, 702,   0,   0], dtype=int64),\n",
       " array([  3, 337,   1,   5, 168,  19, 805,   0,   0,   0], dtype=int64),\n",
       " array([  39,   36,    3, 1187,  225,  869,    4,  358,    0,    0],\n",
       "       dtype=int64),\n",
       " array([ 96, 694, 700,  79,  36,  37, 195, 537,   0,   0], dtype=int64),\n",
       " array([184,  74, 115,  42,  32,  54,   0,   0,   0,   0], dtype=int64),\n",
       " array([34,  0,  0,  0,  0,  0,  0,  0,  0,  0], dtype=int64),\n",
       " array([   2,  260, 2028,    7,    0,    0,    0,    0,    0,    0],\n",
       "       dtype=int64),\n",
       " array([342,   0,   0,   0,   0,   0,   0,   0,   0,   0], dtype=int64),\n",
       " array([   3,  273,   19,  805, 1110,    0,    0,    0,    0,    0],\n",
       "       dtype=int64),\n",
       " array([ 89, 567,   0,   0,   0,   0,   0,   0,   0,   0], dtype=int64),\n",
       " array([269,   0,   0,   0,   0,   0,   0,   0,   0,   0], dtype=int64),\n",
       " array([165, 567,   0,   0,   0,   0,   0,   0,   0,   0], dtype=int64),\n",
       " array([269,   0,   0,   0,   0,   0,   0,   0,   0,   0], dtype=int64),\n",
       " array([34,  0,  0,  0,  0,  0,  0,  0,  0,  0], dtype=int64),\n",
       " array([269,   0,   0,   0,   0,   0,   0,   0,   0,   0], dtype=int64),\n",
       " array([436,   0,   0,   0,   0,   0,   0,   0,   0,   0], dtype=int64),\n",
       " array([   5,  160,    7,  236, 1278,   52, 1820,  428,   11,    9],\n",
       "       dtype=int64),\n",
       " array([  54, 3763, 1057,   39,    8,  122,   76,    8,  326,    5],\n",
       "       dtype=int64),\n",
       " array([  87,    1, 2312,   11,   10, 1324,  767,   23,    0,    0],\n",
       "       dtype=int64),\n",
       " array([904, 173,  64,  11,   2,   1,   6,  20, 401,  97], dtype=int64),\n",
       " array([ 23,  58, 315, 120,  77,  73,  82,  23,  59,  22], dtype=int64),\n",
       " array([  1,   3,   2, 337, 122,   6,   8, 971,  73,   0], dtype=int64),\n",
       " array([ 647,   15,    1,    1,   34, 2175,   20,  177,   73,    0],\n",
       "       dtype=int64),\n",
       " array([  14,    9,  159,    6,  377, 2707,    9,  223,   87,   13],\n",
       "       dtype=int64),\n",
       " array([1903,   27,   88,  380,   50,   38, 2018,    5,    1,    0],\n",
       "       dtype=int64),\n",
       " array([ 61, 173,  58, 662, 110,   9, 557,  10,  17,  59], dtype=int64),\n",
       " array([  32,  216,   64,    1,    4,  829,   33,    2, 1264,   39],\n",
       "       dtype=int64),\n",
       " array([   1,  128,   17,   13,  881,   59, 1293,    4,   72,   27],\n",
       "       dtype=int64),\n",
       " array([ 997,   97,   23,   59,   84,    4,  281, 1569,    4,    9],\n",
       "       dtype=int64),\n",
       " array([ 373,    5,  530,   27,   50,  791,   23, 3419,   20, 1320],\n",
       "       dtype=int64),\n",
       " array([ 619,   15, 2131,    5,  117,   43,  236,    5,    1,   13],\n",
       "       dtype=int64),\n",
       " array([ 54,  11, 367,  57,  89, 845,  23,  59,   9,   1], dtype=int64),\n",
       " array([  64,   44,   11,   89, 1351,   23,   92, 2597,  245,    9],\n",
       "       dtype=int64),\n",
       " array([94,  0,  0,  0,  0,  0,  0,  0,  0,  0], dtype=int64),\n",
       " array([837,   0,   0,   0,   0,   0,   0,   0,   0,   0], dtype=int64),\n",
       " array([  22,   92,   23, 1035,   11,    2,  388,  259,   61,   55],\n",
       "       dtype=int64),\n",
       " array([436,   0,   0,   0,   0,   0,   0,   0,   0,   0], dtype=int64),\n",
       " array([ 55,  20,  46, 556,  87,  24, 151,   8, 122,   5], dtype=int64),\n",
       " array([1104,   58,   24,  559,  713,  125,   16, 2325,    0,    0],\n",
       "       dtype=int64),\n",
       " array([   1,   92,    5,    9, 2421,  600,  524,   11,    8,   77],\n",
       "       dtype=int64),\n",
       " array([1721,    3,  255,  376,  267,   64,  249,    3,    8,   46],\n",
       "       dtype=int64),\n",
       " array([ 225,    5,   92,  344,   92, 2191,  200, 1784,   14,   65],\n",
       "       dtype=int64),\n",
       " array([ 659,   64,   74,    1, 3345,  112,    6,  936,    0,    0],\n",
       "       dtype=int64),\n",
       " array([1373,    0,    0,    0,    0,    0,    0,    0,    0,    0],\n",
       "       dtype=int64),\n",
       " array([ 259,    2,  121, 1140,   12,   49,    4,  938,    7,    0],\n",
       "       dtype=int64),\n",
       " array([837,   0,   0,   0,   0,   0,   0,   0,   0,   0], dtype=int64),\n",
       " array([ 369,    7,  102,   16,  168,    4, 1915,  166,    0,    0],\n",
       "       dtype=int64),\n",
       " array([436,   0,   0,   0,   0,   0,   0,   0,   0,   0], dtype=int64),\n",
       " array([310,   7,  37,  13,   0,   0,   0,   0,   0,   0], dtype=int64),\n",
       " array([ 653,    5,  125,  338,   19, 1369, 1469,    0,    0,    0],\n",
       "       dtype=int64),\n",
       " array([  98,   27,  709,  342,  174,   33,    2, 1231,    0,    0],\n",
       "       dtype=int64),\n",
       " array([  25,  486,   50,    9,  203,    2, 1099,    1,   27,    0],\n",
       "       dtype=int64),\n",
       " array([ 653,    5,   98,   27, 2544,  141,    3,  185,  141,    0],\n",
       "       dtype=int64),\n",
       " array([ 49,  47,   7,   1,   7,  76, 807,  11, 179,   0], dtype=int64),\n",
       " array([ 171,    7,   76,  561,   11,  302,   20,  442, 1321,    0],\n",
       "       dtype=int64),\n",
       " array([ 15,  20,   1, 158,  55,   1, 284,  23, 714,   0], dtype=int64),\n",
       " array([ 84,   4,   9,   1, 304,   1,   4,   1,   0,   0], dtype=int64),\n",
       " array([  52,   34,   52,  569,   20, 2392,    0,    0,    0,    0],\n",
       "       dtype=int64),\n",
       " array([837,   0,   0,   0,   0,   0,   0,   0,   0,   0], dtype=int64),\n",
       " array([  20,  442, 1321,   48, 3047,   32,  147,    0,    0,    0],\n",
       "       dtype=int64),\n",
       " array([436,   0,   0,   0,   0,   0,   0,   0,   0,   0], dtype=int64),\n",
       " array([ 146,    7,  582,   17,   54, 1042,    9,   94,    0,    0],\n",
       "       dtype=int64),\n",
       " array([  64,    1,   20,    1,    2, 3201,    6,    1,    0,    0],\n",
       "       dtype=int64),\n",
       " array([ 73,  63,  95,   1,   1, 776,  13,   1,   0,   0], dtype=int64),\n",
       " array([  64,    1, 3088,   73,   17, 1892,  284,  147,    0,    0],\n",
       "       dtype=int64),\n",
       " array([  57,    1,  465,    1,  117, 1140,    0,    0,    0,    0],\n",
       "       dtype=int64),\n",
       " array([ 36,  41, 741,   4, 286,  38, 290,   0,   0,   0], dtype=int64),\n",
       " array([837,   0,   0,   0,   0,   0,   0,   0,   0,   0], dtype=int64),\n",
       " array([ 570, 1041,    8,   45,   50, 1170,  342,    0,    0,    0],\n",
       "       dtype=int64),\n",
       " array([436,   0,   0,   0,   0,   0,   0,   0,   0,   0], dtype=int64),\n",
       " array([ 420,  636,  342,  210, 1717,   20,  922,    0,    0,    0],\n",
       "       dtype=int64),\n",
       " array([   3, 1335,   81,   20,  947,    0,    0,    0,    0,    0],\n",
       "       dtype=int64),\n",
       " array([1140,    0,    0,    0,    0,    0,    0,    0,    0,    0],\n",
       "       dtype=int64),\n",
       " array([  8, 891, 140,  46, 159,   4,   7,   0,   0,   0], dtype=int64),\n",
       " array([436,   0,   0,   0,   0,   0,   0,   0,   0,   0], dtype=int64),\n",
       " array([164, 259,   0,   0,   0,   0,   0,   0,   0,   0], dtype=int64),\n",
       " array([837,   0,   0,   0,   0,   0,   0,   0,   0,   0], dtype=int64),\n",
       " array([   5,   69,  991,    4,   98,   19, 3581,    0,    0,    0],\n",
       "       dtype=int64),\n",
       " array([1140,    0,    0,    0,    0,    0,    0,    0,    0,    0],\n",
       "       dtype=int64),\n",
       " array([  61,   42,    7,  140,    7,   41, 3013,    1,    0,    0],\n",
       "       dtype=int64),\n",
       " array([ 29,  41,   7,   1,  62,   9, 957,   1,  11,  46], dtype=int64),\n",
       " array([393,  61, 435,  19, 234, 122,   0,   0,   0,   0], dtype=int64),\n",
       " array([837,   0,   0,   0,   0,   0,   0,   0,   0,   0], dtype=int64),\n",
       " array([   5,  385,   19, 3581,   56,   46,  259,    0,    0,    0],\n",
       "       dtype=int64),\n",
       " array([436,   0,   0,   0,   0,   0,   0,   0,   0,   0], dtype=int64),\n",
       " array([  23,   92,  344,   98,    2, 1105,    3,  125,    9, 1469],\n",
       "       dtype=int64),\n",
       " array([ 155,   81,   20, 2916,    0,    0,    0,    0,    0,    0],\n",
       "       dtype=int64),\n",
       " array([1140,    0,    0,    0,    0,    0,    0,    0,    0,    0],\n",
       "       dtype=int64),\n",
       " array([ 48,   8, 218,   2, 340, 122,  67,   1,   9,   0], dtype=int64),\n",
       " array([ 157,  798,  298,   48,    8, 1270,    5, 2369,   81,   27],\n",
       "       dtype=int64),\n",
       " array([2501,  630,   88,  380,  463,  320,  110,    9,    0,    0],\n",
       "       dtype=int64),\n",
       " array([   1, 1389,    5,  419,   27,  682,  316,    9,    1,    0],\n",
       "       dtype=int64),\n",
       " array([   1,    3,   73,   23, 2007,   17,   23,   72,   17,   75],\n",
       "       dtype=int64),\n",
       " array([156,   3, 316,  17, 156,   3, 724,   3, 724,  23], dtype=int64),\n",
       " array([194,   3, 156,   1,  17, 156,  52, 815,  20,   0], dtype=int64),\n",
       " array([406,   1,  27,  52,  61, 491,  23,  95,  28, 243], dtype=int64),\n",
       " array([1339,    3,  880,   17,   48,    5,  516,   17,   61,   23],\n",
       "       dtype=int64),\n",
       " array([17,  0,  0,  0,  0,  0,  0,  0,  0,  0], dtype=int64),\n",
       " array([436,   0,   0,   0,   0,   0,   0,   0,   0,   0], dtype=int64),\n",
       " array([  74,   47, 1424,  340,    1,    0,    0,    0,    0,    0],\n",
       "       dtype=int64),\n",
       " array([1140,    0,    0,    0,    0,    0,    0,    0,    0,    0],\n",
       "       dtype=int64),\n",
       " array([310,   1,  96,   9, 152, 363,   0,   0,   0,   0], dtype=int64),\n",
       " array([837,   0,   0,   0,   0,   0,   0,   0,   0,   0], dtype=int64),\n",
       " array([  9,   1, 259,   0,   0,   0,   0,   0,   0,   0], dtype=int64),\n",
       " array([1140,    0,    0,    0,    0,    0,    0,    0,    0,    0],\n",
       "       dtype=int64),\n",
       " array([ 49, 362, 934,  19,   1,   5,  86,  24,   7, 461], dtype=int64),\n",
       " array([   2, 1119,    1,   15,   16,   21, 1856,    0,    0,    0],\n",
       "       dtype=int64),\n",
       " array([837,   0,   0,   0,   0,   0,   0,   0,   0,   0], dtype=int64),\n",
       " array([  32,   46,  259,    5,   31,   13,  112,    6, 3711,    0],\n",
       "       dtype=int64),\n",
       " array([1140,    0,    0,    0,    0,    0,    0,    0,    0,    0],\n",
       "       dtype=int64),\n",
       " array([  13,  112,    6, 3711,    0,    0,    0,    0,    0,    0],\n",
       "       dtype=int64),\n",
       " array([436,   0,   0,   0,   0,   0,   0,   0,   0,   0], dtype=int64),\n",
       " array([63, 37, 63, 37,  0,  0,  0,  0,  0,  0], dtype=int64),\n",
       " array([837,   0,   0,   0,   0,   0,   0,   0,   0,   0], dtype=int64),\n",
       " array([310,  32,  33,  19, 601,  67,  13, 724,   2,   0], dtype=int64),\n",
       " array([3980,  184,    8,   45,  541,   50,    2,  664,    0,    0],\n",
       "       dtype=int64),\n",
       " array([1140,    0,    0,    0,    0,    0,    0,    0,    0,    0],\n",
       "       dtype=int64),\n",
       " array([583,   7,   1, 428, 120,   1,  49,   0,   0,   0], dtype=int64),\n",
       " array([  7,  86,  75, 938,   2,  46, 121,  10, 366,  11], dtype=int64),\n",
       " array([837,   0,   0,   0,   0,   0,   0,   0,   0,   0], dtype=int64),\n",
       " array([   5,   31,  456,   38, 2886,  681,    3,  938,   38,   15],\n",
       "       dtype=int64),\n",
       " array([  8, 757,  22,   5, 142,  75, 770,   0,   0,   0], dtype=int64),\n",
       " array([436,   0,   0,   0,   0,   0,   0,   0,   0,   0], dtype=int64),\n",
       " array([ 90,   5, 160,   7,   0,   0,   0,   0,   0,   0], dtype=int64),\n",
       " array([837,   0,   0,   0,   0,   0,   0,   0,   0,   0], dtype=int64),\n",
       " array([  96,   13,    4,  404, 1072,  123,   10,    5,  768,   77],\n",
       "       dtype=int64),\n",
       " array([1140,    0,    0,    0,    0,    0,    0,    0,    0,    0],\n",
       "       dtype=int64),\n",
       " array([  7,  58,  18, 356,   1,  82,  60,  71,  34,   0], dtype=int64),\n",
       " array([   2,    1,   63,    1,   11, 3954, 1324,   95,   22, 1308],\n",
       "       dtype=int64),\n",
       " array([  1, 312,   6,   1,  49,   5,  58,  19,   1,   0], dtype=int64),\n",
       " array([  76, 2907,   25,   19, 1462,   10,    7,  258,  168,    0],\n",
       "       dtype=int64),\n",
       " array([  1,  17,  14, 405,  49,   7,  37,  75,  15,  79], dtype=int64),\n",
       " array([837,   0,   0,   0,   0,   0,   0,   0,   0,   0], dtype=int64),\n",
       " array([ 32,  46, 259, 265,  16, 310,   5,  31,  13, 284], dtype=int64),\n",
       " array([1140,    0,    0,    0,    0,    0,    0,    0,    0,    0],\n",
       "       dtype=int64),\n",
       " array([ 11, 396,   1,  75,  15,  16,   3,  67, 117,   7], dtype=int64),\n",
       " array([1571,  229,    6,   19,  326,    0,    0,    0,    0,    0],\n",
       "       dtype=int64),\n",
       " array([837,   0,   0,   0,   0,   0,   0,   0,   0,   0], dtype=int64),\n",
       " array([ 48,  46, 259,  85, 115,  18, 255,  82,   0,   0], dtype=int64),\n",
       " array([1140,    0,    0,    0,    0,    0,    0,    0,    0,    0],\n",
       "       dtype=int64),\n",
       " array([2064,    5,   42,   13,  727,   15,    7,   85,  285,  229],\n",
       "       dtype=int64),\n",
       " array([ 27, 347, 204,   0,   0,   0,   0,   0,   0,   0], dtype=int64),\n",
       " array([837,   0,   0,   0,   0,   0,   0,   0,   0,   0], dtype=int64),\n",
       " array([310, 259,   0,   0,   0,   0,   0,   0,   0,   0], dtype=int64),\n",
       " array([1140,    0,    0,    0,    0,    0,    0,    0,    0,    0],\n",
       "       dtype=int64),\n",
       " array([  11, 2193, 1118,  139,    5,  311,    9,  567,  106,   17],\n",
       "       dtype=int64),\n",
       " array([ 141,   17,   12,    2, 1099,   24,   88, 1095,  284,  170],\n",
       "       dtype=int64),\n",
       " array([241, 323,   2, 580,  12, 220,  15,  74, 268,   6], dtype=int64),\n",
       " array([  40,  820,  264,   19,   45,    3, 1505,  778,   41,  243],\n",
       "       dtype=int64),\n",
       " array([ 174,  138,   65,  445, 1185,   60,  198,  469,    0,    0],\n",
       "       dtype=int64),\n",
       " array([  1,   3,   4,  80,  17, 811, 664,  21,  12, 139], dtype=int64),\n",
       " array([ 47, 109, 173,   3,  28,   5, 160,  75,  15,  79], dtype=int64),\n",
       " array([837,   0,   0,   0,   0,   0,   0,   0,   0,   0], dtype=int64),\n",
       " array([ 102,   16, 1174,   46,  259,    5,   31, 1065,    7,   11],\n",
       "       dtype=int64),\n",
       " array([ 238, 1452,    0,    0,    0,    0,    0,    0,    0,    0],\n",
       "       dtype=int64),\n",
       " array([436,   0,   0,   0,   0,   0,   0,   0,   0,   0], dtype=int64),\n",
       " array([ 72,  38, 525, 121,  25,  63,  12,  44,  63,  31], dtype=int64),\n",
       " array([2423,   40,  216, 2357,    0,    0,    0,    0,    0,    0],\n",
       "       dtype=int64),\n",
       " array([1140,    0,    0,    0,    0,    0,    0,    0,    0,    0],\n",
       "       dtype=int64),\n",
       " array([  11, 1270,    5,  131,   63,   58, 1085,    7,   56,   55],\n",
       "       dtype=int64),\n",
       " array([ 49,  46, 164, 121, 588, 837, 412,  30,   0,   0], dtype=int64),\n",
       " array([   1,  112,   48, 1240,    3,   75,  703,   15,   79,    0],\n",
       "       dtype=int64),\n",
       " array([837,   0,   0,   0,   0,   0,   0,   0,   0,   0], dtype=int64),\n",
       " array([ 32,  57,   9, 218, 259, 310,   5,  86,  13,   5], dtype=int64),\n",
       " array([   7,  132, 2357,    0,    0,    0,    0,    0,    0,    0],\n",
       "       dtype=int64),\n",
       " array([1140,    0,    0,    0,    0,    0,    0,    0,    0,    0],\n",
       "       dtype=int64),\n",
       " array([ 56,  55, 269,   0,   0,   0,   0,   0,   0,   0], dtype=int64),\n",
       " array([225,   0,   0,   0,   0,   0,   0,   0,   0,   0], dtype=int64),\n",
       " array([1325,  194,  229,    9, 2060,   60,   24,  670,    0,    0],\n",
       "       dtype=int64),\n",
       " array([778,   0,   0,   0,   0,   0,   0,   0,   0,   0], dtype=int64),\n",
       " array([  8, 476,   4, 429,  32,   0,   0,   0,   0,   0], dtype=int64),\n",
       " array([225,   0,   0,   0,   0,   0,   0,   0,   0,   0], dtype=int64),\n",
       " array([ 96, 163,   0,   0,   0,   0,   0,   0,   0,   0], dtype=int64),\n",
       " array([778,   0,   0,   0,   0,   0,   0,   0,   0,   0], dtype=int64),\n",
       " array([3245,    0,    0,    0,    0,    0,    0,    0,    0,    0],\n",
       "       dtype=int64),\n",
       " array([225,   0,   0,   0,   0,   0,   0,   0,   0,   0], dtype=int64),\n",
       " array([ 71, 320,  40, 580, 670,   2, 592,   0,   0,   0], dtype=int64),\n",
       " array([462,   0,   0,   0,   0,   0,   0,   0,   0,   0], dtype=int64),\n",
       " array([  60,  354,   11, 1266,   22,   24,   13,  707,   25,   82],\n",
       "       dtype=int64),\n",
       " array([778,   0,   0,   0,   0,   0,   0,   0,   0,   0], dtype=int64),\n",
       " array([ 28,   2,  46, 476,  12, 109,   0,   0,   0,   0], dtype=int64),\n",
       " array([225,   0,   0,   0,   0,   0,   0,   0,   0,   0], dtype=int64),\n",
       " array([ 67, 784,  27,   6,   7,   0,   0,   0,   0,   0], dtype=int64),\n",
       " array([778,   0,   0,   0,   0,   0,   0,   0,   0,   0], dtype=int64),\n",
       " array([  32,   67,  123, 1903,  123,  102,   27, 1164,    7,   27],\n",
       "       dtype=int64),\n",
       " array([  14,  630,    9,  954,  379, 3351,    2,  907,    0,    0],\n",
       "       dtype=int64),\n",
       " array([225,   0,   0,   0,   0,   0,   0,   0,   0,   0], dtype=int64),\n",
       " array([ 61, 348, 219, 354, 104,   1,   0,   0,   0,   0], dtype=int64),\n",
       " array([462,   0,   0,   0,   0,   0,   0,   0,   0,   0], dtype=int64),\n",
       " array([ 332,   21, 1786,    3,  630,    0,    0,    0,    0,    0],\n",
       "       dtype=int64),\n",
       " array([225,   0,   0,   0,   0,   0,   0,   0,   0,   0], dtype=int64),\n",
       " array([  55,   37,   36,  125,   65,    1,    3,   60, 1063,    0],\n",
       "       dtype=int64),\n",
       " array([  44, 2365,    5,  588,   80,   79, 1112,   11,  648,    0],\n",
       "       dtype=int64),\n",
       " array([  10,   36,   15, 4064, 1105,   78,  774,   50,  224,    0],\n",
       "       dtype=int64),\n",
       " array([  4, 309,  40,   1, 208,  49, 966,  30,   1,   0], dtype=int64),\n",
       " array([   1,  342,   12,   23,  332,   19, 1098,    0,    0,    0],\n",
       "       dtype=int64),\n",
       " array([ 89, 567,   0,   0,   0,   0,   0,   0,   0,   0], dtype=int64),\n",
       " array([  32,  123,    9,   94,   10, 1818,    7,  376,   64,   23],\n",
       "       dtype=int64),\n",
       " array([ 304, 1956,   64,    9,  234,    0,    0,    0,    0,    0],\n",
       "       dtype=int64),\n",
       " array([ 645,   40, 1577,    0,    0,    0,    0,    0,    0,    0],\n",
       "       dtype=int64),\n",
       " array([  41,    1,  284,   40,  647,   56,  488,   40, 1098,    0],\n",
       "       dtype=int64),\n",
       " array([ 344,   64,   60,   37, 1927,   79,  111,   40,  672,    0],\n",
       "       dtype=int64),\n",
       " array([  53,   82,  540, 1517,   36,   24,   22,    1,   15, 2922],\n",
       "       dtype=int64),\n",
       " array([1745,  627,    6,  680,    0,    0,    0,    0,    0,    0],\n",
       "       dtype=int64),\n",
       " array([645,   7, 348, 219,   0,   0,   0,   0,   0,   0], dtype=int64),\n",
       " array([  85,   12,  342, 1366,   29,  648,   23,  308,    0,    0],\n",
       "       dtype=int64),\n",
       " array([1854,   19,    1, 1095,    0,    0,    0,    0,    0,    0],\n",
       "       dtype=int64),\n",
       " array([225,   0,   0,   0,   0,   0,   0,   0,   0,   0], dtype=int64),\n",
       " array([48, 60, 41, 57, 17,  0,  0,  0,  0,  0], dtype=int64),\n",
       " array([778,   0,   0,   0,   0,   0,   0,   0,   0,   0], dtype=int64),\n",
       " array([  65,  946,   18,   40, 2158,    1,  687,    0,    0,    0],\n",
       "       dtype=int64),\n",
       " array([225,   0,   0,   0,   0,   0,   0,   0,   0,   0], dtype=int64),\n",
       " array([ 60, 179,  79,  13,  22, 713, 284,  65, 445,   0], dtype=int64),\n",
       " array([ 44, 239,  19,   1, 138,  19, 454,   3, 421,   0], dtype=int64),\n",
       " array([  15,  454,   54, 1357,   64,    1, 2229,    0,    0,    0],\n",
       "       dtype=int64),\n",
       " array([ 646, 1505,    0,    0,    0,    0,    0,    0,    0,    0],\n",
       "       dtype=int64),\n",
       " array([  60,   42, 2424,   79,  132, 1488,   40,  526,    0,    0],\n",
       "       dtype=int64),\n",
       " array([  53,  308,   16, 2267,   15, 1406,   49,   47,    8, 1084],\n",
       "       dtype=int64),\n",
       " array([  23,   10,    1,   67,  105,   27,   14,    9, 1611,    0],\n",
       "       dtype=int64),\n",
       " array([   3,   23,   37,  808,  109, 2192,    0,    0,    0,    0],\n",
       "       dtype=int64),\n",
       " array([225,   0,   0,   0,   0,   0,   0,   0,   0,   0], dtype=int64),\n",
       " array([  34,    2,    1,    6,    2, 2282,  399,   47,    7,    0],\n",
       "       dtype=int64),\n",
       " array([   7,    1,    6,  302,    7, 2674,    1,    3,    1,    0],\n",
       "       dtype=int64),\n",
       " array([   1,    7,  613,   10,    7,   78,   18, 3255,    0,    0],\n",
       "       dtype=int64),\n",
       " array([ 673,   64,  483,    3,   74, 2668,  356,    0,    0,    0],\n",
       "       dtype=int64),\n",
       " array([ 170,    2,  704,    9, 1786,    7,  553,    6,    1,    0],\n",
       "       dtype=int64),\n",
       " array([  10,  203,    2, 2296,    6,  153,   61,   24,    7,  682],\n",
       "       dtype=int64),\n",
       " array([  50, 1760,   10,    1,   58,  636,    1,    3,  420,    0],\n",
       "       dtype=int64),\n",
       " array([  34, 1450,  932, 2476, 1429,    3, 1570,  668,    0,    0],\n",
       "       dtype=int64),\n",
       " array([  15, 1461,    3,    1,  179, 1672,    3,  552,  287,    0],\n",
       "       dtype=int64),\n",
       " array([  52,   33,    2, 1981,    6,  182,   67,  168,    2,  740],\n",
       "       dtype=int64),\n",
       " array([  3,  80,   8, 664,  47,   7, 155, 817,  49,  47], dtype=int64),\n",
       " array([  39,  585,  190,  674,   56,  636,   66,    4,   65, 1327],\n",
       "       dtype=int64),\n",
       " array([  25,   60,   79,    4,   40, 3963,    1,    0,    0,    0],\n",
       "       dtype=int64),\n",
       " array([  28,   44,    2,  672,   41, 2130,   44,  345,   46,    1],\n",
       "       dtype=int64),\n",
       " array([  96,   14,    2, 1377,  382,    1,   66,    0,    0,    0],\n",
       "       dtype=int64),\n",
       " array([ 13,  14,   2,   1, 543,  16,   3,  42,   2,  84], dtype=int64),\n",
       " array([ 89, 733,   0,   0,   0,   0,   0,   0,   0,   0], dtype=int64),\n",
       " array([ 1, 13,  5,  0,  0,  0,  0,  0,  0,  0], dtype=int64),\n",
       " array([165, 733,   0,   0,   0,   0,   0,   0,   0,   0], dtype=int64),\n",
       " array([123,   5,   0,   0,   0,   0,   0,   0,   0,   0], dtype=int64),\n",
       " array([ 89, 733,   0,   0,   0,   0,   0,   0,   0,   0], dtype=int64),\n",
       " array([  98,   60,   24, 1517,   27,   11,    0,    0,    0,    0],\n",
       "       dtype=int64),\n",
       " array([34,  0,  0,  0,  0,  0,  0,  0,  0,  0], dtype=int64),\n",
       " array([   4,    2, 3475,    5,  516,   27,    0,    0,    0,    0],\n",
       "       dtype=int64),\n",
       " array([778,   0,   0,   0,   0,   0,   0,   0,   0,   0], dtype=int64),\n",
       " array([ 29,  12, 662,   6, 225,   0,   0,   0,   0,   0], dtype=int64),\n",
       " array([34,  0,  0,  0,  0,  0,  0,  0,  0,  0], dtype=int64),\n",
       " array([529,  51,   1,   0,   0,   0,   0,   0,   0,   0], dtype=int64),\n",
       " array([ 89, 733,   0,   0,   0,   0,   0,   0,   0,   0], dtype=int64),\n",
       " array([3089,    2,    1,   57,    2,  157, 2396,    0,    0,    0],\n",
       "       dtype=int64),\n",
       " array([ 15,  66,  23,   1, 103,  81,   2, 909,   0,   0], dtype=int64),\n",
       " array([  1,   4,  65, 672,  23,  12, 245, 525,   0,   0], dtype=int64),\n",
       " array([  4, 351,  34,   2, 445,   0,   0,   0,   0,   0], dtype=int64),\n",
       " array([778,   0,   0,   0,   0,   0,   0,   0,   0,   0], dtype=int64),\n",
       " array([ 48, 152, 383,   0,   0,   0,   0,   0,   0,   0], dtype=int64),\n",
       " array([ 103,    1,    1,   20, 2566,  465,    0,    0,    0,    0],\n",
       "       dtype=int64),\n",
       " array([   3,   73,   17, 3800,  528,  111,   26,  129,  440,  225],\n",
       "       dtype=int64),\n",
       " array([   9,    1,    1,   25, 1595,   25,   26,  129,    0,    0],\n",
       "       dtype=int64),\n",
       " array([  76,   13,   28,  683,    9, 2156,   26,  748,    9,  733],\n",
       "       dtype=int64),\n",
       " array([ 196,    4,    1,  456,   13, 2411,    3, 3333,    0,    0],\n",
       "       dtype=int64),\n",
       " array([ 337,   11, 2093,   22,   15,   30, 3076,  434,    3,    0],\n",
       "       dtype=int64),\n",
       " array([   2,    1,    1,    6,   30, 2548,    0,    0,    0,    0],\n",
       "       dtype=int64),\n",
       " array([ 26,   1, 249, 658, 978,  25,  39,   2, 187,   0], dtype=int64),\n",
       " array([  76,    1,    3,   95, 1618,    0,    0,    0,    0,    0],\n",
       "       dtype=int64),\n",
       " array([ 89, 733,   0,   0,   0,   0,   0,   0,   0,   0], dtype=int64),\n",
       " array([155,  51,   0,   0,   0,   0,   0,   0,   0,   0], dtype=int64),\n",
       " array([778,   0,   0,   0,   0,   0,   0,   0,   0,   0], dtype=int64),\n",
       " array([  1, 225,   0,   0,   0,   0,   0,   0,   0,   0], dtype=int64),\n",
       " array([ 291,  729,   27,  219,   52,   80, 1016, 1721,    0,    0],\n",
       "       dtype=int64),\n",
       " array([ 89, 820,   0,   0,   0,   0,   0,   0,   0,   0], dtype=int64),\n",
       " array([  21,   31,    5, 1132,    4,  302,    0,    0,    0,    0],\n",
       "       dtype=int64),\n",
       " array([165, 820,   0,   0,   0,   0,   0,   0,   0,   0], dtype=int64),\n",
       " array([ 3,  5, 21,  0,  0,  0,  0,  0,  0,  0], dtype=int64),\n",
       " array([355, 820,   0,   0,   0,   0,   0,   0,   0,   0], dtype=int64),\n",
       " array([   9,    1,  885,    5,  678,   21,   14, 1280,    0,    0],\n",
       "       dtype=int64),\n",
       " array([225,   0,   0,   0,   0,   0,   0,   0,   0,   0], dtype=int64),\n",
       " array([  98,   62,  104,    1,   10,   42, 1430,   65,  534,    0],\n",
       "       dtype=int64),\n",
       " array([  57,    9, 3151,    1,    1, 3039,    1,    0,    0,    0],\n",
       "       dtype=int64),\n",
       " array([ 1,  6,  9,  1,  1, 10,  1, 58,  0,  0], dtype=int64),\n",
       " array([1837,   15,  215,   10, 2236,   66,  104,  873, 1760,    0],\n",
       "       dtype=int64),\n",
       " array([ 251,   82,    2,  421,   18,  163, 1936,  111,  174,   15],\n",
       "       dtype=int64),\n",
       " array([  3, 645,  29, 946,   2, 580, 308,   4,  27,   0], dtype=int64),\n",
       " array([ 85,  12,   2,  94,   6,   8, 553, 391, 342,   0], dtype=int64),\n",
       " array([2336,   40, 1911,   55,  794, 1505,  105,    0,    0,    0],\n",
       "       dtype=int64),\n",
       " array([   1, 2980,    4,   80,   46,    2,  445,    0,    0,    0],\n",
       "       dtype=int64),\n",
       " array([705,   5,  15, 215,  10,  24,   2, 539,  31, 507], dtype=int64),\n",
       " array([  4, 309, 323,   0,   0,   0,   0,   0,   0,   0], dtype=int64),\n",
       " array([778,   0,   0,   0,   0,   0,   0,   0,   0,   0], dtype=int64),\n",
       " array([446,  51,  26,   1,   0,   0,   0,   0,   0,   0], dtype=int64),\n",
       " array([  30, 2184,   70,  151,  100, 1413,   14,    0,    0,    0],\n",
       "       dtype=int64),\n",
       " array([  9, 165, 690,   6, 421,   0,   0,   0,   0,   0], dtype=int64),\n",
       " array([225,   0,   0,   0,   0,   0,   0,   0,   0,   0], dtype=int64),\n",
       " array([  51, 1531,   16,   13,    0,    0,    0,    0,    0,    0],\n",
       "       dtype=int64),\n",
       " array([   8,  648,   70,   82,   13, 3907,   16, 1085,    7,   56],\n",
       "       dtype=int64),\n",
       " array([   2,  147,    5, 1239,   12,  344,    1,    0,    0,    0],\n",
       "       dtype=int64),\n",
       " array([ 64, 744,   4,  16,   4, 342, 141,   0,   0,   0], dtype=int64),\n",
       " array([  5,  31, 787,   3, 421,   0,   0,   0,   0,   0], dtype=int64),\n",
       " array([778,   0,   0,   0,   0,   0,   0,   0,   0,   0], dtype=int64),\n",
       " array([  44,    2,  149, 3651,  382,    0,    0,    0,    0,    0],\n",
       "       dtype=int64),\n",
       " array([406, 594,  11,  77,  15,  43,   3,  38, 169,   1], dtype=int64),\n",
       " array([   1,   30,    1, 1105,  719,  235,    0,    0,    0,    0],\n",
       "       dtype=int64),\n",
       " array([2598,   18,   30, 1021,    0,    0,    0,    0,    0,    0],\n",
       "       dtype=int64),\n",
       " array([225,   0,   0,   0,   0,   0,   0,   0,   0,   0], dtype=int64),\n",
       " array([ 30, 328,  32, 376,   0,   0,   0,   0,   0,   0], dtype=int64),\n",
       " array([ 64, 215,  63,   1,   1,  28, 269,   0,   0,   0], dtype=int64),\n",
       " array([778,   0,   0,   0,   0,   0,   0,   0,   0,   0], dtype=int64),\n",
       " array([  26, 3874,  225,    0,    0,    0,    0,    0,    0,    0],\n",
       "       dtype=int64),\n",
       " array([  75,  457,   30, 2069,   11,    2, 1788,    0,    0,    0],\n",
       "       dtype=int64),\n",
       " array([ 185,  770,   34,    2, 2344,   48,    2,  907,    0,    0],\n",
       "       dtype=int64),\n",
       " array([ 97,  60,  37,  93,  40, 319, 146,   0,   0,   0], dtype=int64),\n",
       " array([323,   0,   0,   0,   0,   0,   0,   0,   0,   0], dtype=int64),\n",
       " array([ 870,    7,    8,  208,   56, 1030,    0,    0,    0,    0],\n",
       "       dtype=int64),\n",
       " array([ 36,  41,  49, 219,   0,   0,   0,   0,   0,   0], dtype=int64),\n",
       " array([  84, 1911,  642, 1122,   11,   40,  528,    0,    0,    0],\n",
       "       dtype=int64),\n",
       " array([ 123, 2739,   11, 1915,  424,   16, 1630,    0,    0,    0],\n",
       "       dtype=int64),\n",
       " array([  36,   37,   18, 1712,  156, 1049,   36,   24, 1053,    0],\n",
       "       dtype=int64),\n",
       " array([ 33,   1,   3,   1,   1,  36,  24, 311,   0,   0], dtype=int64),\n",
       " array([   2, 2763,    6,   40,  208,  563,  820,  260,    0,    0],\n",
       "       dtype=int64),\n",
       " array([951,  65,   1,  25,  36, 456,  40, 161,   0,   0], dtype=int64),\n",
       " array([  10,  140,   40, 1656,   15, 3379,    0,    0,    0,    0],\n",
       "       dtype=int64),\n",
       " array([1, 1, 0, 0, 0, 0, 0, 0, 0, 0], dtype=int64),\n",
       " array([  78,  102,    7, 2856,    1,    0,    0,    0,    0,    0],\n",
       "       dtype=int64),\n",
       " array([ 30, 229,   0,   0,   0,   0,   0,   0,   0,   0], dtype=int64),\n",
       " array([462,   0,   0,   0,   0,   0,   0,   0,   0,   0], dtype=int64),\n",
       " array([   2,  595,    6, 1185,   24, 3598,    0,    0,    0,    0],\n",
       "       dtype=int64),\n",
       " array([  3, 671,   4, 778,   3,   4, 225, 786,   0,   0], dtype=int64),\n",
       " array([   5,  419,   40, 1155,    4,   65, 3963,    1,    0,    0],\n",
       "       dtype=int64),\n",
       " array([  3,  55,   5, 285, 146,   0,   0,   0,   0,   0], dtype=int64),\n",
       " array([323,   0,   0,   0,   0,   0,   0,   0,   0,   0], dtype=int64),\n",
       " array([ 171,   26, 2100,  396,    0,    0,    0,    0,    0,    0],\n",
       "       dtype=int64),\n",
       " array([ 653,   26, 2100,   13,   56,    0,    0,    0,    0,    0],\n",
       "       dtype=int64),\n",
       " array([ 61, 244, 644, 228,   0,   0,   0,   0,   0,   0], dtype=int64),\n",
       " array([462,   0,   0,   0,   0,   0,   0,   0,   0,   0], dtype=int64),\n",
       " array([814,  88, 380,   8,  45,   0,   0,   0,   0,   0], dtype=int64),\n",
       " array([323,   0,   0,   0,   0,   0,   0,   0,   0,   0], dtype=int64),\n",
       " array([  96,   13,    9, 1786,    1,   36,  311,   65, 1577,    0],\n",
       "       dtype=int64),\n",
       " array([  61, 2432,   26,   11,    9, 1786, 2436,   88,  380,    0],\n",
       "       dtype=int64),\n",
       " array([  3, 272,  30, 229,  28, 521,   0,   0,   0,   0], dtype=int64),\n",
       " array([462,   0,   0,   0,   0,   0,   0,   0,   0,   0], dtype=int64),\n",
       " array([4048,    6,    2, 1099,    0,    0,    0,    0,    0,    0],\n",
       "       dtype=int64),\n",
       " array([ 828,   16,   11, 2006,   10,    5,   59, 1695,    4, 3893],\n",
       "       dtype=int64),\n",
       " array([ 403,   52,  956, 3552,  301,  252,   92,    5,   51,    0],\n",
       "       dtype=int64),\n",
       " array([630,  88, 380, 228, 536,   8, 556,   0,   0,   0], dtype=int64),\n",
       " array([323,   0,   0,   0,   0,   0,   0,   0,   0,   0], dtype=int64),\n",
       " array([1202, 1325,    0,    0,    0,    0,    0,    0,    0,    0],\n",
       "       dtype=int64),\n",
       " array([ 10, 435, 787,  25,  23,  76,   1,  48, 260,   0], dtype=int64),\n",
       " array([  23,  320,    2, 2544,    6,  225,    3,    5,   24,    0],\n",
       "       dtype=int64),\n",
       " array([  1, 483,  27, 141,   0,   0,   0,   0,   0,   0], dtype=int64),\n",
       " array([225,   0,   0,   0,   0,   0,   0,   0,   0,   0], dtype=int64),\n",
       " array([323,   0,   0,   0,   0,   0,   0,   0,   0,   0], dtype=int64),\n",
       " array([   2,  459,  546,   13, 1506,   50,    9,    1,    0,    0],\n",
       "       dtype=int64),\n",
       " array([ 54,  64,   5,  93,   2, 457,   6, 225, 266,   0], dtype=int64),\n",
       " array([  50,  282, 3008,   94,    0,    0,    0,    0,    0,    0],\n",
       "       dtype=int64),\n",
       " array([225,   0,   0,   0,   0,   0,   0,   0,   0,   0], dtype=int64),\n",
       " array([ 49,   5, 100, 521,   0,   0,   0,   0,   0,   0], dtype=int64),\n",
       " array([323,   0,   0,   0,   0,   0,   0,   0,   0,   0], dtype=int64),\n",
       " array([137,  39,   7,  49,  13,  11,   2, 147,   6, 800], dtype=int64),\n",
       " array([ 22,   1,  11,  19, 161,   0,   0,   0,   0,   0], dtype=int64),\n",
       " array([225,   0,   0,   0,   0,   0,   0,   0,   0,   0], dtype=int64),\n",
       " array([ 48,  72,  16,   1, 563,   0,   0,   0,   0,   0], dtype=int64),\n",
       " array([  11,  395,   25,  457,   25,   73,    5, 1045,   11,  133],\n",
       "       dtype=int64),\n",
       " array([  25,  685,   25,   73,   40, 2624,  159,   59,  163,    0],\n",
       "       dtype=int64),\n",
       " array([3, 1, 1, 4, 1, 0, 0, 0, 0, 0], dtype=int64),\n",
       " array([323,   0,   0,   0,   0,   0,   0,   0,   0,   0], dtype=int64),\n",
       " array([1234,    6, 2248,    0,    0,    0,    0,    0,    0,    0],\n",
       "       dtype=int64),\n",
       " array([  61,   12,   17,   15, 1505,  778,    0,    0,    0,    0],\n",
       "       dtype=int64),\n",
       " array([225,   0,   0,   0,   0,   0,   0,   0,   0,   0], dtype=int64),\n",
       " array([ 25,  15,   9,  94,   1, 301,   1,   0,   0,   0], dtype=int64),\n",
       " array([   1,   99,    4,  101,    3,   99,    4, 1465,    0,    0],\n",
       "       dtype=int64),\n",
       " array([   1,   27,   52,    1, 2260,    2,  205,    0,    0,    0],\n",
       "       dtype=int64),\n",
       " array([2391, 1185,   11,    2,  148,    6,  302,    0,    0,    0],\n",
       "       dtype=int64),\n",
       " array([196,  84,   9,   1,   1,  11,   2,   1,   0,   0], dtype=int64),\n",
       " array([   4,   72,   27, 2104,   57,   31,    0,    0,    0,    0],\n",
       "       dtype=int64),\n",
       " array([323,   0,   0,   0,   0,   0,   0,   0,   0,   0], dtype=int64),\n",
       " array([ 97,  12,  10, 819,   0,   0,   0,   0,   0,   0], dtype=int64),\n",
       " array([  53,  448,   16,   60,   92,  636,    7,    4,   19, 3963],\n",
       "       dtype=int64),\n",
       " array([ 97,  12,  23, 185,  27, 338,   0,   0,   0,   0], dtype=int64),\n",
       " array([225,   0,   0,   0,   0,   0,   0,   0,   0,   0], dtype=int64),\n",
       " array([ 72,  27, 525,   0,   0,   0,   0,   0,   0,   0], dtype=int64),\n",
       " array([  23,   95, 1961,    2,  396,   22,   14,   40,  495,    0],\n",
       "       dtype=int64),\n",
       " array([   2,  572,    1, 1294,  692,   14,   66,    0,    0,    0],\n",
       "       dtype=int64),\n",
       " array([   2, 3533,  439, 4080,    2, 3783,   25,   60,   95, 3792],\n",
       "       dtype=int64),\n",
       " array([  50, 3448,  637,   64,   60,    0,    0,    0,    0,    0],\n",
       "       dtype=int64),\n",
       " array([323,   0,   0,   0,   0,   0,   0,   0,   0,   0], dtype=int64),\n",
       " array([  22,   61, 2330,    7,    0,    0,    0,    0,    0,    0],\n",
       "       dtype=int64),\n",
       " array([225,   0,   0,   0,   0,   0,   0,   0,   0,   0], dtype=int64),\n",
       " array([ 31,   2, 118, 624,   4, 117,   5,  42,  13, 131], dtype=int64),\n",
       " array([ 97,  12,   2, 592,  41,   7, 217,  48,   2, 657], dtype=int64),\n",
       " array([  39,   13,   90, 1590,    7,  184,    7,   41,   28,    0],\n",
       "       dtype=int64),\n",
       " array([323,   0,   0,   0,   0,   0,   0,   0,   0,   0], dtype=int64),\n",
       " array([225,   0,   0,   0,   0,   0,   0,   0,   0,   0], dtype=int64),\n",
       " array([  36,   24,   57,    1, 1030,    3,   95,    0,    0,    0],\n",
       "       dtype=int64),\n",
       " array([1915,    4,  766,   40,  502,    0,    0,    0,    0,    0],\n",
       "       dtype=int64),\n",
       " array([225,   0,   0,   0,   0,   0,   0,   0,   0,   0], dtype=int64),\n",
       " array([ 61, 366,  65, 786,  93,   7,  47,  53, 649,   0], dtype=int64),\n",
       " array([ 60,  24,   1,  65, 153,   6, 599,   0,   0,   0], dtype=int64),\n",
       " array([323,   0,   0,   0,   0,   0,   0,   0,   0,   0], dtype=int64),\n",
       " array([  25,    5, 1026,  225,    0,    0,    0,    0,    0,    0],\n",
       "       dtype=int64),\n",
       " array([  65, 2473,    5,    2,    1,   41,    2, 3849,    0,    0],\n",
       "       dtype=int64),\n",
       " array([  6,  65, 262, 599, 613,  66, 342,   0,   0,   0], dtype=int64),\n",
       " array([ 65, 157, 133,   6, 275,   0,   0,   0,   0,   0], dtype=int64),\n",
       " array([225,   0,   0,   0,   0,   0,   0,   0,   0,   0], dtype=int64),\n",
       " array([  5,  42, 369,   7,   0,   0,   0,   0,   0,   0], dtype=int64),\n",
       " array([  33,   34,    2, 2472,  767,   36,   24, 1030,    0,    0],\n",
       "       dtype=int64),\n",
       " array([  33,    2,  147,   36,   24,  913,  463,   33,    2, 1733],\n",
       "       dtype=int64),\n",
       " array([  36,   24,  128,    4, 1572,  208,   10,    7,    1,    0],\n",
       "       dtype=int64),\n",
       " array([ 243,   16,  170,  342,    3,   20, 3849,    0,    0,    0],\n",
       "       dtype=int64),\n",
       " array([   3,   10,    7,   13, 1582,    2,  432,   22,    0,    0],\n",
       "       dtype=int64),\n",
       " array([   1,    2,  584,   15, 1105, 3251,    3,    1,    0,    0],\n",
       "       dtype=int64),\n",
       " array([ 36, 345,  21, 157, 380,   0,   0,   0,   0,   0], dtype=int64),\n",
       " array([323,   0,   0,   0,   0,   0,   0,   0,   0,   0], dtype=int64),\n",
       " array([171,   5, 231, 456,   0,   0,   0,   0,   0,   0], dtype=int64),\n",
       " array([  7,  76,   1,   4,   9, 276,   1,   0,   0,   0], dtype=int64),\n",
       " array([  3,   1,   1,   4,   7,  82, 617,   5, 134,   0], dtype=int64),\n",
       " array([ 763,   19, 3228,  105,   19, 1247,    6,  215,    0,    0],\n",
       "       dtype=int64),\n",
       " array([  10,  262,  115, 1197,   19,  936,    0,    0,    0,    0],\n",
       "       dtype=int64),\n",
       " array([225,   0,   0,   0,   0,   0,   0,   0,   0,   0], dtype=int64),\n",
       " array([215,  41,  60,   0,   0,   0,   0,   0,   0,   0], dtype=int64),\n",
       " array([  10,  120,   41, 2047,   39,  144,  110,   18,   62,    0],\n",
       "       dtype=int64),\n",
       " array([  25,   17,   76,  565,    4,    1,   77,   21, 3507,    0],\n",
       "       dtype=int64),\n",
       " array([767,   7,  98,  16,   1,  39, 144, 179,   0,   0], dtype=int64),\n",
       " array([1956,   20,  557,   64,   88,   67,  556,    0,    0,    0],\n",
       "       dtype=int64),\n",
       " array([ 39, 144, 131, 646, 101,   1, 720, 126,   0,   0], dtype=int64),\n",
       " array([   3,   10,   20,  998, 2734,   64,  245,    0,    0,    0],\n",
       "       dtype=int64),\n",
       " array([  72,   27,  525,   52,   28,  193,   28, 3549,    0,    0],\n",
       "       dtype=int64),\n",
       " array([3281,  141,    4, 1820,   20, 1579,    0,    0,    0,    0],\n",
       "       dtype=int64),\n",
       " array([  3, 427, 225,   0,   0,   0,   0,   0,   0,   0], dtype=int64),\n",
       " array([ 48,  16, 525,  80,   7,   9, 465,   6,  16,   0], dtype=int64),\n",
       " array([  39,  104,  883,   18,   13, 1535,   53,    6,    7,    0],\n",
       "       dtype=int64),\n",
       " array([  22,   12,  956, 1099,  255,    6,    7,   22,   12,    0],\n",
       "       dtype=int64),\n",
       " array([1725,    4,  203,  170,    2,  169,  342,    0,    0,    0],\n",
       "       dtype=int64),\n",
       " array([   9, 2293,   25,  924,   25,   20,    9,  962, 1665,    0],\n",
       "       dtype=int64),\n",
       " array([171, 527,   4,  34,  86,   5,   1,   0,   0,   0], dtype=int64),\n",
       " array([ 50,  34,   2, 257,   0,   0,   0,   0,   0,   0], dtype=int64),\n",
       " array([ 37, 203,   2, 388,  11,  99, 205, 421,   0,   0], dtype=int64),\n",
       " array([  25,  296,   31,   18, 3510,  303,    7,    4,  774,    0],\n",
       "       dtype=int64),\n",
       " array([  3, 956,  37, 857, 633, 112,   8, 607,   0,   0], dtype=int64),\n",
       " array([  53,  153,   41,  262, 2386,    0,    0,    0,    0,    0],\n",
       "       dtype=int64),\n",
       " array([323,   0,   0,   0,   0,   0,   0,   0,   0,   0], dtype=int64),\n",
       " array([ 774,   47,    8, 1084,    0,    0,    0,    0,    0,    0],\n",
       "       dtype=int64),\n",
       " array([80, 46, 21,  1,  3,  7, 37,  0,  0,  0], dtype=int64),\n",
       " array([3715,   11,   34,   15,   79,    0,    0,    0,    0,    0],\n",
       "       dtype=int64),\n",
       " array([778,   0,   0,   0,   0,   0,   0,   0,   0,   0], dtype=int64),\n",
       " array([ 28,  72,   2,   1,  18,   1, 273,  19,   1,   0], dtype=int64),\n",
       " array([ 25,   5,  24, 243,  66, 174,  39,   5,  42, 415], dtype=int64),\n",
       " array([ 215,    1,    4,   40, 1197,    2,  257,   31,  624,    0],\n",
       "       dtype=int64),\n",
       " array([  14,    9,  912, 2391,   39,   36,  569,    2,  657,    0],\n",
       "       dtype=int64),\n",
       " array([ 36, 142, 273,   2, 907,   0,   0,   0,   0,   0], dtype=int64),\n",
       " array([1955,    0,    0,    0,    0,    0,    0,    0,    0,    0],\n",
       "       dtype=int64),\n",
       " array([179,  13,  40, 497,  51,   0,   0,   0,   0,   0], dtype=int64),\n",
       " array([778,   0,   0,   0,   0,   0,   0,   0,   0,   0], dtype=int64),\n",
       " array([ 224,    3, 1517,   19,  672, 3932,    0,    0,    0,    0],\n",
       "       dtype=int64),\n",
       " array([  40,    1,   49,    4,    2,  820,    1, 1708,   79,    0],\n",
       "       dtype=int64),\n",
       " array([225,   0,   0,   0,   0,   0,   0,   0,   0,   0], dtype=int64),\n",
       " array([ 67, 421,  15, 255,  22,  43,  14,   5,  42, 391], dtype=int64),\n",
       " array([637,  64,   9,   1,   0,   0,   0,   0,   0,   0], dtype=int64),\n",
       " array([342,   0,   0,   0,   0,   0,   0,   0,   0,   0], dtype=int64),\n",
       " array([  36,  391, 1721,    0,    0,    0,    0,    0,    0,    0],\n",
       "       dtype=int64),\n",
       " array([  13,    1,    1,    9, 3395,    5,    1,    0,    0,    0],\n",
       "       dtype=int64),\n",
       " array([  54,   64,   30, 1569,    3, 1311,    1,   30,  581,    0],\n",
       "       dtype=int64),\n",
       " array([225,   0,   0,   0,   0,   0,   0,   0,   0,   0], dtype=int64),\n",
       " array([ 72,   2,  89,   1, 200,   2, 800, 819,   0,   0], dtype=int64),\n",
       " array([   3,    2,  260, 1089,   27,  316,    0,    0,    0,    0],\n",
       "       dtype=int64),\n",
       " array([342,   0,   0,   0,   0,   0,   0,   0,   0,   0], dtype=int64),\n",
       " array([ 39,   5, 508, 225,   0,   0,   0,   0,   0,   0], dtype=int64),\n",
       " array([   1,   16,   84,    9, 2397,    0,    0,    0,    0,    0],\n",
       "       dtype=int64),\n",
       " array([225,   0,   0,   0,   0,   0,   0,   0,   0,   0], dtype=int64),\n",
       " array([ 332,  104,  403,  534, 2067,    0,    0,    0,    0,    0],\n",
       "       dtype=int64),\n",
       " array([ 525,    5, 1030,   11,   19, 1185, 1098,    0,    0,    0],\n",
       "       dtype=int64),\n",
       " array([   3,  128,   29,  648,    5, 1293,   96,   13,    8,  147],\n",
       "       dtype=int64),\n",
       " array([ 767,   26, 1283,   16,    1,   14,   30,  625,    0,    0],\n",
       "       dtype=int64),\n",
       " array([  1, 111,  30, 264,   4,   2,   1,   0,   0,   0], dtype=int64),\n",
       " array([342,   0,   0,   0,   0,   0,   0,   0,   0,   0], dtype=int64),\n",
       " array([747,  26,   2,   1,   0,   0,   0,   0,   0,   0], dtype=int64),\n",
       " array([  10,   59,    2, 1731,    6,   19,    1,    1,    0,    0],\n",
       "       dtype=int64),\n",
       " array([  26, 1349,   13, 1906,   16,   62,    0,    0,    0,    0],\n",
       "       dtype=int64),\n",
       " array([   1,    3,   13,  794,    7,   24, 3393,   16,    0,    0],\n",
       "       dtype=int64),\n",
       " array([  11,   19, 2437,    1,    0,    0,    0,    0,    0,    0],\n",
       "       dtype=int64),\n",
       " array([323,   0,   0,   0,   0,   0,   0,   0,   0,   0], dtype=int64),\n",
       " array([ 39,   5,  87, 117,  43, 613,  21,  30, 418, 648], dtype=int64),\n",
       " array([  1,  13, 424,  30, 780,  22,  67, 556,  17,   0], dtype=int64),\n",
       " array([  97, 1281,   37,    1,  297,   15, 1628,    0,    0,    0],\n",
       "       dtype=int64),\n",
       " array([  97,  169, 1780,   37,  765,    3,    1,    0,    0,    0],\n",
       "       dtype=int64),\n",
       " array([   5,    2,  384,    1,   97,  891,   37,   18, 3664,    0],\n",
       "       dtype=int64),\n",
       " array([   3, 2405,    1,  125,   54,   97,    2,    0,    0,    0],\n",
       "       dtype=int64),\n",
       " array([1238,  692,    0,    0,    0,    0,    0,    0,    0,    0],\n",
       "       dtype=int64),\n",
       " array([  10,   15,    2,    1, 2960,  391,  249,  805,    0,    0],\n",
       "       dtype=int64),\n",
       " array([ 37,  71, 170,  65, 454,  36, 385,   2, 260,   0], dtype=int64),\n",
       " array([ 40, 302,  70, 110,   9, 733,   0,   0,   0,   0], dtype=int64),\n",
       " array([  82, 1591,   26,    4,    9,    1,    6,   21,  895,    0],\n",
       "       dtype=int64),\n",
       " array([ 547, 2688, 3128,  138,    0,    0,    0,    0,    0,    0],\n",
       "       dtype=int64),\n",
       " array([778,   0,   0,   0,   0,   0,   0,   0,   0,   0], dtype=int64),\n",
       " array([ 48, 580,   0,   0,   0,   0,   0,   0,   0,   0], dtype=int64),\n",
       " array([  62,   12,    2, 2881,   36,    2,    1,    0,    0,    0],\n",
       "       dtype=int64),\n",
       " array([ 728,   26, 1491,    0,    0,    0,    0,    0,    0,    0],\n",
       "       dtype=int64),\n",
       " array([225,   0,   0,   0,   0,   0,   0,   0,   0,   0], dtype=int64),\n",
       " array([160,  44,  32,  54,   8, 223,   0,   0,   0,   0], dtype=int64),\n",
       " array([103, 320,   9,   1,   4,   1,  38, 147,   0,   0], dtype=int64),\n",
       " array([  73,   63,  435, 1531,   16, 2680,   16,    5,   24,  163],\n",
       "       dtype=int64),\n",
       " array([ 25,   7,  24, 163, 304,  29,   5, 115,   1,   0], dtype=int64),\n",
       " array([ 25,   7,  24, 151, 304,  14,   8, 659,   0,   0], dtype=int64),\n",
       " array([ 23,  10, 320,  22,   1,  20,  46,  31,   0,   0], dtype=int64),\n",
       " array([ 70,   1, 109, 968,   0,   0,   0,   0,   0,   0], dtype=int64),\n",
       " array([323,   0,   0,   0,   0,   0,   0,   0,   0,   0], dtype=int64),\n",
       " array([ 7, 37, 13, 18,  0,  0,  0,  0,  0,  0], dtype=int64),\n",
       " array([  2, 392,   6,  19,   1, 302,  86,  93,   0,   0], dtype=int64),\n",
       " array([   2, 3292,    6,   38,  161,  574,    9,    1,    0,    0],\n",
       "       dtype=int64),\n",
       " array([637,  64,   9,   1,  32, 376,  64,   9,   1,   0], dtype=int64),\n",
       " array([   4,  955,   19,    1,    3,    4, 1107,   10,    0,    0],\n",
       "       dtype=int64),\n",
       " array([  53,    4,    2,    1,    3, 2072,    6, 2332,    1,    0],\n",
       "       dtype=int64),\n",
       " array([  58,  540,   22, 2354,  167,    5,  369,    7,    0,    0],\n",
       "       dtype=int64),\n",
       " array([  11, 1347,    6,   29,    7,   41,   13,    4, 1913,    0],\n",
       "       dtype=int64),\n",
       " array([  29,    7,   24,    1,   40, 1095,  125,   16,    0,    0],\n",
       "       dtype=int64),\n",
       " array([225,   0,   0,   0,   0,   0,   0,   0,   0,   0], dtype=int64),\n",
       " array([  5,  24,  99, 721,  81,  16,   3,  60,   1,   0], dtype=int64),\n",
       " array([   4,  125,  680, 3436,    0,    0,    0,    0,    0,    0],\n",
       "       dtype=int64),\n",
       " array([323,   0,   0,   0,   0,   0,   0,   0,   0,   0], dtype=int64),\n",
       " array([87, 60, 13,  0,  0,  0,  0,  0,  0,  0], dtype=int64),\n",
       " array([  56,  258,   60,    1, 1028,    1,    0,    0,    0,    0],\n",
       "       dtype=int64),\n",
       " array([   3, 1011,  680,   15,  101,    6,   34,    2, 1553,    0],\n",
       "       dtype=int64),\n",
       " array([1203,   36,   24,  908,   46,    3,   46, 2095,    6,   34],\n",
       "       dtype=int64),\n",
       " array([   2, 1879,   11,   21,  657, 3867,    3,  445,    0,    0],\n",
       "       dtype=int64),\n",
       " array([  36, 3434,    7,    2,    1,    4,   18,  908,  284,    0],\n",
       "       dtype=int64),\n",
       " array([138,   2, 572,   1,  57,   0,   0,   0,   0,   0], dtype=int64),\n",
       " array([  19,  337, 1247,    0,    0,    0,    0,    0,    0,    0],\n",
       "       dtype=int64),\n",
       " array([225,   0,   0,   0,   0,   0,   0,   0,   0,   0], dtype=int64),\n",
       " array([  5, 385,   7, 580,   0,   0,   0,   0,   0,   0], dtype=int64),\n",
       " array([ 22, 142,  80,   8, 133, 781,   4, 105,   0,   0], dtype=int64),\n",
       " array([   9, 3794,    4,  858,    8,  465,    5,   42, 1919,   17],\n",
       "       dtype=int64),\n",
       " array([  3, 190,  81,   8, 572, 268,  15, 215,   0,   0], dtype=int64),\n",
       " array([  10,   24, 1491,    2,  926,    0,    0,    0,    0,    0],\n",
       "       dtype=int64),\n",
       " array([225,   0,   0,   0,   0,   0,   0,   0,   0,   0], dtype=int64),\n",
       " array([  78,  104,  695, 1681,   53,    7, 2599,    0,    0,    0],\n",
       "       dtype=int64),\n",
       " array([ 134,  457,   54,   73, 1577,    3, 1208,   37,    0,    0],\n",
       "       dtype=int64),\n",
       " array([   5,    2,  657,  345, 3094,   72,    1,    3,    1,   18],\n",
       "       dtype=int64),\n",
       " array([128,  34,   6,   1,   1,   0,   0,   0,   0,   0], dtype=int64),\n",
       " array([  73, 1055, 1560,  752,   25,    2,    1, 2896,    0,    0],\n",
       "       dtype=int64),\n",
       " array([ 72,  27,  18, 128,   9,   1,  14,   2, 664,   0], dtype=int64),\n",
       " array([  32,   54,    5,   71,   14,   10,    5,   24,   13, 2055],\n",
       "       dtype=int64),\n",
       " array([   8, 1297,   10,    1,   52,    1,   99,    1, 1044,    0],\n",
       "       dtype=int64),\n",
       " array([ 53, 402, 887, 485, 193, 252,  24, 163,   0,   0], dtype=int64),\n",
       " array([   7, 4084,   16,  284,    0,    0,    0,    0,    0,    0],\n",
       "       dtype=int64),\n",
       " array([11,  1,  1,  0,  0,  0,  0,  0,  0,  0], dtype=int64),\n",
       " array([ 25,  39,   5, 712,   8, 234,  87,  18,   1,   0], dtype=int64),\n",
       " array([  11, 2332,    1,   15,  366,    0,    0,    0,    0,    0],\n",
       "       dtype=int64),\n",
       " array([323,   0,   0,   0,   0,   0,   0,   0,   0,   0], dtype=int64),\n",
       " array([ 100, 2354,   41,    7,    0,    0,    0,    0,    0,    0],\n",
       "       dtype=int64),\n",
       " array([  54, 1182,    4,   19,   46,  556,   64,    1,    0,    0],\n",
       "       dtype=int64),\n",
       " array([  4,  79,  10, 102,   7, 879,  33,  19, 601,   0], dtype=int64),\n",
       " array([  39, 1028,  428,    7,   18, 3057,   56,  239,    7,    0],\n",
       "       dtype=int64),\n",
       " array([  84,   74,   10,  433,   20, 1655,  806,   11,    1,    0],\n",
       "       dtype=int64),\n",
       " array([  55,  518, 2575,   15,    7,  167,   18,   17,  604,    0],\n",
       "       dtype=int64),\n",
       " array([  25,    4,   79,    4,   34,    2,  187,   10, 1187,  225],\n",
       "       dtype=int64),\n",
       " array([2243,   21,  664, 2176,   11, 3319,    6,    2,   53,    0],\n",
       "       dtype=int64),\n",
       " array([   8,  152, 2881,  604,    4,    2,    1,    5,  102,   27],\n",
       "       dtype=int64),\n",
       " array([  15,   34,   20, 3962,    1,    3,   50,   21,  118,    0],\n",
       "       dtype=int64),\n",
       " array([  14,   29,   23,   95,  138, 1185,  185,   27,    0,    0],\n",
       "       dtype=int64),\n",
       " array([  15,   34,    2,    1,    3, 2440,    6,    2, 3620,    0],\n",
       "       dtype=int64),\n",
       " array([1187,  225,  150,  203,    0,    0,    0,    0,    0,    0],\n",
       "       dtype=int64),\n",
       " array([   2,    1, 1784,  195,    0,    0,    0,    0,    0,    0],\n",
       "       dtype=int64),\n",
       " array([34,  0,  0,  0,  0,  0,  0,  0,  0,  0], dtype=int64),\n",
       " array([1187,  225,  150,    0,    0,    0,    0,    0,    0,    0],\n",
       "       dtype=int64),\n",
       " array([150,   0,   0,   0,   0,   0,   0,   0,   0,   0], dtype=int64),\n",
       " array([  5,  31,  75, 974,   0,   0,   0,   0,   0,   0], dtype=int64),\n",
       " array([   3,   73,    8,  246,   12,  149,    7,   37, 1295,    0],\n",
       "       dtype=int64),\n",
       " array([ 815,    5, 1487,   52,   32,    1,    5,  385,    7,    0],\n",
       "       dtype=int64),\n",
       " array([   5,  331,    4, 4030,   19, 2881,    3,   57,   34,  492],\n",
       "       dtype=int64),\n",
       " array([ 4,  1, 19, 46,  1,  0,  0,  0,  0,  0], dtype=int64),\n",
       " array([  4,   2,   1,   6,   8, 264,   0,   0,   0,   0], dtype=int64),\n",
       " array([323,   0,   0,   0,   0,   0,   0,   0,   0,   0], dtype=int64),\n",
       " array([  28,    4,   40, 1011,    0,    0,    0,    0,    0,    0],\n",
       "       dtype=int64),\n",
       " ...]"
      ]
     },
     "execution_count": 70,
     "metadata": {},
     "output_type": "execute_result"
    }
   ],
   "source": [
    "sequences"
   ]
  },
  {
   "cell_type": "markdown",
   "metadata": {
    "id": "tDc4riukLTqg"
   },
   "source": [
    "Взгляните на несколько примеров из sequences ."
   ]
  },
  {
   "cell_type": "code",
   "execution_count": 71,
   "metadata": {
    "id": "WZf1RIbB2Dfb"
   },
   "outputs": [
    {
     "name": "stdout",
     "output_type": "stream",
     "text": [
      "[ 89 270   0   0   0   0   0   0   0   0] => ['first', 'citizen', '', '', '', '', '', '', '', '']\n",
      "[138  36 982 144 673 125  16 106   0   0] => ['before', 'we', 'proceed', 'any', 'further', 'hear', 'me', 'speak', '', '']\n",
      "[34  0  0  0  0  0  0  0  0  0] => ['all', '', '', '', '', '', '', '', '', '']\n",
      "[106 106   0   0   0   0   0   0   0   0] => ['speak', 'speak', '', '', '', '', '', '', '', '']\n",
      "[ 89 270   0   0   0   0   0   0   0   0] => ['first', 'citizen', '', '', '', '', '', '', '', '']\n"
     ]
    }
   ],
   "source": [
    "for seq in sequences[:5]:\n",
    "  print(f\"{seq} => {[inverse_vocab[i] for i in seq]}\")"
   ]
  },
  {
   "cell_type": "markdown",
   "metadata": {
    "id": "yDzSOjNwCWNh"
   },
   "source": [
    "### Создавайте обучающие примеры из последовательностей"
   ]
  },
  {
   "cell_type": "markdown",
   "metadata": {
    "id": "BehvYr-nEKyY"
   },
   "source": [
    "sequences теперь является список предложений в кодировке int. Просто вызовите функцию generate_training_data() определенную ранее, чтобы сгенерировать обучающие примеры для модели Word2Vec. Напомним, функция выполняет итерацию по каждому слову из каждой последовательности для сбора положительных и отрицательных контекстных слов. Длина цели, контексты и метки должны быть одинаковыми, представляя общее количество обучающих примеров."
   ]
  },
  {
   "cell_type": "code",
   "execution_count": 72,
   "metadata": {
    "id": "44DJ22M6nX5o"
   },
   "outputs": [
    {
     "name": "stderr",
     "output_type": "stream",
     "text": [
      "100%|██████████████████████████████████████████████████████████████████████████| 32777/32777 [00:19<00:00, 1645.47it/s]"
     ]
    },
    {
     "name": "stdout",
     "output_type": "stream",
     "text": [
      "65297 65297 65297\n"
     ]
    },
    {
     "name": "stderr",
     "output_type": "stream",
     "text": [
      "\n"
     ]
    }
   ],
   "source": [
    "targets, contexts, labels = generate_training_data(\n",
    "    sequences=sequences, \n",
    "    window_size=2, \n",
    "    num_ns=4, \n",
    "    vocab_size=vocab_size, \n",
    "    seed=SEED)\n",
    "print(len(targets), len(contexts), len(labels))"
   ]
  },
  {
   "cell_type": "markdown",
   "metadata": {
    "id": "97PqsusOFEpc"
   },
   "source": [
    "### Настройте набор данных для повышения производительности"
   ]
  },
  {
   "cell_type": "code",
   "execution_count": 75,
   "metadata": {},
   "outputs": [
    {
     "data": {
      "text/plain": [
       "array([106, 106,   0,   0,   0,   0,   0,   0,   0,   0], dtype=int64)"
      ]
     },
     "execution_count": 75,
     "metadata": {},
     "output_type": "execute_result"
    }
   ],
   "source": [
    "sequences[3]"
   ]
  },
  {
   "cell_type": "code",
   "execution_count": 73,
   "metadata": {},
   "outputs": [
    {
     "data": {
      "text/plain": [
       "(106,\n",
       " <tf.Tensor: shape=(5, 1), dtype=int64, numpy=\n",
       " array([[  16],\n",
       "        [ 280],\n",
       "        [1633],\n",
       "        [   3],\n",
       "        [   9]], dtype=int64)>,\n",
       " <tf.Tensor: shape=(5,), dtype=int64, numpy=array([1, 0, 0, 0, 0], dtype=int64)>)"
      ]
     },
     "execution_count": 73,
     "metadata": {},
     "output_type": "execute_result"
    }
   ],
   "source": [
    "targets[2], contexts[2], labels[2]"
   ]
  },
  {
   "cell_type": "markdown",
   "metadata": {
    "id": "7jnFVySViQTj"
   },
   "source": [
    "Чтобы выполнить эффективную пакетную обработку потенциально большого количества обучающих примеров, используйтеtf.data.Dataset API. После этого шага у вас будет объектtf.data.Dataset из элементов (target_word, context_word), (label) для обучения вашей модели Word2Vec!\n"
   ]
  },
  {
   "cell_type": "code",
   "execution_count": 76,
   "metadata": {
    "id": "nbu8PxPSnVY2"
   },
   "outputs": [
    {
     "name": "stdout",
     "output_type": "stream",
     "text": [
      "<BatchDataset shapes: (((1024,), (1024, 5, 1)), (1024, 5)), types: ((tf.int32, tf.int64), tf.int64)>\n"
     ]
    }
   ],
   "source": [
    "BATCH_SIZE = 1024\n",
    "BUFFER_SIZE = 10000\n",
    "dataset = tf.data.Dataset.from_tensor_slices(((targets, contexts), labels))\n",
    "dataset = dataset.shuffle(BUFFER_SIZE).batch(BATCH_SIZE, drop_remainder=True)\n",
    "print(dataset)"
   ]
  },
  {
   "cell_type": "markdown",
   "metadata": {
    "id": "tyrNX6Fs6K3F"
   },
   "source": [
    "Добавьте cache() и prefetch() для повышения производительности.\n",
    "\n"
   ]
  },
  {
   "cell_type": "code",
   "execution_count": 77,
   "metadata": {
    "id": "Y5Ueg6bcFPVL"
   },
   "outputs": [
    {
     "name": "stdout",
     "output_type": "stream",
     "text": [
      "<PrefetchDataset shapes: (((1024,), (1024, 5, 1)), (1024, 5)), types: ((tf.int32, tf.int64), tf.int64)>\n"
     ]
    }
   ],
   "source": [
    "dataset = dataset.cache().prefetch(buffer_size=AUTOTUNE)\n",
    "print(dataset)"
   ]
  },
  {
   "cell_type": "markdown",
   "metadata": {
    "id": "1S-CmUMszyEf"
   },
   "source": [
    "## Model and Training"
   ]
  },
  {
   "cell_type": "markdown",
   "metadata": {
    "id": "sQFqaBMPwBqC"
   },
   "source": [
    "Модель Word2Vec может быть реализована как классификатор, позволяющий отличать истинные контекстные слова от пропущенных граммов и ложные контекстные слова, полученные с помощью отрицательной выборки. Вы можете выполнить скалярное произведение между вложениями целевого и контекстного слов, чтобы получить прогнозы для меток и вычислить потери по сравнению с истинными метками в наборе данных.\n",
    "\n"
   ]
  },
  {
   "cell_type": "markdown",
   "metadata": {
    "id": "oc7kTbiwD9sy"
   },
   "source": [
    "### Подкласс модели Word2Vec"
   ]
  },
  {
   "cell_type": "markdown",
   "metadata": {
    "id": "Jvr9pM1G1sQN"
   },
   "source": [
    "Используйте API подклассов Keras, чтобы определить модель Word2Vec со следующими слоями:\n",
    "\n",
    "target_embedding : слой tf.keras.layers.Embedding который ищет встраивание слова, когда оно появляется как целевое слово. Количество параметров в этом слое: (vocab_size * embedding_dim) .\n",
    "context_embedding : еще tf.keras.layers.Embedding слой tf.keras.layers.Embedding который ищет встраивание слова, когда оно появляется как контекстное слово. Количество параметров в этом слое такое же, как и в target_embedding , то есть (vocab_size * embedding_dim) .\n",
    "dots : слой tf.keras.layers.Dot который вычисляет скалярное произведение целевых и контекстных встраиваний из обучающей пары.\n",
    "flatten : а tf.keras.layers.Flatten слой , чтобы сгладить результаты dots слоя в логит.\n",
    "С помощью модели с подгруппами вы можете определить функцию call() которая принимает пары (target, context) которые затем могут быть переданы на соответствующий уровень внедрения. Перерисуйте context_embedding выполнить скалярное произведение с target_embedding и вернуть сплюснутый результат.\n",
    "\n"
   ]
  },
  {
   "cell_type": "markdown",
   "metadata": {
    "id": "KiAwuIqqw7-7"
   },
   "source": [
    "Ключевой пункт: target_embedding и context_embedding слои могут быть разделены , а также. Вы также можете использовать объединение обоих вложений в качестве окончательного вложения Word2Vec.\n"
   ]
  },
  {
   "cell_type": "code",
   "execution_count": 78,
   "metadata": {
    "id": "i9ec-sS6xd8Z"
   },
   "outputs": [],
   "source": [
    "class Word2Vec(Model):\n",
    "  def __init__(self, vocab_size, embedding_dim):\n",
    "    super(Word2Vec, self).__init__()\n",
    "    self.target_embedding = Embedding(vocab_size, \n",
    "                                      embedding_dim,\n",
    "                                      input_length=1,\n",
    "                                      name=\"w2v_embedding\", )\n",
    "    self.context_embedding = Embedding(vocab_size, \n",
    "                                       embedding_dim, \n",
    "                                       input_length=num_ns+1)\n",
    "    self.dots = Dot(axes=(3,2))\n",
    "    self.flatten = Flatten()\n",
    "\n",
    "  def call(self, pair):\n",
    "    target, context = pair\n",
    "    we = self.target_embedding(target)\n",
    "    ce = self.context_embedding(context)\n",
    "    dots = self.dots([ce, we])\n",
    "    return self.flatten(dots)"
   ]
  },
  {
   "cell_type": "markdown",
   "metadata": {
    "id": "-RLKz9LFECXu"
   },
   "source": [
    "### Определите функцию потерь и скомпилируйте модель\n",
    "\n"
   ]
  },
  {
   "cell_type": "markdown",
   "metadata": {
    "id": "I3Md-9QanqBM"
   },
   "source": [
    "Для простоты вы можете использовать tf.keras.losses.CategoricalCrossEntropy в качестве альтернативы отрицательной потере выборки. Если вы хотите написать свою собственную функцию потерь, вы также можете сделать это следующим образом:\n",
    "\n",
    "\n",
    "``` python\n",
    "def custom_loss(x_logit, y_true):\n",
    "      return tf.nn.sigmoid_cross_entropy_with_logits(logits=x_logit, labels=y_true)\n",
    "```\n",
    "\n",
    "Пришло время построить свою модель! Создайте экземпляр своего класса Word2Vec с размером встраивания 128 (вы можете поэкспериментировать с разными значениями). Скомпилируйте модель с tf.keras.optimizers.Adam оптимизатора tf.keras.optimizers.Adam . "
   ]
  },
  {
   "cell_type": "code",
   "execution_count": 79,
   "metadata": {
    "id": "ekQg_KbWnnmQ"
   },
   "outputs": [],
   "source": [
    "embedding_dim = 128\n",
    "word2vec = Word2Vec(vocab_size, embedding_dim)\n",
    "word2vec.compile(optimizer='adam',\n",
    "              loss=tf.keras.losses.CategoricalCrossentropy(from_logits=True),\n",
    "              metrics=['accuracy'])"
   ]
  },
  {
   "cell_type": "markdown",
   "metadata": {
    "id": "P3MUMrluqNX2"
   },
   "source": [
    "Также определите обратный вызов для регистрации статистики обучения для тензорной доски.\n",
    "\n"
   ]
  },
  {
   "cell_type": "code",
   "execution_count": 80,
   "metadata": {
    "id": "9d-ftBCeEZIR"
   },
   "outputs": [],
   "source": [
    "tensorboard_callback = tf.keras.callbacks.TensorBoard(log_dir=\"logs\")"
   ]
  },
  {
   "cell_type": "markdown",
   "metadata": {
    "id": "h5wEBotlGZ7B"
   },
   "source": [
    "Обучите модель с помощью dataset подготовленного выше для некоторого количества эпох.\n",
    "\n"
   ]
  },
  {
   "cell_type": "code",
   "execution_count": 81,
   "metadata": {
    "id": "gmC1BJalEZIY"
   },
   "outputs": [
    {
     "name": "stdout",
     "output_type": "stream",
     "text": [
      "Epoch 1/20\n",
      "63/63 [==============================] - 2s 6ms/step - loss: 1.6083 - accuracy: 0.2313\n",
      "Epoch 2/20\n",
      "63/63 [==============================] - 0s 4ms/step - loss: 1.5894 - accuracy: 0.5573\n",
      "Epoch 3/20\n",
      "63/63 [==============================] - 0s 4ms/step - loss: 1.5421 - accuracy: 0.6069\n",
      "Epoch 4/20\n",
      "63/63 [==============================] - 0s 4ms/step - loss: 1.4592 - accuracy: 0.5756\n",
      "Epoch 5/20\n",
      "63/63 [==============================] - 0s 4ms/step - loss: 1.3606 - accuracy: 0.5824\n",
      "Epoch 6/20\n",
      "63/63 [==============================] - 0s 4ms/step - loss: 1.2631 - accuracy: 0.6105\n",
      "Epoch 7/20\n",
      "63/63 [==============================] - 0s 4ms/step - loss: 1.1720 - accuracy: 0.6434\n",
      "Epoch 8/20\n",
      "63/63 [==============================] - 0s 4ms/step - loss: 1.0876 - accuracy: 0.6775\n",
      "Epoch 9/20\n",
      "63/63 [==============================] - 0s 4ms/step - loss: 1.0093 - accuracy: 0.7095\n",
      "Epoch 10/20\n",
      "63/63 [==============================] - 0s 4ms/step - loss: 0.9367 - accuracy: 0.7386\n",
      "Epoch 11/20\n",
      "63/63 [==============================] - 0s 4ms/step - loss: 0.8695 - accuracy: 0.7645\n",
      "Epoch 12/20\n",
      "63/63 [==============================] - 0s 4ms/step - loss: 0.8075 - accuracy: 0.7869\n",
      "Epoch 13/20\n",
      "63/63 [==============================] - 0s 4ms/step - loss: 0.7504 - accuracy: 0.8064\n",
      "Epoch 14/20\n",
      "63/63 [==============================] - 0s 4ms/step - loss: 0.6981 - accuracy: 0.8238\n",
      "Epoch 15/20\n",
      "63/63 [==============================] - 0s 4ms/step - loss: 0.6502 - accuracy: 0.8386\n",
      "Epoch 16/20\n",
      "63/63 [==============================] - 0s 4ms/step - loss: 0.6064 - accuracy: 0.8520\n",
      "Epoch 17/20\n",
      "63/63 [==============================] - 0s 4ms/step - loss: 0.5665 - accuracy: 0.8640\n",
      "Epoch 18/20\n",
      "63/63 [==============================] - 0s 4ms/step - loss: 0.5302 - accuracy: 0.8753\n",
      "Epoch 19/20\n",
      "63/63 [==============================] - 0s 4ms/step - loss: 0.4972 - accuracy: 0.8854\n",
      "Epoch 20/20\n",
      "63/63 [==============================] - 0s 4ms/step - loss: 0.4671 - accuracy: 0.8942\n"
     ]
    },
    {
     "data": {
      "text/plain": [
       "<tensorflow.python.keras.callbacks.History at 0x274c27ce3d0>"
      ]
     },
     "execution_count": 81,
     "metadata": {},
     "output_type": "execute_result"
    }
   ],
   "source": [
    "word2vec.fit(dataset, epochs=20, callbacks=[tensorboard_callback])"
   ]
  },
  {
   "cell_type": "markdown",
   "metadata": {
    "id": "wze38jG57XvZ"
   },
   "source": [
    "Tensorboard теперь показывает точность и потери модели Word2Vec.\n",
    "\n"
   ]
  },
  {
   "cell_type": "markdown",
   "metadata": {
    "id": "i0VuZcvm8zaI"
   },
   "source": [
    "```python\n",
    "%tensorboard --logdir logs\n",
    "```"
   ]
  },
  {
   "cell_type": "markdown",
   "metadata": {
    "id": "awF3iRQCZOLj"
   },
   "source": [
    "![word2vec_tensorboard](https://github.com/tensorflow/docs/blob/master/site/en/tutorials/text/images/word2vec_tensorboard.png?raw=1)"
   ]
  },
  {
   "cell_type": "markdown",
   "metadata": {
    "id": "TaDW2tIIz8fL"
   },
   "source": [
    "## Встраивание поиска и анализа"
   ]
  },
  {
   "cell_type": "markdown",
   "metadata": {
    "id": "Zp5rv01WG2YA"
   },
   "source": [
    "Получите веса из модели с помощью get_layer() и get_weights() . Функция get_vocabulary() предоставляет словарь для создания файла метаданных с одним токеном на строку.\n",
    "\n"
   ]
  },
  {
   "cell_type": "code",
   "execution_count": 82,
   "metadata": {
    "id": "_Uamp1YH8RzU"
   },
   "outputs": [],
   "source": [
    "weights = word2vec.get_layer('w2v_embedding').get_weights()[0]\n",
    "vocab = vectorize_layer.get_vocabulary()"
   ]
  },
  {
   "cell_type": "markdown",
   "metadata": {
    "id": "gWzdmUzS8Sl4"
   },
   "source": [
    "Создайте и сохраните файлы векторов и метаданных.\n"
   ]
  },
  {
   "cell_type": "code",
   "execution_count": 83,
   "metadata": {
    "id": "VLIahl9s53XT"
   },
   "outputs": [],
   "source": [
    "out_v = io.open('vectors.tsv', 'w', encoding='utf-8')\n",
    "out_m = io.open('metadata.tsv', 'w', encoding='utf-8')\n",
    "\n",
    "for index, word in enumerate(vocab):\n",
    "  if  index == 0: continue # skip 0, it's padding.\n",
    "  vec = weights[index] \n",
    "  out_v.write('\\t'.join([str(x) for x in vec]) + \"\\n\")\n",
    "  out_m.write(word + \"\\n\")\n",
    "out_v.close()\n",
    "out_m.close()"
   ]
  },
  {
   "cell_type": "markdown",
   "metadata": {
    "id": "1T8KcThhIU8-"
   },
   "source": [
    "Загрузите vectors.tsv и metadata.tsv чтобы проанализировать полученные вложения в проекторе вложений."
   ]
  },
  {
   "cell_type": "code",
   "execution_count": null,
   "metadata": {
    "id": "lUsjQOKMIV2z"
   },
   "outputs": [],
   "source": [
    "try:\n",
    "  from google.colab import files\n",
    "  files.download('vectors.tsv')\n",
    "  files.download('metadata.tsv')\n",
    "except Exception as e:\n",
    "  pass"
   ]
  }
 ],
 "metadata": {
  "colab": {
   "collapsed_sections": [],
   "name": "word2vec.ipynb",
   "provenance": []
  },
  "kernelspec": {
   "display_name": "Python 3",
   "language": "python",
   "name": "python3"
  },
  "language_info": {
   "codemirror_mode": {
    "name": "ipython",
    "version": 3
   },
   "file_extension": ".py",
   "mimetype": "text/x-python",
   "name": "python",
   "nbconvert_exporter": "python",
   "pygments_lexer": "ipython3",
   "version": "3.8.5"
  }
 },
 "nbformat": 4,
 "nbformat_minor": 1
}
