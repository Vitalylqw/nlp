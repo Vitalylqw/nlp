{
 "cells": [
  {
   "cell_type": "markdown",
   "metadata": {},
   "source": [
    "На вебинаре мы говорили что долгое время CNN и RNN архитектуры были конурируещими выяснить какая архитектура больше подходит для задачи сантимент анализа на данных с вебинара  \n",
    "1. построить свёрточные архитектуры  \n",
    "2. построить различные архитектуры с RNN  \n",
    "3. построить совместные архитектуры CNN -> RNN и (RNN -> CNN)  \n",
    "4. сдлать выводы что получилось лучше  "
   ]
  },
  {
   "cell_type": "code",
   "execution_count": 1,
   "metadata": {},
   "outputs": [],
   "source": [
    "import pandas as pd\n",
    "from string import punctuation\n",
    "from stop_words import get_stop_words\n",
    "from pymorphy2 import MorphAnalyzer\n",
    "import re\n",
    "import numpy as np\n",
    "from tensorflow import keras\n",
    "import tensorflow as tf\n",
    "from tensorflow.keras.models import Sequential, Model\n",
    "from tensorflow.keras.layers import Dense, Dropout, Activation, Input, Embedding, Conv1D,\\\n",
    "        GlobalMaxPool1D, GlobalMaxPooling1D,SimpleRNN, LSTM, GRU, Masking,Concatenate,Maximum, Flatten,LayerNormalization\n",
    "from tensorflow.keras.preprocessing.text import Tokenizer\n",
    "from tensorflow.keras.preprocessing.sequence import pad_sequences\n",
    "from tensorflow.keras.callbacks import TensorBoard \n",
    "from tensorflow.keras.losses import categorical_crossentropy\n",
    "from tensorflow.keras.callbacks import EarlyStopping  \n"
   ]
  },
  {
   "cell_type": "code",
   "execution_count": null,
   "metadata": {},
   "outputs": [],
   "source": []
  },
  {
   "cell_type": "code",
   "execution_count": 2,
   "metadata": {},
   "outputs": [],
   "source": [
    "X_train = np.load('X_train.npy')\n",
    "y_train = np.load('y_train.npy')\n",
    "X_valid =np.load('X_valid.npy')\n",
    "y_val = np.load('y_val.npy')\n",
    "training_length = X_train.shape[1]\n",
    "word_count = len(np.unique(X_train))"
   ]
  },
  {
   "cell_type": "code",
   "execution_count": null,
   "metadata": {},
   "outputs": [],
   "source": []
  },
  {
   "cell_type": "code",
   "execution_count": 2,
   "metadata": {},
   "outputs": [],
   "source": [
    "df_train = pd.read_csv(\"data/train.csv\")\n",
    "df_test = pd.read_csv(\"data/test.csv\")\n",
    "df_val = pd.read_csv(\"data/val.csv\")"
   ]
  },
  {
   "cell_type": "code",
   "execution_count": 3,
   "metadata": {},
   "outputs": [],
   "source": [
    "\n",
    "exclude = set(punctuation)\n",
    "morpher = MorphAnalyzer()\n",
    "\n",
    "def removeSpecialChars(review):\n",
    "     return re.sub('[^a-zа-я]', ' ', review)\n",
    "    \n",
    "def preprocess_text(txt):\n",
    "    txt = str(txt)\n",
    "    txt = txt.lower()\n",
    "    txt = removeSpecialChars(txt)\n",
    "    txt = [morpher.parse(word)[0].normal_form for word in txt.split() if word not in exclude and len(word)>2]\n",
    "    return \" \".join(txt)   \n",
    "\n",
    "\n",
    "df_train['text'] = df_train['text'].apply(preprocess_text)\n",
    "df_val['text'] = df_val['text'].apply(preprocess_text)\n",
    "df_test['text'] = df_test['text'].apply(preprocess_text)"
   ]
  },
  {
   "cell_type": "code",
   "execution_count": 4,
   "metadata": {},
   "outputs": [
    {
     "data": {
      "text/html": [
       "<div>\n",
       "<style scoped>\n",
       "    .dataframe tbody tr th:only-of-type {\n",
       "        vertical-align: middle;\n",
       "    }\n",
       "\n",
       "    .dataframe tbody tr th {\n",
       "        vertical-align: top;\n",
       "    }\n",
       "\n",
       "    .dataframe thead th {\n",
       "        text-align: right;\n",
       "    }\n",
       "</style>\n",
       "<table border=\"1\" class=\"dataframe\">\n",
       "  <thead>\n",
       "    <tr style=\"text-align: right;\">\n",
       "      <th></th>\n",
       "      <th>id</th>\n",
       "      <th>text</th>\n",
       "      <th>class</th>\n",
       "    </tr>\n",
       "  </thead>\n",
       "  <tbody>\n",
       "    <tr>\n",
       "      <th>0</th>\n",
       "      <td>0</td>\n",
       "      <td>alisachachka уезжаааааааать тоже хотеть чтобы ...</td>\n",
       "      <td>0</td>\n",
       "    </tr>\n",
       "    <tr>\n",
       "      <th>1</th>\n",
       "      <td>1</td>\n",
       "      <td>galyginvadim ребята девчата всё кино вот это л...</td>\n",
       "      <td>1</td>\n",
       "    </tr>\n",
       "    <tr>\n",
       "      <th>2</th>\n",
       "      <td>2</td>\n",
       "      <td>artem klyushin кто ненавидеть пробка ретвит</td>\n",
       "      <td>0</td>\n",
       "    </tr>\n",
       "    <tr>\n",
       "      <th>3</th>\n",
       "      <td>3</td>\n",
       "      <td>epupybobv хотеться котлета киевск запретный плод</td>\n",
       "      <td>1</td>\n",
       "    </tr>\n",
       "    <tr>\n",
       "      <th>4</th>\n",
       "      <td>4</td>\n",
       "      <td>karinekurganova yess boss босапоп есбосой боят...</td>\n",
       "      <td>1</td>\n",
       "    </tr>\n",
       "    <tr>\n",
       "      <th>...</th>\n",
       "      <td>...</td>\n",
       "      <td>...</td>\n",
       "      <td>...</td>\n",
       "    </tr>\n",
       "    <tr>\n",
       "      <th>181462</th>\n",
       "      <td>181462</td>\n",
       "      <td>классный быть новый год http lejaguxnwu</td>\n",
       "      <td>0</td>\n",
       "    </tr>\n",
       "    <tr>\n",
       "      <th>181463</th>\n",
       "      <td>181463</td>\n",
       "      <td>видеть человек хотеть сказать он привет ты игн...</td>\n",
       "      <td>0</td>\n",
       "    </tr>\n",
       "    <tr>\n",
       "      <th>181464</th>\n",
       "      <td>181464</td>\n",
       "      <td>julia styles там длинный диагноз вкратце аллер...</td>\n",
       "      <td>0</td>\n",
       "    </tr>\n",
       "    <tr>\n",
       "      <th>181465</th>\n",
       "      <td>181465</td>\n",
       "      <td>technoslav кто тот серенький кнопочень телефон...</td>\n",
       "      <td>1</td>\n",
       "    </tr>\n",
       "    <tr>\n",
       "      <th>181466</th>\n",
       "      <td>181466</td>\n",
       "      <td>kris тоже так собираться сделать навешать фотк...</td>\n",
       "      <td>1</td>\n",
       "    </tr>\n",
       "  </tbody>\n",
       "</table>\n",
       "<p>181467 rows × 3 columns</p>\n",
       "</div>"
      ],
      "text/plain": [
       "            id                                               text  class\n",
       "0            0  alisachachka уезжаааааааать тоже хотеть чтобы ...      0\n",
       "1            1  galyginvadim ребята девчата всё кино вот это л...      1\n",
       "2            2        artem klyushin кто ненавидеть пробка ретвит      0\n",
       "3            3   epupybobv хотеться котлета киевск запретный плод      1\n",
       "4            4  karinekurganova yess boss босапоп есбосой боят...      1\n",
       "...        ...                                                ...    ...\n",
       "181462  181462            классный быть новый год http lejaguxnwu      0\n",
       "181463  181463  видеть человек хотеть сказать он привет ты игн...      0\n",
       "181464  181464  julia styles там длинный диагноз вкратце аллер...      0\n",
       "181465  181465  technoslav кто тот серенький кнопочень телефон...      1\n",
       "181466  181466  kris тоже так собираться сделать навешать фотк...      1\n",
       "\n",
       "[181467 rows x 3 columns]"
      ]
     },
     "execution_count": 4,
     "metadata": {},
     "output_type": "execute_result"
    }
   ],
   "source": [
    "df_train"
   ]
  },
  {
   "cell_type": "code",
   "execution_count": 5,
   "metadata": {},
   "outputs": [],
   "source": [
    "text_corpus_train = df_train['text'].values\n",
    "text_corpus_valid = df_val['text'].values\n",
    "text_corpus_test =  df_test['text'].values"
   ]
  },
  {
   "cell_type": "code",
   "execution_count": 6,
   "metadata": {},
   "outputs": [],
   "source": [
    "tokenizer = Tokenizer(num_words=None, \n",
    "                     filters='#$%&()*+-<=>@[\\\\]^_`{|}~\\t\\n',\n",
    "                     lower = True, split = ' ')\n",
    "tokenizer.fit_on_texts(text_corpus_train)\n",
    "\n",
    "sequences_train = tokenizer.texts_to_sequences(text_corpus_train)\n",
    "sequences_val = tokenizer.texts_to_sequences(text_corpus_valid)\n",
    "sequences_test = tokenizer.texts_to_sequences(text_corpus_test)\n",
    "\n",
    "word_count = len(tokenizer.index_word) + 1\n",
    "training_length = max([len(i.split()) for i in text_corpus_train])\n",
    "\n",
    "X_train = pad_sequences(sequences_train, maxlen=training_length)\n",
    "X_valid = pad_sequences(sequences_val, maxlen=training_length)\n"
   ]
  },
  {
   "cell_type": "code",
   "execution_count": 7,
   "metadata": {},
   "outputs": [],
   "source": [
    "y_train = df_train['class'].values\n",
    "y_val = df_val['class'].values"
   ]
  },
  {
   "cell_type": "code",
   "execution_count": 3,
   "metadata": {},
   "outputs": [],
   "source": [
    "def testting_model(model):\n",
    "    model.compile(\n",
    "    optimizer='adam', loss='binary_crossentropy', metrics=['accuracy'])\n",
    "    early_stopping=EarlyStopping(monitor='val_accuracy',patience = 1)\n",
    "    history = model.fit(X_train, y_train,\n",
    "                    batch_size=1024,\n",
    "                    epochs=10,\n",
    "                    verbose=1,\n",
    "                    validation_data=(X_valid, y_val),\n",
    "                    callbacks=[early_stopping])\n",
    "    score = model.evaluate(X_valid, y_val, batch_size=512, verbose=1)\n",
    "    print('\\n')\n",
    "    print('Test accuracy:', score[1])\n",
    "    return history"
   ]
  },
  {
   "cell_type": "code",
   "execution_count": 10,
   "metadata": {},
   "outputs": [
    {
     "data": {
      "text/plain": [
       "0.7511352113917912"
      ]
     },
     "execution_count": 10,
     "metadata": {},
     "output_type": "execute_result"
    }
   ],
   "source": [
    "# base line\n",
    "from sklearn.feature_extraction.text import TfidfVectorizer\n",
    "from sklearn.linear_model import LogisticRegression\n",
    "from sklearn.metrics import accuracy_score\n",
    "tfidf = TfidfVectorizer(ngram_range=(1, 2))\n",
    "x_tr = tfidf.fit_transform(df_train['text'])\n",
    "x_v = tfidf.transform(df_val['text'])\n",
    "lr = LogisticRegression(n_jobs=16,max_iter=2000)\n",
    "lr.fit(x_tr,y_train)\n",
    "accuracy_score(lr.predict(x_v), y_val)\n"
   ]
  },
  {
   "cell_type": "code",
   "execution_count": null,
   "metadata": {},
   "outputs": [],
   "source": []
  },
  {
   "cell_type": "markdown",
   "metadata": {},
   "source": [
    "### Пробуем свертки"
   ]
  },
  {
   "cell_type": "code",
   "execution_count": 10,
   "metadata": {},
   "outputs": [
    {
     "name": "stdout",
     "output_type": "stream",
     "text": [
      "Model: \"model\"\n",
      "_________________________________________________________________\n",
      "Layer (type)                 Output Shape              Param #   \n",
      "=================================================================\n",
      "input_1 (InputLayer)         [(None, 26)]              0         \n",
      "_________________________________________________________________\n",
      "embedding (Embedding)        (None, 26, 128)           22839808  \n",
      "_________________________________________________________________\n",
      "conv1d (Conv1D)              (None, 26, 512)           262656    \n",
      "_________________________________________________________________\n",
      "global_max_pooling1d (Global (None, 512)               0         \n",
      "_________________________________________________________________\n",
      "dense (Dense)                (None, 64)                32832     \n",
      "_________________________________________________________________\n",
      "dense_1 (Dense)              (None, 32)                2080      \n",
      "_________________________________________________________________\n",
      "dense_2 (Dense)              (None, 1)                 33        \n",
      "=================================================================\n",
      "Total params: 23,137,409\n",
      "Trainable params: 23,137,409\n",
      "Non-trainable params: 0\n",
      "_________________________________________________________________\n"
     ]
    }
   ],
   "source": [
    "# 1\n",
    "input_x = Input(shape=(training_length))\n",
    "x= Embedding(input_dim=word_count, output_dim=128, input_shape=(training_length,),trainable=True,\n",
    "              mask_zero=True)(input_x)\n",
    "x = Conv1D(filters=512,kernel_size =4, strides=1,padding='same',activation='relu')(x)\n",
    "x= GlobalMaxPooling1D()(x)\n",
    "x = Dense(units=64,activation = 'relu')(x)\n",
    "x = Dense(units=32,activation = 'relu')(x)\n",
    "out_x = Dense(units=1, activation='sigmoid')(x)\n",
    "model = Model(input_x,out_x)\n",
    "model.summary()"
   ]
  },
  {
   "cell_type": "code",
   "execution_count": 13,
   "metadata": {},
   "outputs": [
    {
     "name": "stdout",
     "output_type": "stream",
     "text": [
      "Epoch 1/10\n",
      "178/178 [==============================] - 10s 44ms/step - loss: 0.5490 - accuracy: 0.7121 - val_loss: 0.5078 - val_accuracy: 0.7479\n",
      "Epoch 2/10\n",
      "178/178 [==============================] - 8s 42ms/step - loss: 0.3346 - accuracy: 0.8564 - val_loss: 0.5630 - val_accuracy: 0.7487\n",
      "Epoch 3/10\n",
      "178/178 [==============================] - 8s 43ms/step - loss: 0.1521 - accuracy: 0.9410 - val_loss: 0.6966 - val_accuracy: 0.7343\n",
      "89/89 [==============================] - 0s 3ms/step - loss: 0.6966 - accuracy: 0.7343\n",
      "\n",
      "\n",
      "Test accuracy: 0.7342944145202637\n"
     ]
    },
    {
     "data": {
      "text/plain": [
       "<tensorflow.python.keras.callbacks.History at 0x2a418502670>"
      ]
     },
     "execution_count": 13,
     "metadata": {},
     "output_type": "execute_result"
    }
   ],
   "source": [
    "testting_model(model)"
   ]
  },
  {
   "cell_type": "code",
   "execution_count": 12,
   "metadata": {},
   "outputs": [
    {
     "name": "stdout",
     "output_type": "stream",
     "text": [
      "Model: \"model_1\"\n",
      "_________________________________________________________________\n",
      "Layer (type)                 Output Shape              Param #   \n",
      "=================================================================\n",
      "input_2 (InputLayer)         [(None, 26)]              0         \n",
      "_________________________________________________________________\n",
      "embedding_1 (Embedding)      (None, 26, 128)           22839808  \n",
      "_________________________________________________________________\n",
      "conv1d_1 (Conv1D)            (None, 26, 512)           262656    \n",
      "_________________________________________________________________\n",
      "activation_1 (Activation)    (None, 26, 512)           0         \n",
      "_________________________________________________________________\n",
      "layer_normalization_1 (Layer (None, 26, 512)           1024      \n",
      "_________________________________________________________________\n",
      "global_max_pooling1d_1 (Glob (None, 512)               0         \n",
      "_________________________________________________________________\n",
      "dense_3 (Dense)              (None, 64)                32832     \n",
      "_________________________________________________________________\n",
      "activation_2 (Activation)    (None, 64)                0         \n",
      "_________________________________________________________________\n",
      "layer_normalization_2 (Layer (None, 64)                128       \n",
      "_________________________________________________________________\n",
      "dense_4 (Dense)              (None, 32)                2080      \n",
      "_________________________________________________________________\n",
      "activation_3 (Activation)    (None, 32)                0         \n",
      "_________________________________________________________________\n",
      "layer_normalization_3 (Layer (None, 32)                64        \n",
      "_________________________________________________________________\n",
      "dense_5 (Dense)              (None, 1)                 33        \n",
      "=================================================================\n",
      "Total params: 23,138,625\n",
      "Trainable params: 23,138,625\n",
      "Non-trainable params: 0\n",
      "_________________________________________________________________\n"
     ]
    }
   ],
   "source": [
    "# 1.1\n",
    "input_x = Input(shape=(training_length))\n",
    "x= Embedding(input_dim=word_count, output_dim=128, input_shape=(training_length,),trainable=True,\n",
    "              mask_zero=True)(input_x)\n",
    "x = Conv1D(filters=512,kernel_size =4, strides=1,padding='same')(x)\n",
    "x = Activation('relu')(x)\n",
    "x = LayerNormalization()(x)\n",
    "x= GlobalMaxPooling1D()(x)\n",
    "x = Dense(units=64)(x)\n",
    "x = Activation('relu')(x)\n",
    "x = LayerNormalization()(x)\n",
    "x = Dense(units=32)(x)\n",
    "x = Activation('relu')(x)\n",
    "x = LayerNormalization()(x)\n",
    "out_x = Dense(units=1, activation='sigmoid')(x)\n",
    "model = Model(input_x,out_x)\n",
    "model.summary()"
   ]
  },
  {
   "cell_type": "code",
   "execution_count": 13,
   "metadata": {},
   "outputs": [
    {
     "name": "stdout",
     "output_type": "stream",
     "text": [
      "Epoch 1/10\n",
      "178/178 [==============================] - 10s 55ms/step - loss: 0.5791 - accuracy: 0.6936 - val_loss: 0.5034 - val_accuracy: 0.7515\n",
      "Epoch 2/10\n",
      "178/178 [==============================] - 9s 53ms/step - loss: 0.2907 - accuracy: 0.8780 - val_loss: 0.5493 - val_accuracy: 0.7453\n",
      "23/23 [==============================] - 0s 11ms/step - loss: 0.5493 - accuracy: 0.7453\n",
      "\n",
      "\n",
      "Test accuracy: 0.7453158497810364\n"
     ]
    },
    {
     "data": {
      "text/plain": [
       "<tensorflow.python.keras.callbacks.History at 0x1f22bfa2160>"
      ]
     },
     "execution_count": 13,
     "metadata": {},
     "output_type": "execute_result"
    }
   ],
   "source": [
    "testting_model(model)"
   ]
  },
  {
   "cell_type": "code",
   "execution_count": 23,
   "metadata": {},
   "outputs": [
    {
     "name": "stdout",
     "output_type": "stream",
     "text": [
      "Model: \"model_6\"\n",
      "__________________________________________________________________________________________________\n",
      "Layer (type)                    Output Shape         Param #     Connected to                     \n",
      "==================================================================================================\n",
      "input_7 (InputLayer)            [(None, 26)]         0                                            \n",
      "__________________________________________________________________________________________________\n",
      "embedding_6 (Embedding)         (None, 26, 128)      22839808    input_7[0][0]                    \n",
      "__________________________________________________________________________________________________\n",
      "conv1d_10 (Conv1D)              (None, 26, 512)      131584      embedding_6[0][0]                \n",
      "__________________________________________________________________________________________________\n",
      "conv1d_11 (Conv1D)              (None, 26, 512)      197120      embedding_6[0][0]                \n",
      "__________________________________________________________________________________________________\n",
      "conv1d_12 (Conv1D)              (None, 26, 512)      262656      embedding_6[0][0]                \n",
      "__________________________________________________________________________________________________\n",
      "conv1d_13 (Conv1D)              (None, 26, 512)      328192      embedding_6[0][0]                \n",
      "__________________________________________________________________________________________________\n",
      "conv1d_14 (Conv1D)              (None, 26, 512)      393728      embedding_6[0][0]                \n",
      "__________________________________________________________________________________________________\n",
      "activation_7 (Activation)       (None, 26, 512)      0           conv1d_10[0][0]                  \n",
      "__________________________________________________________________________________________________\n",
      "activation_8 (Activation)       (None, 26, 512)      0           conv1d_11[0][0]                  \n",
      "__________________________________________________________________________________________________\n",
      "activation_9 (Activation)       (None, 26, 512)      0           conv1d_12[0][0]                  \n",
      "__________________________________________________________________________________________________\n",
      "activation_10 (Activation)      (None, 26, 512)      0           conv1d_13[0][0]                  \n",
      "__________________________________________________________________________________________________\n",
      "activation_11 (Activation)      (None, 26, 512)      0           conv1d_14[0][0]                  \n",
      "__________________________________________________________________________________________________\n",
      "global_max_pooling1d_10 (Global (None, 512)          0           activation_7[0][0]               \n",
      "__________________________________________________________________________________________________\n",
      "global_max_pooling1d_11 (Global (None, 512)          0           activation_8[0][0]               \n",
      "__________________________________________________________________________________________________\n",
      "global_max_pooling1d_12 (Global (None, 512)          0           activation_9[0][0]               \n",
      "__________________________________________________________________________________________________\n",
      "global_max_pooling1d_13 (Global (None, 512)          0           activation_10[0][0]              \n",
      "__________________________________________________________________________________________________\n",
      "global_max_pooling1d_14 (Global (None, 512)          0           activation_11[0][0]              \n",
      "__________________________________________________________________________________________________\n",
      "concatenate_1 (Concatenate)     (None, 3072)         0           global_max_pooling1d_10[0][0]    \n",
      "                                                                 global_max_pooling1d_10[0][0]    \n",
      "                                                                 global_max_pooling1d_11[0][0]    \n",
      "                                                                 global_max_pooling1d_12[0][0]    \n",
      "                                                                 global_max_pooling1d_13[0][0]    \n",
      "                                                                 global_max_pooling1d_14[0][0]    \n",
      "__________________________________________________________________________________________________\n",
      "dense_18 (Dense)                (None, 128)          393344      concatenate_1[0][0]              \n",
      "__________________________________________________________________________________________________\n",
      "activation_12 (Activation)      (None, 128)          0           dense_18[0][0]                   \n",
      "__________________________________________________________________________________________________\n",
      "dense_19 (Dense)                (None, 64)           8256        activation_12[0][0]              \n",
      "__________________________________________________________________________________________________\n",
      "activation_13 (Activation)      (None, 64)           0           dense_19[0][0]                   \n",
      "__________________________________________________________________________________________________\n",
      "dense_20 (Dense)                (None, 1)            65          activation_13[0][0]              \n",
      "==================================================================================================\n",
      "Total params: 24,554,753\n",
      "Trainable params: 24,554,753\n",
      "Non-trainable params: 0\n",
      "__________________________________________________________________________________________________\n"
     ]
    }
   ],
   "source": [
    "# 2\n",
    "input_x = Input(shape=(training_length))\n",
    "x= Embedding(input_dim=word_count, output_dim=128, input_shape=(training_length,))(input_x)\n",
    "\n",
    "x2 = Conv1D(filters=512,kernel_size =2, strides=1,padding='same')(x)\n",
    "# x2 = Dropout(0.5)(x2)\n",
    "\n",
    "x2= Activation('relu')(x2)\n",
    "x2= GlobalMaxPooling1D()(x2)\n",
    "\n",
    "\n",
    "x3 = Conv1D(filters=512,kernel_size =3, strides=1,padding='same')(x)\n",
    "# x3 = Dropout(0.5)(x3)\n",
    "x3= Activation('relu')(x3)\n",
    "x3= GlobalMaxPooling1D()(x3)\n",
    "\n",
    "\n",
    "x4 = Conv1D(filters=512,kernel_size =4, strides=1,padding='same')(x)\n",
    "# x4 = Dropout(0.5)(x4)\n",
    "x4= Activation('relu')(x4)\n",
    "x4= GlobalMaxPooling1D()(x4)\n",
    "\n",
    "\n",
    "x5 = Conv1D(filters=512,kernel_size =5, strides=1,padding='same')(x)\n",
    "# x5 = Dropout(0.5)(x5)\n",
    "x5= Activation('relu')(x5)\n",
    "x5= GlobalMaxPooling1D()(x5)\n",
    "\n",
    "x6 = Conv1D(filters=512,kernel_size =6, strides=1,padding='same')(x)\n",
    "# x6 = Dropout(0.5)(x6)\n",
    "x6= Activation('relu')(x6)\n",
    "x6= GlobalMaxPooling1D()(x6)\n",
    "\n",
    "y = Concatenate(axis=1)([x2, x2,x3,x4,x5,x6])\n",
    "\n",
    "x = Dense(units=128)(y)\n",
    "# x = Dropout(0.3)(x)\n",
    "x= Activation('relu')(x)\n",
    "x = Dense(units=64)(x)\n",
    "# x = Dropout(0.3)(x)\n",
    "\n",
    "x= Activation('relu')(x)\n",
    "out_x = Dense(units=1, activation='sigmoid')(x)\n",
    "model = Model(input_x,out_x)\n",
    "model.summary()"
   ]
  },
  {
   "cell_type": "code",
   "execution_count": 24,
   "metadata": {},
   "outputs": [
    {
     "name": "stdout",
     "output_type": "stream",
     "text": [
      "Epoch 1/10\n",
      "355/355 [==============================] - 27s 73ms/step - loss: 0.5301 - accuracy: 0.7287 - val_loss: 0.4988 - val_accuracy: 0.7548\n",
      "Epoch 2/10\n",
      "355/355 [==============================] - 26s 73ms/step - loss: 0.2891 - accuracy: 0.8773 - val_loss: 0.5922 - val_accuracy: 0.7446\n",
      "23/23 [==============================] - 1s 29ms/step - loss: 0.5922 - accuracy: 0.7446\n",
      "\n",
      "\n",
      "Test accuracy: 0.7446104884147644\n"
     ]
    },
    {
     "data": {
      "text/plain": [
       "<tensorflow.python.keras.callbacks.History at 0x1c1c2be3580>"
      ]
     },
     "execution_count": 24,
     "metadata": {},
     "output_type": "execute_result"
    }
   ],
   "source": [
    "testting_model(model)"
   ]
  },
  {
   "cell_type": "code",
   "execution_count": 14,
   "metadata": {},
   "outputs": [
    {
     "name": "stdout",
     "output_type": "stream",
     "text": [
      "Model: \"model_2\"\n",
      "__________________________________________________________________________________________________\n",
      "Layer (type)                    Output Shape         Param #     Connected to                     \n",
      "==================================================================================================\n",
      "input_3 (InputLayer)            [(None, 26)]         0                                            \n",
      "__________________________________________________________________________________________________\n",
      "embedding_2 (Embedding)         (None, 26, 128)      22839808    input_3[0][0]                    \n",
      "__________________________________________________________________________________________________\n",
      "layer_normalization_4 (LayerNor (None, 26, 128)      256         embedding_2[0][0]                \n",
      "__________________________________________________________________________________________________\n",
      "layer_normalization_5 (LayerNor (None, 26, 128)      256         layer_normalization_4[0][0]      \n",
      "__________________________________________________________________________________________________\n",
      "layer_normalization_6 (LayerNor (None, 26, 128)      256         layer_normalization_5[0][0]      \n",
      "__________________________________________________________________________________________________\n",
      "layer_normalization_7 (LayerNor (None, 26, 128)      256         layer_normalization_6[0][0]      \n",
      "__________________________________________________________________________________________________\n",
      "conv1d_2 (Conv1D)               (None, 26, 512)      131584      embedding_2[0][0]                \n",
      "__________________________________________________________________________________________________\n",
      "conv1d_3 (Conv1D)               (None, 26, 512)      197120      layer_normalization_4[0][0]      \n",
      "__________________________________________________________________________________________________\n",
      "conv1d_4 (Conv1D)               (None, 26, 512)      262656      layer_normalization_5[0][0]      \n",
      "__________________________________________________________________________________________________\n",
      "conv1d_5 (Conv1D)               (None, 26, 512)      328192      layer_normalization_6[0][0]      \n",
      "__________________________________________________________________________________________________\n",
      "conv1d_6 (Conv1D)               (None, 26, 512)      393728      layer_normalization_7[0][0]      \n",
      "__________________________________________________________________________________________________\n",
      "dropout (Dropout)               (None, 26, 512)      0           conv1d_2[0][0]                   \n",
      "__________________________________________________________________________________________________\n",
      "dropout_1 (Dropout)             (None, 26, 512)      0           conv1d_3[0][0]                   \n",
      "__________________________________________________________________________________________________\n",
      "dropout_2 (Dropout)             (None, 26, 512)      0           conv1d_4[0][0]                   \n",
      "__________________________________________________________________________________________________\n",
      "dropout_3 (Dropout)             (None, 26, 512)      0           conv1d_5[0][0]                   \n",
      "__________________________________________________________________________________________________\n",
      "dropout_4 (Dropout)             (None, 26, 512)      0           conv1d_6[0][0]                   \n",
      "__________________________________________________________________________________________________\n",
      "activation_4 (Activation)       (None, 26, 512)      0           dropout[0][0]                    \n",
      "__________________________________________________________________________________________________\n",
      "activation_5 (Activation)       (None, 26, 512)      0           dropout_1[0][0]                  \n",
      "__________________________________________________________________________________________________\n",
      "activation_6 (Activation)       (None, 26, 512)      0           dropout_2[0][0]                  \n",
      "__________________________________________________________________________________________________\n",
      "activation_7 (Activation)       (None, 26, 512)      0           dropout_3[0][0]                  \n",
      "__________________________________________________________________________________________________\n",
      "activation_8 (Activation)       (None, 26, 512)      0           dropout_4[0][0]                  \n",
      "__________________________________________________________________________________________________\n",
      "global_max_pooling1d_2 (GlobalM (None, 512)          0           activation_4[0][0]               \n",
      "__________________________________________________________________________________________________\n",
      "global_max_pooling1d_3 (GlobalM (None, 512)          0           activation_5[0][0]               \n",
      "__________________________________________________________________________________________________\n",
      "global_max_pooling1d_4 (GlobalM (None, 512)          0           activation_6[0][0]               \n",
      "__________________________________________________________________________________________________\n",
      "global_max_pooling1d_5 (GlobalM (None, 512)          0           activation_7[0][0]               \n",
      "__________________________________________________________________________________________________\n",
      "global_max_pooling1d_6 (GlobalM (None, 512)          0           activation_8[0][0]               \n",
      "__________________________________________________________________________________________________\n",
      "concatenate (Concatenate)       (None, 3072)         0           global_max_pooling1d_2[0][0]     \n",
      "                                                                 global_max_pooling1d_2[0][0]     \n",
      "                                                                 global_max_pooling1d_3[0][0]     \n",
      "                                                                 global_max_pooling1d_4[0][0]     \n",
      "                                                                 global_max_pooling1d_5[0][0]     \n",
      "                                                                 global_max_pooling1d_6[0][0]     \n",
      "__________________________________________________________________________________________________\n",
      "dense_6 (Dense)                 (None, 128)          393344      concatenate[0][0]                \n",
      "__________________________________________________________________________________________________\n",
      "dropout_5 (Dropout)             (None, 128)          0           dense_6[0][0]                    \n",
      "__________________________________________________________________________________________________\n",
      "layer_normalization_9 (LayerNor (None, 128)          256         dropout_5[0][0]                  \n",
      "__________________________________________________________________________________________________\n",
      "activation_9 (Activation)       (None, 128)          0           layer_normalization_9[0][0]      \n",
      "__________________________________________________________________________________________________\n",
      "dense_7 (Dense)                 (None, 64)           8256        activation_9[0][0]               \n",
      "__________________________________________________________________________________________________\n",
      "dropout_6 (Dropout)             (None, 64)           0           dense_7[0][0]                    \n",
      "__________________________________________________________________________________________________\n",
      "layer_normalization_10 (LayerNo (None, 64)           128         dropout_6[0][0]                  \n",
      "__________________________________________________________________________________________________\n",
      "activation_10 (Activation)      (None, 64)           0           layer_normalization_10[0][0]     \n",
      "__________________________________________________________________________________________________\n",
      "dense_8 (Dense)                 (None, 1)            65          activation_10[0][0]              \n",
      "==================================================================================================\n",
      "Total params: 24,556,161\n",
      "Trainable params: 24,556,161\n",
      "Non-trainable params: 0\n",
      "__________________________________________________________________________________________________\n"
     ]
    }
   ],
   "source": [
    "# 2.1\n",
    "input_x = Input(shape=(training_length))\n",
    "x= Embedding(input_dim=word_count, output_dim=128, input_shape=(training_length,))(input_x)\n",
    "\n",
    "x2 = Conv1D(filters=512,kernel_size =2, strides=1,padding='same')(x)\n",
    "x2 = Dropout(0.2)(x2)\n",
    "x = LayerNormalization()(x)\n",
    "x2= Activation('relu')(x2)\n",
    "x2= GlobalMaxPooling1D()(x2)\n",
    "\n",
    "\n",
    "x3 = Conv1D(filters=512,kernel_size =3, strides=1,padding='same')(x)\n",
    "x3 = Dropout(0.2)(x3)\n",
    "x = LayerNormalization()(x)\n",
    "x3= Activation('relu')(x3)\n",
    "x3= GlobalMaxPooling1D()(x3)\n",
    "\n",
    "\n",
    "x4 = Conv1D(filters=512,kernel_size =4, strides=1,padding='same')(x)\n",
    "x4 = Dropout(0.2)(x4)\n",
    "x = LayerNormalization()(x)\n",
    "x4= Activation('relu')(x4)\n",
    "x4= GlobalMaxPooling1D()(x4)\n",
    "\n",
    "\n",
    "x5 = Conv1D(filters=512,kernel_size =5, strides=1,padding='same')(x)\n",
    "x5 = Dropout(0.2)(x5)\n",
    "x = LayerNormalization()(x)\n",
    "x5= Activation('relu')(x5)\n",
    "x5= GlobalMaxPooling1D()(x5)\n",
    "\n",
    "x6 = Conv1D(filters=512,kernel_size =6, strides=1,padding='same')(x)\n",
    "x6 = Dropout(0.2)(x6)\n",
    "x = LayerNormalization()(x)\n",
    "x6= Activation('relu')(x6)\n",
    "x6= GlobalMaxPooling1D()(x6)\n",
    "\n",
    "y = Concatenate(axis=1)([x2, x2,x3,x4,x5,x6])\n",
    "\n",
    "x = Dense(units=128)(y)\n",
    "x = Dropout(0.2)(x)\n",
    "x = LayerNormalization()(x)\n",
    "x= Activation('relu')(x)\n",
    "x = Dense(units=64)(x)\n",
    "x = Dropout(0.2)(x)\n",
    "x = LayerNormalization()(x)\n",
    "\n",
    "x= Activation('relu')(x)\n",
    "out_x = Dense(units=1, activation='sigmoid')(x)\n",
    "model = Model(input_x,out_x)\n",
    "model.summary()"
   ]
  },
  {
   "cell_type": "code",
   "execution_count": 15,
   "metadata": {},
   "outputs": [
    {
     "name": "stdout",
     "output_type": "stream",
     "text": [
      "Epoch 1/10\n",
      "178/178 [==============================] - 33s 175ms/step - loss: 0.5942 - accuracy: 0.6697 - val_loss: 0.5158 - val_accuracy: 0.7455\n",
      "Epoch 2/10\n",
      "178/178 [==============================] - 31s 172ms/step - loss: 0.3563 - accuracy: 0.8469 - val_loss: 0.6365 - val_accuracy: 0.7398\n",
      "23/23 [==============================] - 1s 39ms/step - loss: 0.6365 - accuracy: 0.7398\n",
      "\n",
      "\n",
      "Test accuracy: 0.7398051619529724\n"
     ]
    },
    {
     "data": {
      "text/plain": [
       "<tensorflow.python.keras.callbacks.History at 0x1f34e96d9d0>"
      ]
     },
     "execution_count": 15,
     "metadata": {},
     "output_type": "execute_result"
    }
   ],
   "source": [
    "testting_model(model)"
   ]
  },
  {
   "cell_type": "code",
   "execution_count": 36,
   "metadata": {},
   "outputs": [
    {
     "name": "stdout",
     "output_type": "stream",
     "text": [
      "Model: \"model\"\n",
      "_________________________________________________________________\n",
      "Layer (type)                 Output Shape              Param #   \n",
      "=================================================================\n",
      "input_1 (InputLayer)         [(None, 26)]              0         \n",
      "_________________________________________________________________\n",
      "embedding (Embedding)        (None, 26, 128)           22839808  \n",
      "_________________________________________________________________\n",
      "conv1d (Conv1D)              (None, 26, 512)           131584    \n",
      "_________________________________________________________________\n",
      "activation (Activation)      (None, 26, 512)           0         \n",
      "_________________________________________________________________\n",
      "conv1d_1 (Conv1D)            (None, 26, 512)           786944    \n",
      "_________________________________________________________________\n",
      "activation_1 (Activation)    (None, 26, 512)           0         \n",
      "_________________________________________________________________\n",
      "conv1d_2 (Conv1D)            (None, 26, 512)           1049088   \n",
      "_________________________________________________________________\n",
      "activation_2 (Activation)    (None, 26, 512)           0         \n",
      "_________________________________________________________________\n",
      "conv1d_3 (Conv1D)            (None, 26, 512)           1311232   \n",
      "_________________________________________________________________\n",
      "activation_3 (Activation)    (None, 26, 512)           0         \n",
      "_________________________________________________________________\n",
      "conv1d_4 (Conv1D)            (None, 26, 512)           1573376   \n",
      "_________________________________________________________________\n",
      "activation_4 (Activation)    (None, 26, 512)           0         \n",
      "_________________________________________________________________\n",
      "global_max_pooling1d (Global (None, 512)               0         \n",
      "_________________________________________________________________\n",
      "dense (Dense)                (None, 128)               65664     \n",
      "_________________________________________________________________\n",
      "activation_5 (Activation)    (None, 128)               0         \n",
      "_________________________________________________________________\n",
      "dense_1 (Dense)              (None, 64)                8256      \n",
      "_________________________________________________________________\n",
      "activation_6 (Activation)    (None, 64)                0         \n",
      "_________________________________________________________________\n",
      "dense_2 (Dense)              (None, 1)                 65        \n",
      "=================================================================\n",
      "Total params: 27,766,017\n",
      "Trainable params: 27,766,017\n",
      "Non-trainable params: 0\n",
      "_________________________________________________________________\n"
     ]
    }
   ],
   "source": [
    "# 3\n",
    "input_x = Input(shape=(training_length))\n",
    "x= Embedding(input_dim=word_count, output_dim=128, input_shape=(training_length,))(input_x)\n",
    "\n",
    "x2 = Conv1D(filters=512,kernel_size =2, strides=1,padding='same')(x)\n",
    "# x2 = Dropout(0.5)(x2)\n",
    "x2= Activation('relu')(x2)\n",
    "\n",
    "\n",
    "x3 = Conv1D(filters=512,kernel_size =3, strides=1,padding='same')(x2)\n",
    "# x3 = Dropout(0.5)(x3)\n",
    "x3= Activation('relu')(x3)\n",
    "\n",
    "\n",
    "x4 = Conv1D(filters=512,kernel_size =4, strides=1,padding='same')(x3)\n",
    "# x4 = Dropout(0.5)(x4)\n",
    "x4= Activation('relu')(x4)\n",
    "\n",
    "\n",
    "x5 = Conv1D(filters=512,kernel_size =5, strides=1,padding='same')(x4)\n",
    "# x5 = Dropout(0.5)(x5)\n",
    "x5= Activation('relu')(x5)\n",
    "\n",
    "x6 = Conv1D(filters=512,kernel_size =6, strides=1,padding='same')(x5)\n",
    "# x6 = Dropout(0.5)(x6)\n",
    "x6= Activation('relu')(x6)\n",
    "x6= GlobalMaxPooling1D()(x6)\n",
    "\n",
    "x = Dense(units=128)(x6)\n",
    "# x = Dropout(0.3)(x)\n",
    "x= Activation('relu')(x)\n",
    "x = Dense(units=64)(x)\n",
    "# x = Dropout(0.3)(x)\n",
    "\n",
    "x= Activation('relu')(x)\n",
    "out_x = Dense(units=1, activation='sigmoid')(x)\n",
    "model = Model(input_x,out_x)\n",
    "model.summary()"
   ]
  },
  {
   "cell_type": "code",
   "execution_count": 37,
   "metadata": {},
   "outputs": [
    {
     "name": "stdout",
     "output_type": "stream",
     "text": [
      "Epoch 1/10\n",
      "709/709 [==============================] - 56s 77ms/step - loss: 0.5398 - accuracy: 0.7198 - val_loss: 0.5158 - val_accuracy: 0.7499\n",
      "Epoch 2/10\n",
      "709/709 [==============================] - 54s 76ms/step - loss: 0.3044 - accuracy: 0.8698 - val_loss: 0.6233 - val_accuracy: 0.7351\n",
      "23/23 [==============================] - 2s 55ms/step - loss: 0.6233 - accuracy: 0.7351\n",
      "\n",
      "\n",
      "Test accuracy: 0.7350879311561584\n"
     ]
    },
    {
     "data": {
      "text/plain": [
       "<tensorflow.python.keras.callbacks.History at 0x1c35abe9ee0>"
      ]
     },
     "execution_count": 37,
     "metadata": {},
     "output_type": "execute_result"
    }
   ],
   "source": [
    "testting_model(model)"
   ]
  },
  {
   "cell_type": "code",
   "execution_count": 40,
   "metadata": {},
   "outputs": [
    {
     "name": "stdout",
     "output_type": "stream",
     "text": [
      "Model: \"ansbl\"\n",
      "__________________________________________________________________________________________________\n",
      "Layer (type)                    Output Shape         Param #     Connected to                     \n",
      "==================================================================================================\n",
      "input_2 (InputLayer)            [(None, 26)]         0                                            \n",
      "__________________________________________________________________________________________________\n",
      "embedding_1 (Embedding)         (None, 26, 128)      22839808    input_2[0][0]                    \n",
      "__________________________________________________________________________________________________\n",
      "conv1d_5 (Conv1D)               (None, 26, 512)      131584      embedding_1[0][0]                \n",
      "__________________________________________________________________________________________________\n",
      "conv1d_6 (Conv1D)               (None, 26, 512)      197120      embedding_1[0][0]                \n",
      "__________________________________________________________________________________________________\n",
      "conv1d_7 (Conv1D)               (None, 26, 512)      262656      embedding_1[0][0]                \n",
      "__________________________________________________________________________________________________\n",
      "conv1d_8 (Conv1D)               (None, 26, 512)      328192      embedding_1[0][0]                \n",
      "__________________________________________________________________________________________________\n",
      "conv1d_9 (Conv1D)               (None, 26, 512)      393728      embedding_1[0][0]                \n",
      "__________________________________________________________________________________________________\n",
      "activation_10 (Activation)      (None, 26, 512)      0           conv1d_5[0][0]                   \n",
      "__________________________________________________________________________________________________\n",
      "activation_12 (Activation)      (None, 26, 512)      0           conv1d_6[0][0]                   \n",
      "__________________________________________________________________________________________________\n",
      "activation_14 (Activation)      (None, 26, 512)      0           conv1d_7[0][0]                   \n",
      "__________________________________________________________________________________________________\n",
      "activation_16 (Activation)      (None, 26, 512)      0           conv1d_8[0][0]                   \n",
      "__________________________________________________________________________________________________\n",
      "activation_18 (Activation)      (None, 26, 512)      0           conv1d_9[0][0]                   \n",
      "__________________________________________________________________________________________________\n",
      "global_max_pooling1d_5 (GlobalM (None, 512)          0           activation_10[0][0]              \n",
      "__________________________________________________________________________________________________\n",
      "global_max_pooling1d_6 (GlobalM (None, 512)          0           activation_12[0][0]              \n",
      "__________________________________________________________________________________________________\n",
      "global_max_pooling1d_7 (GlobalM (None, 512)          0           activation_14[0][0]              \n",
      "__________________________________________________________________________________________________\n",
      "global_max_pooling1d_8 (GlobalM (None, 512)          0           activation_16[0][0]              \n",
      "__________________________________________________________________________________________________\n",
      "global_max_pooling1d_9 (GlobalM (None, 512)          0           activation_18[0][0]              \n",
      "__________________________________________________________________________________________________\n",
      "dense_10 (Dense)                (None, 64)           32832       global_max_pooling1d_5[0][0]     \n",
      "__________________________________________________________________________________________________\n",
      "dense_12 (Dense)                (None, 64)           32832       global_max_pooling1d_6[0][0]     \n",
      "__________________________________________________________________________________________________\n",
      "dense_14 (Dense)                (None, 64)           32832       global_max_pooling1d_7[0][0]     \n",
      "__________________________________________________________________________________________________\n",
      "dense_16 (Dense)                (None, 4)            2052        global_max_pooling1d_8[0][0]     \n",
      "__________________________________________________________________________________________________\n",
      "dense_18 (Dense)                (None, 64)           32832       global_max_pooling1d_9[0][0]     \n",
      "__________________________________________________________________________________________________\n",
      "activation_11 (Activation)      (None, 64)           0           dense_10[0][0]                   \n",
      "__________________________________________________________________________________________________\n",
      "activation_13 (Activation)      (None, 64)           0           dense_12[0][0]                   \n",
      "__________________________________________________________________________________________________\n",
      "activation_15 (Activation)      (None, 64)           0           dense_14[0][0]                   \n",
      "__________________________________________________________________________________________________\n",
      "activation_17 (Activation)      (None, 4)            0           dense_16[0][0]                   \n",
      "__________________________________________________________________________________________________\n",
      "activation_19 (Activation)      (None, 64)           0           dense_18[0][0]                   \n",
      "__________________________________________________________________________________________________\n",
      "dense_11 (Dense)                (None, 32)           2080        activation_11[0][0]              \n",
      "__________________________________________________________________________________________________\n",
      "dense_13 (Dense)                (None, 32)           2080        activation_13[0][0]              \n",
      "__________________________________________________________________________________________________\n",
      "dense_15 (Dense)                (None, 32)           2080        activation_15[0][0]              \n",
      "__________________________________________________________________________________________________\n",
      "dense_17 (Dense)                (None, 32)           160         activation_17[0][0]              \n",
      "__________________________________________________________________________________________________\n",
      "dense_19 (Dense)                (None, 32)           2080        activation_19[0][0]              \n",
      "__________________________________________________________________________________________________\n",
      "out2 (Dense)                    (None, 2)            66          dense_11[0][0]                   \n",
      "__________________________________________________________________________________________________\n",
      "out3 (Dense)                    (None, 2)            66          dense_13[0][0]                   \n",
      "__________________________________________________________________________________________________\n",
      "out4 (Dense)                    (None, 2)            66          dense_15[0][0]                   \n",
      "__________________________________________________________________________________________________\n",
      "out5 (Dense)                    (None, 2)            66          dense_17[0][0]                   \n",
      "__________________________________________________________________________________________________\n",
      "out6 (Dense)                    (None, 2)            66          dense_19[0][0]                   \n",
      "__________________________________________________________________________________________________\n",
      "maximum (Maximum)               (None, 2)            0           out2[0][0]                       \n",
      "                                                                 out3[0][0]                       \n",
      "                                                                 out4[0][0]                       \n",
      "                                                                 out5[0][0]                       \n",
      "                                                                 out6[0][0]                       \n",
      "==================================================================================================\n",
      "Total params: 24,295,278\n",
      "Trainable params: 24,295,278\n",
      "Non-trainable params: 0\n",
      "__________________________________________________________________________________________________\n"
     ]
    }
   ],
   "source": [
    "# 4\n",
    "input_x = Input(shape=(training_length))\n",
    "x= Embedding(input_dim=word_count, output_dim=128, input_shape=(training_length,))(input_x)\n",
    "\n",
    "x2 = Conv1D(filters=512,kernel_size =2, strides=1,padding='same')(x)\n",
    "# x2 = Dropout(0.5)(x2)\n",
    "x2= Activation('relu')(x2)\n",
    "x2= GlobalMaxPooling1D()(x2)\n",
    "\n",
    "x2 = Dense(units=64)(x2)\n",
    "# x2 = Dropout(0.3)(x2)\n",
    "x2= Activation('relu')(x2)\n",
    "x2 = Dense(units=32)(x2)\n",
    "# x2 = Dropout(0.3)(x2)\n",
    "out_x2 = Dense(units=2, activation='softmax',name = 'out2')(x2)\n",
    "model_2 = Model(input_x,out_x2)\n",
    "\n",
    "\n",
    "\n",
    "x3 = Conv1D(filters=512,kernel_size =3, strides=1,padding='same')(x)\n",
    "# x3 = Dropout(0.5)(x3)\n",
    "x3= Activation('relu')(x3)\n",
    "x3= GlobalMaxPooling1D()(x3)\n",
    "\n",
    "x3 = Dense(units=64)(x3)\n",
    "# x3 = Dropout(0.3)(x3)\n",
    "x3= Activation('relu')(x3)\n",
    "x3 = Dense(units=32)(x3)\n",
    "# x3 = Dropout(0.3)(x3)\n",
    "out_x3 = Dense(units=2, activation='softmax',name = 'out3')(x3)\n",
    "model_3 = Model(input_x,out_x3)\n",
    "\n",
    "\n",
    "x4 = Conv1D(filters=512,kernel_size =4, strides=1,padding='same')(x)\n",
    "# x4 = Dropout(0.5)(x4)\n",
    "x4= Activation('relu')(x4)\n",
    "x4= GlobalMaxPooling1D()(x4)\n",
    "\n",
    "x4 = Dense(units=64)(x4)\n",
    "# x4 = Dropout(0.3)(x4)\n",
    "x4= Activation('relu')(x4)\n",
    "x4 = Dense(units=32)(x4)\n",
    "# x4 = Dropout(0.3)(x4)\n",
    "out_x4 = Dense(units=2, activation='softmax',name = 'out4')(x4)\n",
    "model_4 = Model(input_x,out_x4)\n",
    "\n",
    "\n",
    "x5 = Conv1D(filters=512,kernel_size =5, strides=1,padding='same')(x)\n",
    "# x5 = Dropout(0.5)(x5)\n",
    "x5= Activation('relu')(x5)\n",
    "x5= GlobalMaxPooling1D()(x5)\n",
    "\n",
    "x5 = Dense(units=4)(x5)\n",
    "# x5 = Dropout(0.3)(x5)\n",
    "x5= Activation('relu')(x5)\n",
    "x5 = Dense(units=32)(x5)\n",
    "# x5 = Dropout(0.3)(x5)\n",
    "out_x5 = Dense(units=2, activation='softmax',name = 'out5')(x5)\n",
    "model_5 = Model(input_x,out_x5)\n",
    "\n",
    "\n",
    "\n",
    "x6 = Conv1D(filters=512,kernel_size =6, strides=1,padding='same')(x)\n",
    "# x6 = Dropout(0.5)(x6)\n",
    "x6= Activation('relu')(x6)\n",
    "x6= GlobalMaxPooling1D()(x6)\n",
    "\n",
    "x6 = Dense(units=64)(x6)\n",
    "# x6 = Dropout(0.3)(x6)\n",
    "x6= Activation('relu')(x6)\n",
    "x6 = Dense(units=32)(x6)\n",
    "# x6 = Dropout(0.3)(x6)\n",
    "out_x6 = Dense(units=2, activation='softmax',name = 'out6')(x6)\n",
    "model_6 = Model(input_x,out_x6)\n",
    "\n",
    "out_all = Maximum()([model_2.output, model_3.output ,model_4.output,model_5.output,model_6.output])\n",
    "model_ansabl = Model(input_x,out_all,name = 'ansbl')\n",
    "\n",
    "model_ansabl.summary()"
   ]
  },
  {
   "cell_type": "code",
   "execution_count": 41,
   "metadata": {},
   "outputs": [
    {
     "name": "stdout",
     "output_type": "stream",
     "text": [
      "Epoch 1/10\n",
      "709/709 [==============================] - 41s 55ms/step - loss: 0.6174 - accuracy: 0.5283 - val_loss: 0.6020 - val_accuracy: 0.6299\n",
      "Epoch 2/10\n",
      "709/709 [==============================] - 39s 54ms/step - loss: 0.5048 - accuracy: 0.6748 - val_loss: 0.6296 - val_accuracy: 0.6552\n",
      "Epoch 3/10\n",
      "709/709 [==============================] - 38s 54ms/step - loss: 0.4398 - accuracy: 0.6877 - val_loss: 0.7072 - val_accuracy: 0.6404\n",
      "23/23 [==============================] - 1s 34ms/step - loss: 0.7072 - accuracy: 0.6404\n",
      "\n",
      "\n",
      "Test accuracy: 0.6404355764389038\n"
     ]
    },
    {
     "data": {
      "text/plain": [
       "<tensorflow.python.keras.callbacks.History at 0x1c35aee1fd0>"
      ]
     },
     "execution_count": 41,
     "metadata": {},
     "output_type": "execute_result"
    }
   ],
   "source": [
    "testting_model(model_ansabl)"
   ]
  },
  {
   "cell_type": "markdown",
   "metadata": {},
   "source": [
    "### пробуем RNN"
   ]
  },
  {
   "cell_type": "code",
   "execution_count": 19,
   "metadata": {},
   "outputs": [
    {
     "name": "stdout",
     "output_type": "stream",
     "text": [
      "Model: \"model_5\"\n",
      "_________________________________________________________________\n",
      "Layer (type)                 Output Shape              Param #   \n",
      "=================================================================\n",
      "input_6 (InputLayer)         [(None, 26)]              0         \n",
      "_________________________________________________________________\n",
      "embedding_5 (Embedding)      (None, 26, 128)           22839808  \n",
      "_________________________________________________________________\n",
      "lstm_5 (LSTM)                (None, 64)                49408     \n",
      "_________________________________________________________________\n",
      "dense_15 (Dense)             (None, 32)                2080      \n",
      "_________________________________________________________________\n",
      "dense_16 (Dense)             (None, 32)                1056      \n",
      "_________________________________________________________________\n",
      "dense_17 (Dense)             (None, 1)                 33        \n",
      "=================================================================\n",
      "Total params: 22,892,385\n",
      "Trainable params: 22,892,385\n",
      "Non-trainable params: 0\n",
      "_________________________________________________________________\n"
     ]
    }
   ],
   "source": [
    "# 5\n",
    "input_x = Input(shape=(training_length))\n",
    "x= Embedding(input_dim=word_count, output_dim=128, input_shape=(training_length,))(input_x)\n",
    "x = LSTM(64)(x)\n",
    "x = Dense(32, activation='relu')(x)\n",
    "x = Dense(32, activation='relu')(x)\n",
    "out_x = Dense(1, activation='sigmoid')(x)\n",
    "model = Model(input_x,out_x)\n",
    "model.summary()"
   ]
  },
  {
   "cell_type": "code",
   "execution_count": 20,
   "metadata": {},
   "outputs": [
    {
     "name": "stdout",
     "output_type": "stream",
     "text": [
      "Epoch 1/10\n",
      "178/178 [==============================] - 7s 30ms/step - loss: 0.5548 - accuracy: 0.7116 - val_loss: 0.5360 - val_accuracy: 0.7329\n",
      "Epoch 2/10\n",
      "178/178 [==============================] - 5s 29ms/step - loss: 0.3784 - accuracy: 0.8331 - val_loss: 0.5374 - val_accuracy: 0.7433\n",
      "Epoch 3/10\n",
      "178/178 [==============================] - 5s 29ms/step - loss: 0.2447 - accuracy: 0.8991 - val_loss: 0.6397 - val_accuracy: 0.7302\n",
      "23/23 [==============================] - 0s 4ms/step - loss: 0.6397 - accuracy: 0.7302\n",
      "\n",
      "\n",
      "Test accuracy: 0.7301943898200989\n"
     ]
    },
    {
     "data": {
      "text/plain": [
       "<tensorflow.python.keras.callbacks.History at 0x1c82b25afa0>"
      ]
     },
     "execution_count": 20,
     "metadata": {},
     "output_type": "execute_result"
    }
   ],
   "source": [
    "testting_model(model)"
   ]
  },
  {
   "cell_type": "code",
   "execution_count": null,
   "metadata": {},
   "outputs": [],
   "source": [
    "# 5.1\n",
    "input_x = Input(shape=(training_length))\n",
    "x= Embedding(input_dim=word_count, output_dim=128, input_shape=(training_length,))(input_x)\n",
    "x = LSTM(64)(x)\n",
    "x = Dense(32, activation='relu')(x)\n",
    "x = Dense(32, activation='relu')(x)\n",
    "out_x = Dense(1, activation='sigmoid')(x)\n",
    "model = Model(input_x,out_x)\n",
    "model.summary()"
   ]
  },
  {
   "cell_type": "markdown",
   "metadata": {},
   "source": [
    "### пробуем смешивать\n",
    "\n"
   ]
  },
  {
   "cell_type": "code",
   "execution_count": 9,
   "metadata": {},
   "outputs": [
    {
     "name": "stdout",
     "output_type": "stream",
     "text": [
      "Model: \"model\"\n",
      "_________________________________________________________________\n",
      "Layer (type)                 Output Shape              Param #   \n",
      "=================================================================\n",
      "input_1 (InputLayer)         [(None, 26)]              0         \n",
      "_________________________________________________________________\n",
      "embedding (Embedding)        (None, 26, 128)           22839808  \n",
      "_________________________________________________________________\n",
      "conv1d (Conv1D)              (None, 26, 512)           197120    \n",
      "_________________________________________________________________\n",
      "lstm (LSTM)                  (None, 32)                69760     \n",
      "_________________________________________________________________\n",
      "dense (Dense)                (None, 32)                1056      \n",
      "_________________________________________________________________\n",
      "dense_1 (Dense)              (None, 16)                528       \n",
      "_________________________________________________________________\n",
      "dense_2 (Dense)              (None, 1)                 17        \n",
      "=================================================================\n",
      "Total params: 23,108,289\n",
      "Trainable params: 23,108,289\n",
      "Non-trainable params: 0\n",
      "_________________________________________________________________\n"
     ]
    }
   ],
   "source": [
    "# 6\n",
    "input_x = Input(shape=(training_length))\n",
    "x= Embedding(input_dim=word_count, output_dim=128, input_shape=(training_length,))(input_x)\n",
    "x = Conv1D(filters=512,kernel_size =3, strides=1,padding='same',activation='relu')(x)\n",
    "x = LSTM(32)(x)\n",
    "x = Dense(32, activation='relu')(x)\n",
    "x = Dense(16, activation='relu')(x)\n",
    "out_x = Dense(1, activation='sigmoid')(x)\n",
    "model = Model(input_x,out_x)\n",
    "model.summary()\n"
   ]
  },
  {
   "cell_type": "code",
   "execution_count": 10,
   "metadata": {},
   "outputs": [
    {
     "name": "stdout",
     "output_type": "stream",
     "text": [
      "Epoch 1/10\n",
      "178/178 [==============================] - 11s 47ms/step - loss: 0.5501 - accuracy: 0.7131 - val_loss: 0.5103 - val_accuracy: 0.7490\n",
      "Epoch 2/10\n",
      "178/178 [==============================] - 8s 43ms/step - loss: 0.3437 - accuracy: 0.8496 - val_loss: 0.5629 - val_accuracy: 0.7395\n",
      "23/23 [==============================] - 0s 11ms/step - loss: 0.5629 - accuracy: 0.7395\n",
      "\n",
      "\n",
      "Test accuracy: 0.7394965291023254\n"
     ]
    },
    {
     "data": {
      "text/plain": [
       "<tensorflow.python.keras.callbacks.History at 0x221382c73d0>"
      ]
     },
     "execution_count": 10,
     "metadata": {},
     "output_type": "execute_result"
    }
   ],
   "source": [
    "testting_model(model)"
   ]
  },
  {
   "cell_type": "code",
   "execution_count": 16,
   "metadata": {},
   "outputs": [
    {
     "name": "stdout",
     "output_type": "stream",
     "text": [
      "Model: \"model_3\"\n",
      "_________________________________________________________________\n",
      "Layer (type)                 Output Shape              Param #   \n",
      "=================================================================\n",
      "input_5 (InputLayer)         [(None, 26)]              0         \n",
      "_________________________________________________________________\n",
      "embedding_4 (Embedding)      (None, 26, 128)           22839808  \n",
      "_________________________________________________________________\n",
      "lstm_5 (LSTM)                (None, 26, 32)            20608     \n",
      "_________________________________________________________________\n",
      "conv1d_4 (Conv1D)            (None, 26, 512)           49664     \n",
      "_________________________________________________________________\n",
      "dense_9 (Dense)              (None, 26, 32)            16416     \n",
      "_________________________________________________________________\n",
      "dense_10 (Dense)             (None, 26, 16)            528       \n",
      "_________________________________________________________________\n",
      "dense_11 (Dense)             (None, 26, 1)             17        \n",
      "=================================================================\n",
      "Total params: 22,927,041\n",
      "Trainable params: 22,927,041\n",
      "Non-trainable params: 0\n",
      "_________________________________________________________________\n"
     ]
    }
   ],
   "source": [
    "# 7\n",
    "input_x = Input(shape=(training_length))\n",
    "x= Embedding(input_dim=word_count, output_dim=128, input_shape=(training_length,))(input_x)\n",
    "x = LSTM(32,return_sequences=True)(x)\n",
    "x = Conv1D(filters=512,kernel_size =3, strides=1,padding='same',activation='relu')(x)\n",
    "x = Dense(32, activation='relu')(x)\n",
    "x = Dense(16, activation='relu')(x)\n",
    "out_x = Dense(1, activation='sigmoid')(x)\n",
    "model = Model(input_x,out_x)\n",
    "model.summary()"
   ]
  },
  {
   "cell_type": "code",
   "execution_count": 17,
   "metadata": {},
   "outputs": [
    {
     "name": "stdout",
     "output_type": "stream",
     "text": [
      "Epoch 1/10\n",
      "178/178 [==============================] - 9s 40ms/step - loss: 0.6625 - accuracy: 0.5636 - val_loss: 0.6514 - val_accuracy: 0.5772\n",
      "Epoch 2/10\n",
      "178/178 [==============================] - 7s 37ms/step - loss: 0.6095 - accuracy: 0.6139 - val_loss: 0.6568 - val_accuracy: 0.5780\n",
      "Epoch 3/10\n",
      "178/178 [==============================] - 7s 37ms/step - loss: 0.5662 - accuracy: 0.6374 - val_loss: 0.6775 - val_accuracy: 0.5760\n",
      "23/23 [==============================] - 0s 8ms/step - loss: 0.6775 - accuracy: 0.5760\n",
      "\n",
      "\n",
      "Test accuracy: 0.5760279297828674\n"
     ]
    },
    {
     "data": {
      "text/plain": [
       "<tensorflow.python.keras.callbacks.History at 0x222e3a6a5b0>"
      ]
     },
     "execution_count": 17,
     "metadata": {},
     "output_type": "execute_result"
    }
   ],
   "source": [
    "testting_model(model)"
   ]
  },
  {
   "cell_type": "code",
   "execution_count": 8,
   "metadata": {},
   "outputs": [
    {
     "name": "stdout",
     "output_type": "stream",
     "text": [
      "Model: \"model\"\n",
      "__________________________________________________________________________________________________\n",
      "Layer (type)                    Output Shape         Param #     Connected to                     \n",
      "==================================================================================================\n",
      "input_1 (InputLayer)            [(None, 26)]         0                                            \n",
      "__________________________________________________________________________________________________\n",
      "embedding (Embedding)           (None, 26, 128)      22839808    input_1[0][0]                    \n",
      "__________________________________________________________________________________________________\n",
      "conv1d (Conv1D)                 (None, 26, 1024)     263168      embedding[0][0]                  \n",
      "__________________________________________________________________________________________________\n",
      "global_max_pooling1d (GlobalMax (None, 1024)         0           conv1d[0][0]                     \n",
      "__________________________________________________________________________________________________\n",
      "lstm (LSTM)                     (None, 1024)         4722688     embedding[0][0]                  \n",
      "__________________________________________________________________________________________________\n",
      "concatenate (Concatenate)       (None, 2048)         0           global_max_pooling1d[0][0]       \n",
      "                                                                 lstm[0][0]                       \n",
      "__________________________________________________________________________________________________\n",
      "dense (Dense)                   (None, 256)          524544      concatenate[0][0]                \n",
      "__________________________________________________________________________________________________\n",
      "dense_1 (Dense)                 (None, 128)          32896       dense[0][0]                      \n",
      "__________________________________________________________________________________________________\n",
      "dense_2 (Dense)                 (None, 64)           8256        dense_1[0][0]                    \n",
      "__________________________________________________________________________________________________\n",
      "dense_3 (Dense)                 (None, 1)            65          dense_2[0][0]                    \n",
      "==================================================================================================\n",
      "Total params: 28,391,425\n",
      "Trainable params: 28,391,425\n",
      "Non-trainable params: 0\n",
      "__________________________________________________________________________________________________\n"
     ]
    }
   ],
   "source": [
    "# 8\n",
    "input_x = Input(shape=(training_length))\n",
    "x= Embedding(input_dim=word_count, output_dim=128, input_shape=(training_length,))(input_x)\n",
    "x1 = Conv1D(filters=1024,kernel_size =2, strides=1,padding='same',activation='relu')(x)\n",
    "x1 = GlobalMaxPooling1D()(x1)\n",
    "x2 = LSTM(1024)(x)\n",
    "x = Concatenate(axis=1)([x1, x2])\n",
    "x = Dense(256, activation='relu')(x)\n",
    "x = Dense(128, activation='relu')(x)\n",
    "x = Dense(64, activation='relu')(x)\n",
    "out_x = Dense(1, activation='sigmoid')(x)\n",
    "model = Model(input_x,out_x)\n",
    "model.summary()\n"
   ]
  },
  {
   "cell_type": "code",
   "execution_count": 9,
   "metadata": {},
   "outputs": [
    {
     "name": "stdout",
     "output_type": "stream",
     "text": [
      "Epoch 1/10\n",
      "178/178 [==============================] - 56s 298ms/step - loss: 0.5417 - accuracy: 0.7185 - val_loss: 0.5039 - val_accuracy: 0.7509\n",
      "Epoch 2/10\n",
      "178/178 [==============================] - 53s 296ms/step - loss: 0.3199 - accuracy: 0.8632 - val_loss: 0.5687 - val_accuracy: 0.7443\n",
      "23/23 [==============================] - 2s 96ms/step - loss: 0.5687 - accuracy: 0.7443\n",
      "\n",
      "\n",
      "Test accuracy: 0.7442578077316284\n"
     ]
    },
    {
     "data": {
      "text/plain": [
       "<tensorflow.python.keras.callbacks.History at 0x2b52c8c5640>"
      ]
     },
     "execution_count": 9,
     "metadata": {},
     "output_type": "execute_result"
    }
   ],
   "source": [
    "testting_model(model)"
   ]
  },
  {
   "cell_type": "code",
   "execution_count": 11,
   "metadata": {},
   "outputs": [
    {
     "name": "stdout",
     "output_type": "stream",
     "text": [
      "Model: \"model_1\"\n",
      "__________________________________________________________________________________________________\n",
      "Layer (type)                    Output Shape         Param #     Connected to                     \n",
      "==================================================================================================\n",
      "input_2 (InputLayer)            [(None, 26)]         0                                            \n",
      "__________________________________________________________________________________________________\n",
      "embedding_1 (Embedding)         (None, 26, 128)      22839808    input_2[0][0]                    \n",
      "__________________________________________________________________________________________________\n",
      "conv1d_1 (Conv1D)               (None, 26, 1024)     263168      embedding_1[0][0]                \n",
      "__________________________________________________________________________________________________\n",
      "global_max_pooling1d_1 (GlobalM (None, 1024)         0           conv1d_1[0][0]                   \n",
      "__________________________________________________________________________________________________\n",
      "lstm_1 (LSTM)                   (None, 1024)         4722688     embedding_1[0][0]                \n",
      "__________________________________________________________________________________________________\n",
      "concatenate_1 (Concatenate)     (None, 2048)         0           global_max_pooling1d_1[0][0]     \n",
      "                                                                 lstm_1[0][0]                     \n",
      "__________________________________________________________________________________________________\n",
      "flatten (Flatten)               (None, 2048)         0           concatenate_1[0][0]              \n",
      "__________________________________________________________________________________________________\n",
      "dense_4 (Dense)                 (None, 256)          524544      flatten[0][0]                    \n",
      "__________________________________________________________________________________________________\n",
      "dense_5 (Dense)                 (None, 128)          32896       dense_4[0][0]                    \n",
      "__________________________________________________________________________________________________\n",
      "dense_6 (Dense)                 (None, 64)           8256        dense_5[0][0]                    \n",
      "__________________________________________________________________________________________________\n",
      "dense_7 (Dense)                 (None, 1)            65          dense_6[0][0]                    \n",
      "==================================================================================================\n",
      "Total params: 28,391,425\n",
      "Trainable params: 28,391,425\n",
      "Non-trainable params: 0\n",
      "__________________________________________________________________________________________________\n"
     ]
    }
   ],
   "source": [
    "# 9\n",
    "input_x = Input(shape=(training_length))\n",
    "x= Embedding(input_dim=word_count, output_dim=128, input_shape=(training_length,))(input_x)\n",
    "x1 = Conv1D(filters=1024,kernel_size =2, strides=1,padding='same',activation='relu')(x)\n",
    "x1 = GlobalMaxPooling1D()(x1)\n",
    "x2 = LSTM(1024)(x)\n",
    "x = Concatenate(axis=1)([x1, x2])\n",
    "x = Flatten()(x)\n",
    "x = Dense(256, activation='relu')(x)\n",
    "x = Dense(128, activation='relu')(x)\n",
    "x = Dense(64, activation='relu')(x)\n",
    "out_x = Dense(1, activation='sigmoid')(x)\n",
    "model = Model(input_x,out_x)\n",
    "model.summary()"
   ]
  },
  {
   "cell_type": "code",
   "execution_count": 12,
   "metadata": {},
   "outputs": [
    {
     "name": "stdout",
     "output_type": "stream",
     "text": [
      "Epoch 1/10\n",
      "178/178 [==============================] - 54s 298ms/step - loss: 0.5404 - accuracy: 0.7165 - val_loss: 0.5119 - val_accuracy: 0.7486\n",
      "Epoch 2/10\n",
      "178/178 [==============================] - 53s 296ms/step - loss: 0.3195 - accuracy: 0.8638 - val_loss: 0.5754 - val_accuracy: 0.7396\n",
      "23/23 [==============================] - 2s 97ms/step - loss: 0.5754 - accuracy: 0.7396\n",
      "\n",
      "\n",
      "Test accuracy: 0.739628791809082\n"
     ]
    },
    {
     "data": {
      "text/plain": [
       "<tensorflow.python.keras.callbacks.History at 0x2b6bca5bf10>"
      ]
     },
     "execution_count": 12,
     "metadata": {},
     "output_type": "execute_result"
    }
   ],
   "source": [
    "testting_model(model)"
   ]
  },
  {
   "cell_type": "code",
   "execution_count": 4,
   "metadata": {},
   "outputs": [
    {
     "name": "stdout",
     "output_type": "stream",
     "text": [
      "Model: \"model\"\n",
      "__________________________________________________________________________________________________\n",
      "Layer (type)                    Output Shape         Param #     Connected to                     \n",
      "==================================================================================================\n",
      "input_1 (InputLayer)            [(None, 26)]         0                                            \n",
      "__________________________________________________________________________________________________\n",
      "embedding (Embedding)           (None, 26, 128)      22839808    input_1[0][0]                    \n",
      "__________________________________________________________________________________________________\n",
      "conv1d (Conv1D)                 (None, 26, 512)      131584      embedding[0][0]                  \n",
      "__________________________________________________________________________________________________\n",
      "conv1d_1 (Conv1D)               (None, 26, 512)      197120      embedding[0][0]                  \n",
      "__________________________________________________________________________________________________\n",
      "conv1d_2 (Conv1D)               (None, 26, 512)      262656      embedding[0][0]                  \n",
      "__________________________________________________________________________________________________\n",
      "conv1d_3 (Conv1D)               (None, 26, 512)      131584      embedding[0][0]                  \n",
      "__________________________________________________________________________________________________\n",
      "conv1d_4 (Conv1D)               (None, 26, 512)      197120      embedding[0][0]                  \n",
      "__________________________________________________________________________________________________\n",
      "conv1d_5 (Conv1D)               (None, 26, 512)      197120      embedding[0][0]                  \n",
      "__________________________________________________________________________________________________\n",
      "layer_normalization (LayerNorma (None, 26, 512)      1024        conv1d[0][0]                     \n",
      "__________________________________________________________________________________________________\n",
      "layer_normalization_1 (LayerNor (None, 26, 512)      1024        conv1d_1[0][0]                   \n",
      "__________________________________________________________________________________________________\n",
      "layer_normalization_2 (LayerNor (None, 26, 512)      1024        conv1d_2[0][0]                   \n",
      "__________________________________________________________________________________________________\n",
      "layer_normalization_3 (LayerNor (None, 26, 512)      1024        conv1d_3[0][0]                   \n",
      "__________________________________________________________________________________________________\n",
      "layer_normalization_4 (LayerNor (None, 26, 512)      1024        conv1d_4[0][0]                   \n",
      "__________________________________________________________________________________________________\n",
      "layer_normalization_5 (LayerNor (None, 26, 512)      1024        conv1d_5[0][0]                   \n",
      "__________________________________________________________________________________________________\n",
      "activation (Activation)         (None, 26, 512)      0           layer_normalization[0][0]        \n",
      "__________________________________________________________________________________________________\n",
      "activation_1 (Activation)       (None, 26, 512)      0           layer_normalization_1[0][0]      \n",
      "__________________________________________________________________________________________________\n",
      "activation_2 (Activation)       (None, 26, 512)      0           layer_normalization_2[0][0]      \n",
      "__________________________________________________________________________________________________\n",
      "activation_3 (Activation)       (None, 26, 512)      0           layer_normalization_3[0][0]      \n",
      "__________________________________________________________________________________________________\n",
      "activation_4 (Activation)       (None, 26, 512)      0           layer_normalization_4[0][0]      \n",
      "__________________________________________________________________________________________________\n",
      "activation_5 (Activation)       (None, 26, 512)      0           layer_normalization_5[0][0]      \n",
      "__________________________________________________________________________________________________\n",
      "global_max_pooling1d (GlobalMax (None, 512)          0           activation[0][0]                 \n",
      "__________________________________________________________________________________________________\n",
      "global_max_pooling1d_1 (GlobalM (None, 512)          0           activation_1[0][0]               \n",
      "__________________________________________________________________________________________________\n",
      "global_max_pooling1d_2 (GlobalM (None, 512)          0           activation_2[0][0]               \n",
      "__________________________________________________________________________________________________\n",
      "lstm (LSTM)                     (None, 512)          1312768     embedding[0][0]                  \n",
      "__________________________________________________________________________________________________\n",
      "lstm_1 (LSTM)                   (None, 512)          2099200     activation_3[0][0]               \n",
      "__________________________________________________________________________________________________\n",
      "lstm_2 (LSTM)                   (None, 512)          2099200     activation_4[0][0]               \n",
      "__________________________________________________________________________________________________\n",
      "lstm_3 (LSTM)                   (None, 512)          2099200     activation_5[0][0]               \n",
      "__________________________________________________________________________________________________\n",
      "concatenate (Concatenate)       (None, 3584)         0           global_max_pooling1d[0][0]       \n",
      "                                                                 global_max_pooling1d_1[0][0]     \n",
      "                                                                 global_max_pooling1d_2[0][0]     \n",
      "                                                                 lstm[0][0]                       \n",
      "                                                                 lstm_1[0][0]                     \n",
      "                                                                 lstm_2[0][0]                     \n",
      "                                                                 lstm_3[0][0]                     \n",
      "__________________________________________________________________________________________________\n",
      "dense (Dense)                   (None, 256)          917760      concatenate[0][0]                \n",
      "__________________________________________________________________________________________________\n",
      "dense_1 (Dense)                 (None, 128)          32896       dense[0][0]                      \n",
      "__________________________________________________________________________________________________\n",
      "dense_2 (Dense)                 (None, 64)           8256        dense_1[0][0]                    \n",
      "__________________________________________________________________________________________________\n",
      "dense_3 (Dense)                 (None, 1)            65          dense_2[0][0]                    \n",
      "==================================================================================================\n",
      "Total params: 32,532,481\n",
      "Trainable params: 32,532,481\n",
      "Non-trainable params: 0\n",
      "__________________________________________________________________________________________________\n"
     ]
    }
   ],
   "source": [
    "# 10\n",
    "input_x = Input(shape=(training_length))\n",
    "x= Embedding(input_dim=word_count, output_dim=128, input_shape=(training_length,))(input_x)\n",
    "\n",
    "x1 = Conv1D(filters=512,kernel_size =2, strides=1,padding='same')(x)\n",
    "x1 = LayerNormalization()(x1)\n",
    "x1 = Activation('relu')(x1)\n",
    "x1 = GlobalMaxPooling1D()(x1)\n",
    "\n",
    "x2 = Conv1D(filters=512,kernel_size =3, strides=1,padding='same')(x)\n",
    "x2 = LayerNormalization()(x2)\n",
    "x2 = Activation('relu')(x2)\n",
    "x2 = GlobalMaxPooling1D()(x2)\n",
    "\n",
    "\n",
    "x3 = Conv1D(filters=512,kernel_size =4, strides=1,padding='same')(x)\n",
    "x3 = LayerNormalization()(x3)\n",
    "x3 = Activation('relu')(x3)\n",
    "x3 = GlobalMaxPooling1D()(x3)\n",
    "\n",
    "y = LSTM(512)(x)\n",
    "\n",
    "y1 = Conv1D(filters=512,kernel_size =2, strides=1,padding='same')(x)\n",
    "y1 = LayerNormalization()(y1)\n",
    "y1 = Activation('relu')(y1)\n",
    "y1= LSTM(512)(y1)\n",
    "\n",
    "y2 = Conv1D(filters=512,kernel_size =3, strides=1,padding='same')(x)\n",
    "y2 = LayerNormalization()(y2)\n",
    "y2 = Activation('relu')(y2)\n",
    "y2= LSTM(512)(y2)\n",
    "\n",
    "\n",
    "y3 = Conv1D(filters=512,kernel_size =3, strides=1,padding='same')(x)\n",
    "y3 = LayerNormalization()(y3)\n",
    "y3 = Activation('relu')(y3)\n",
    "y3= LSTM(512)(y3)\n",
    "\n",
    "\n",
    "x = Concatenate(axis=1)([x1, x2,x3,y,y1,y2,y3])\n",
    "x = Dense(256, activation='relu')(x)\n",
    "x = Dense(128, activation='relu')(x)\n",
    "x = Dense(64, activation='relu')(x)\n",
    "out_x = Dense(1, activation='sigmoid')(x)\n",
    "model = Model(input_x,out_x)\n",
    "model.summary()\n"
   ]
  },
  {
   "cell_type": "code",
   "execution_count": 5,
   "metadata": {},
   "outputs": [
    {
     "name": "stdout",
     "output_type": "stream",
     "text": [
      "Epoch 1/10\n",
      "178/178 [==============================] - 120s 636ms/step - loss: 0.5617 - accuracy: 0.7059 - val_loss: 0.5085 - val_accuracy: 0.7480\n",
      "Epoch 2/10\n",
      "178/178 [==============================] - 112s 629ms/step - loss: 0.2981 - accuracy: 0.8734 - val_loss: 0.5834 - val_accuracy: 0.7356\n",
      "45/45 [==============================] - 6s 118ms/step - loss: 0.5834 - accuracy: 0.7356\n",
      "\n",
      "\n",
      "Test accuracy: 0.7356169819831848\n"
     ]
    },
    {
     "data": {
      "text/plain": [
       "<tensorflow.python.keras.callbacks.History at 0x1e9bf04fbe0>"
      ]
     },
     "execution_count": 5,
     "metadata": {},
     "output_type": "execute_result"
    }
   ],
   "source": [
    "testting_model(model)"
   ]
  },
  {
   "cell_type": "markdown",
   "metadata": {},
   "source": [
    "Все одинаково!!! Как ни крути, больше ничего не выжать из данных. Думаю только бустинг даст небольшой прирост"
   ]
  },
  {
   "cell_type": "code",
   "execution_count": null,
   "metadata": {},
   "outputs": [],
   "source": []
  }
 ],
 "metadata": {
  "kernelspec": {
   "display_name": "Python 3 (ipykernel)",
   "language": "python",
   "name": "python3"
  },
  "language_info": {
   "codemirror_mode": {
    "name": "ipython",
    "version": 3
   },
   "file_extension": ".py",
   "mimetype": "text/x-python",
   "name": "python",
   "nbconvert_exporter": "python",
   "pygments_lexer": "ipython3",
   "version": "3.8.5"
  }
 },
 "nbformat": 4,
 "nbformat_minor": 4
}
