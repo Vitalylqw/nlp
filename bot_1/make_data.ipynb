{
 "cells": [
  {
   "cell_type": "markdown",
   "metadata": {},
   "source": [
    "# Simple chat-bot example"
   ]
  },
  {
   "cell_type": "code",
   "execution_count": 11,
   "metadata": {},
   "outputs": [],
   "source": [
    "import string\n",
    "from pymorphy2 import MorphAnalyzer\n",
    "from stop_words import get_stop_words\n",
    "import annoy\n",
    "from gensim.models import Word2Vec, FastText\n",
    "import pickle\n",
    "import numpy as np\n",
    "from tqdm import tqdm_notebook"
   ]
  },
  {
   "cell_type": "code",
   "execution_count": 15,
   "metadata": {},
   "outputs": [],
   "source": [
    "patch_otvety = r'D:\\train\\Otvety/Otvety.txt'\n",
    "patch_prepared_answers = r'D:\\train\\Otvety/prepared_answers.txt'"
   ]
  },
  {
   "cell_type": "code",
   "execution_count": 22,
   "metadata": {},
   "outputs": [
    {
     "name": "stderr",
     "output_type": "stream",
     "text": [
      "<ipython-input-22-c3a80167b521>:10: TqdmDeprecationWarning: This function will be removed in tqdm==5.0.0\n",
      "Please use `tqdm.notebook.tqdm` instead of `tqdm.tqdm_notebook`\n",
      "  for line in tqdm_notebook(fin):\n"
     ]
    },
    {
     "data": {
      "application/vnd.jupyter.widget-view+json": {
       "model_id": "5774a42fe9f84383a1f6881f6e362a01",
       "version_major": 2,
       "version_minor": 0
      },
      "text/plain": [
       "HBox(children=(HTML(value=''), FloatProgress(value=1.0, bar_style='info', layout=Layout(width='20px'), max=1.0…"
      ]
     },
     "metadata": {},
     "output_type": "display_data"
    },
    {
     "name": "stdout",
     "output_type": "stream",
     "text": [
      "\n"
     ]
    }
   ],
   "source": [
    "#Small preprocess of the answers\n",
    "\n",
    "question = None\n",
    "written = False\n",
    "\n",
    "with open(patch_prepared_answers, \"w\",encoding = 'utf-8') as fout:\n",
    "    with open(patch_otvety, \"r\",encoding = 'utf-8') as fin:\n",
    "        for line in tqdm_notebook(fin):\n",
    "            if line =='':\n",
    "                continue        \n",
    "            if line.startswith(\"---\"):\n",
    "                written = False\n",
    "                continue\n",
    "            if not written and question is not None:\n",
    "                fout.write(question.replace(\"\\t\", \" \").strip() + \"\\t\" + line.replace(\"\\t\", \" \"))\n",
    "                written = True\n",
    "                question = None\n",
    "                continue\n",
    "            if not written:\n",
    "                question = line.strip()\n",
    "                continue"
   ]
  },
  {
   "cell_type": "code",
   "execution_count": 30,
   "metadata": {},
   "outputs": [
    {
     "name": "stderr",
     "output_type": "stream",
     "text": [
      "<ipython-input-30-889096ef2c1f>:7: TqdmDeprecationWarning: This function will be removed in tqdm==5.0.0\n",
      "Please use `tqdm.notebook.tqdm` instead of `tqdm.tqdm_notebook`\n",
      "  for line in tqdm_notebook(fin):\n"
     ]
    },
    {
     "data": {
      "application/vnd.jupyter.widget-view+json": {
       "model_id": "b22b088d4a5b45e6b5fffa62a3f5fa51",
       "version_major": 2,
       "version_minor": 0
      },
      "text/plain": [
       "HBox(children=(HTML(value=''), FloatProgress(value=1.0, bar_style='info', layout=Layout(width='20px'), max=1.0…"
      ]
     },
     "metadata": {},
     "output_type": "display_data"
    },
    {
     "name": "stdout",
     "output_type": "stream",
     "text": [
      "\n"
     ]
    }
   ],
   "source": [
    "\n",
    "data = ''\n",
    "with open(patch_prepared_answers, \"w\",encoding = 'utf-8') as fout:\n",
    "    with open(patch_otvety, \"r\",encoding = 'utf-8') as fin:\n",
    "        for line in tqdm_notebook(fin):\n",
    "            if line.startswith(\"---\"):\n",
    "                if data !=\"\":\n",
    "                    fout.write(data.strip()+'\\n')\n",
    "                data = ''\n",
    "                continue\n",
    "            my_line = line.replace(\"\\t\", \" \")\n",
    "            my_line = my_line.replace(\"\\n\", \" \").strip()\n",
    "            data += my_line + \"\\t\""
   ]
  },
  {
   "cell_type": "code",
   "execution_count": 39,
   "metadata": {},
   "outputs": [],
   "source": [
    "def preprocess_txt(line,exclude,morpher,sw):\n",
    "    spls = \"\".join(i for i in line.strip() if i not in exclude).split()\n",
    "    spls = [morpher.parse(i.lower())[0].normal_form for i in spls]\n",
    "    spls = [i for i in spls if i not in sw and i != \"\"]\n",
    "    return spls"
   ]
  },
  {
   "cell_type": "code",
   "execution_count": 44,
   "metadata": {},
   "outputs": [
    {
     "name": "stderr",
     "output_type": "stream",
     "text": [
      "<ipython-input-44-22c84a030499>:13: TqdmDeprecationWarning: This function will be removed in tqdm==5.0.0\n",
      "Please use `tqdm.notebook.tqdm` instead of `tqdm.tqdm_notebook`\n",
      "  for line in tqdm_notebook(fin):\n"
     ]
    },
    {
     "data": {
      "application/vnd.jupyter.widget-view+json": {
       "model_id": "49e6b5006f8e4afe85182706dde757a6",
       "version_major": 2,
       "version_minor": 0
      },
      "text/plain": [
       "HBox(children=(HTML(value=''), FloatProgress(value=1.0, bar_style='info', layout=Layout(width='20px'), max=1.0…"
      ]
     },
     "metadata": {},
     "output_type": "display_data"
    },
    {
     "name": "stdout",
     "output_type": "stream",
     "text": [
      "\n"
     ]
    }
   ],
   "source": [
    "\n",
    "sentences = []\n",
    "\n",
    "morpher = MorphAnalyzer()\n",
    "sw = set(get_stop_words(\"ru\"))\n",
    "exclude = set(string.punctuation)\n",
    "c = 0\n",
    "\n",
    "with open(patch_otvety, \"r\",encoding='utf-8') as fin:\n",
    "    for line in tqdm_notebook(fin):\n",
    "        spls = preprocess_txt(line,exclude,morpher,sw)\n",
    "        sentences.append(spls)\n",
    "sentences = [i for i in sentences if len(i) > 2]"
   ]
  },
  {
   "cell_type": "code",
   "execution_count": 59,
   "metadata": {},
   "outputs": [],
   "source": [
    "patch_sentences = r'D:\\train\\Otvety/sentences.txt'\n",
    "patch_w2w = r'D:\\train\\Otvety/w2v.bin'\n",
    "patch_ft = r'D:\\train\\Otvety/ft.bin'"
   ]
  },
  {
   "cell_type": "code",
   "execution_count": 58,
   "metadata": {},
   "outputs": [],
   "source": [
    "with open(patch_sentences, 'w',encoding='utf-8') as f:\n",
    "    for s in sentences:\n",
    "        f.write(str(s) + '\\n')\n",
    "\n"
   ]
  },
  {
   "cell_type": "code",
   "execution_count": null,
   "metadata": {},
   "outputs": [],
   "source": [
    "# with open(patch_sentences, 'r') as f:\n",
    "#     sentences = [line.rstrip('\\n') for line in f]"
   ]
  },
  {
   "cell_type": "code",
   "execution_count": 75,
   "metadata": {},
   "outputs": [
    {
     "name": "stdout",
     "output_type": "stream",
     "text": [
      "Wall time: 6min 57s\n"
     ]
    }
   ],
   "source": [
    "%%time\n",
    "modelW2V = Word2Vec(sentences=sentences,  window=5, min_count=10,vector_size=300)"
   ]
  },
  {
   "cell_type": "code",
   "execution_count": 76,
   "metadata": {},
   "outputs": [],
   "source": [
    "modelW2V.wv.save_word2vec_format(patch_w2w)"
   ]
  },
  {
   "cell_type": "code",
   "execution_count": 77,
   "metadata": {},
   "outputs": [
    {
     "name": "stdout",
     "output_type": "stream",
     "text": [
      "Wall time: 18min 41s\n"
     ]
    }
   ],
   "source": [
    "%%time\n",
    "modelFT = FastText(sentences=sentences,  min_count=10, window=5, workers=14,vector_size=300)"
   ]
  },
  {
   "cell_type": "code",
   "execution_count": 78,
   "metadata": {},
   "outputs": [],
   "source": [
    "modelFT.wv.save_word2vec_format(patch_ft)"
   ]
  },
  {
   "cell_type": "code",
   "execution_count": 90,
   "metadata": {},
   "outputs": [
    {
     "name": "stderr",
     "output_type": "stream",
     "text": [
      "<timed exec>:8: TqdmDeprecationWarning: This function will be removed in tqdm==5.0.0\n",
      "Please use `tqdm.notebook.tqdm` instead of `tqdm.tqdm_notebook`\n"
     ]
    },
    {
     "data": {
      "application/vnd.jupyter.widget-view+json": {
       "model_id": "682fb6a1a4fa41ad8a5f4c32dc01c553",
       "version_major": 2,
       "version_minor": 0
      },
      "text/plain": [
       "HBox(children=(HTML(value=''), FloatProgress(value=1.0, bar_style='info', layout=Layout(width='20px'), max=1.0…"
      ]
     },
     "metadata": {},
     "output_type": "display_data"
    },
    {
     "name": "stdout",
     "output_type": "stream",
     "text": [
      "\n",
      "Wall time: 1h 15min 41s\n"
     ]
    },
    {
     "data": {
      "text/plain": [
       "True"
      ]
     },
     "execution_count": 90,
     "metadata": {},
     "output_type": "execute_result"
    }
   ],
   "source": [
    "%%time\n",
    "w2v_index = annoy.AnnoyIndex(300 ,'angular')\n",
    "ft_index = annoy.AnnoyIndex(300 ,'angular')\n",
    "\n",
    "index_map = {}\n",
    "counter = 0\n",
    "\n",
    "with open(patch_prepared_answers, \"r\",encoding='utf-8') as f:\n",
    "    for line in tqdm_notebook(f):\n",
    "        n_w2v = 0\n",
    "        n_ft = 0\n",
    "        spls = line.split(\"\\t\")\n",
    "        index_map[counter] = spls[1:]\n",
    "        question = preprocess_txt(spls[0],exclude,morpher,sw)\n",
    "        \n",
    "        vector_w2v = np.zeros(300)\n",
    "        vector_ft = np.zeros(300)\n",
    "        for word in question:\n",
    "            if word in modelW2V.wv:\n",
    "                vector_w2v += modelW2V.wv[word]\n",
    "                n_w2v += 1\n",
    "            if word in modelFT.wv:\n",
    "                vector_ft += modelFT.wv[word]\n",
    "                n_ft += 1\n",
    "        if n_w2v > 0:\n",
    "            vector_w2v = vector_w2v / n_w2v\n",
    "        if n_ft > 0:\n",
    "            vector_ft = vector_ft / n_ft\n",
    "        w2v_index.add_item(counter, vector_w2v)\n",
    "        ft_index.add_item(counter, vector_ft)\n",
    "            \n",
    "        counter += 1\n",
    "        \n",
    "\n",
    "w2v_index.build(10)\n",
    "ft_index.build(10)"
   ]
  },
  {
   "cell_type": "code",
   "execution_count": 93,
   "metadata": {},
   "outputs": [],
   "source": [
    "patch_w2v_index = r'D:\\train\\Otvety/w2v_index_full'\n",
    "patch_ft_index = r'D:\\train\\Otvety/ft_index+full'\n",
    "patch_index_map = r'D:\\train\\Otvety/index_map.pkl'"
   ]
  },
  {
   "cell_type": "code",
   "execution_count": 94,
   "metadata": {},
   "outputs": [
    {
     "data": {
      "text/plain": [
       "True"
      ]
     },
     "execution_count": 94,
     "metadata": {},
     "output_type": "execute_result"
    }
   ],
   "source": [
    "w2v_index.save(patch_w2v_index)\n",
    "ft_index.save(patch_ft_index)\n"
   ]
  },
  {
   "cell_type": "code",
   "execution_count": 95,
   "metadata": {},
   "outputs": [],
   "source": [
    "with open(patch_index_map, 'wb') as f:\n",
    "    pickle.dump(index_map, f)\n"
   ]
  },
  {
   "cell_type": "code",
   "execution_count": null,
   "metadata": {},
   "outputs": [],
   "source": []
  },
  {
   "cell_type": "code",
   "execution_count": 112,
   "metadata": {},
   "outputs": [],
   "source": [
    "def get_respons(question, index, model, index_map):\n",
    "    question = preprocess_txt(question,exclude,morpher,sw)\n",
    "    vector = np.zeros(300)\n",
    "    norm = 0\n",
    "    for word in question:\n",
    "        if word in model:\n",
    "            vector += model[word]\n",
    "            norm += 1\n",
    "    if norm > 0:\n",
    "        vector = vector / norm\n",
    "    answers = index.get_nns_by_vector(vector, 1)\n",
    "    return np.random.choice(index_map[answers[0]])"
   ]
  },
  {
   "cell_type": "code",
   "execution_count": 113,
   "metadata": {},
   "outputs": [],
   "source": [
    "def get_responses(question, index, model, index_map):\n",
    "    question = preprocess_txt(question,exclude,morpher,sw)\n",
    "    vector = np.zeros(300)\n",
    "    norm = 0\n",
    "    for word in question:\n",
    "        if word in model:\n",
    "            vector += model[word]\n",
    "            norm += 1\n",
    "    if norm > 0:\n",
    "        vector = vector / norm\n",
    "    answers = index.get_nns_by_vector(vector, 3)\n",
    "    return [index_map[i][:3] for i in answers]"
   ]
  },
  {
   "cell_type": "code",
   "execution_count": 120,
   "metadata": {},
   "outputs": [],
   "source": [
    "TEXT = \"как научиться читать мысли?\""
   ]
  },
  {
   "cell_type": "code",
   "execution_count": 121,
   "metadata": {},
   "outputs": [
    {
     "data": {
      "text/plain": [
       "'У меня бы не хватило терпения их все потом записывать! )).'"
      ]
     },
     "execution_count": 121,
     "metadata": {},
     "output_type": "execute_result"
    }
   ],
   "source": [
    "get_respons(TEXT, w2v_index, modelW2V.wv, index_map)"
   ]
  },
  {
   "cell_type": "code",
   "execution_count": 122,
   "metadata": {},
   "outputs": [
    {
     "data": {
      "text/plain": [
       "[['и жить на помойке?...нет.', 'А я уже умею!!!!.', 'ага)) о4енб).'],\n",
       " ['Примерно также, как вы видите мысли собственные. У них общая природа, почему же их можно воспринимать иначе? Если интересуют книги, то пожалуй, Звенящие кедры России Владимира Мегре..',\n",
       "  'видят сердцем.',\n",
       "  'Они их слышат на ощюпь....))))).'],\n",
       " ['Я бы не хотел что бы мои мысли читали. Итак очень трудно уединиться, а так мы не можем спокойно подумать, побыть наедине. Это было бы ужас!!! !<br>А вот чужие мысли я бы почитать не прочь, но только по моему желанию, а то надоест так =))).',\n",
       "  'не знаю, мне и безкомного общения хватает, а мысли чужие меня мало интересуют, тем более, многое и так на лицах написано.',\n",
       "  'Не думаю, т. к. довольно сложно контролировать свои собственные мысли..']]"
      ]
     },
     "execution_count": 122,
     "metadata": {},
     "output_type": "execute_result"
    }
   ],
   "source": [
    "get_responses(TEXT, w2v_index, modelW2V.wv, index_map)"
   ]
  },
  {
   "cell_type": "code",
   "execution_count": 123,
   "metadata": {},
   "outputs": [
    {
     "data": {
      "text/plain": [
       "'У меня бы не хватило терпения их все потом записывать! )).'"
      ]
     },
     "execution_count": 123,
     "metadata": {},
     "output_type": "execute_result"
    }
   ],
   "source": [
    "get_respons(TEXT, ft_index, modelFT.wv, index_map)"
   ]
  },
  {
   "cell_type": "code",
   "execution_count": 124,
   "metadata": {},
   "outputs": [
    {
     "data": {
      "text/plain": [
       "[['С днём рожденья тебя поздравляю!<br>Здоровья, радости желаю.<br>И чтоб жила ты много лет<br>Без слёз, без горести, без бед!<br><br>2<br><br>Желаю радости всегда<br>И настроенья бодрого,<br>Не знать печали никогда<br>И в жизни всего доброго.<br>Никогда не унывать,<br>Не видеть огорчения,<br>И дни с улыбкой начинать,<br>Как в этот День Рождения!<br><br>3<br><br>С днём рожденья тебя поздравляю.<br>Веселись в этот день, не грусти.<br>Много счастья тебе я желаю,<br>А особенно счастья в любви!<br><br>4<br><br>Желаю счастья целый ворох,<br>Улыбок радостных букет,<br>Друзей надёжных и весёлых,<br>Счастливой жизни целый век!<br><br>5<br><br>Желаю тебе я<br>В твой день рождения<br>Здоровья, успехов,<br>Удач и везенья,<br>Лёгких дорог,<br>Возвращений счастливых,<br>Мой самый желанный<br>И самый красивый!<br><br>6<br><br>Будь девушкой, уверенной в себе,<br>В своей борьбе, в тропе своей, в судьбе.<br>В толпе держись, как будто ты одна,<br>Как будто ты Богиней рождена!<br><br>7<br><br>Если ты противница покоя,<br>Значит, ты пока что молода,<br>И покуда верится, что можешь<br>Одолеть любой крутой подъём,<br>Ты всегда на 10 лет моложе<br>Возраста, что в паспорте твоём!<br><br>8<br><br>Пусть день твой будет солнечным, прекрасным.<br>И розами твой будет устлан путь.<br>И каждый вечер- звёздным, чистым, ясным.<br>{Имя}, всегда счастливой будь!! !<br><br>9<br><br>Пусть в день рожденья твоего<br>Тепло родных тебя согреет.<br>А с ним не страшно ничего,<br>Хоть снег летит, хоть ветер веет!<br><br>10<br><br>Под звон хрустального бокала,<br>Шипенье сладкого вина<br>Я с днем рожденья поздравляю,<br>Желаем счастья и добра. <br><br>11<br><br>Желаю быть тебе счастливой!<br>Цвести пышнее всяких роз!<br>Дорогу счастья торопливо<br>Пройти без горя и без слез!<br>Желаю счастья, песен, смеха!<br>Побольше радости, успеха.<br>Прожить желаю сотню лет,<br>Не зная горя, слез и бед!<br><br>12<br><br>Все невзгоды и преграды,<br>Мы желаем, лёгким шагом тебе обойти,<br>И пусть иногда посещает усталость,<br>Hо молодо будет сердце в груди!<br><br>13<br><br>Что пожелать тебе? Богатств? Удачи?<br>От жизни каждый хочет своего.. .<br>А мы тебе желаем просто счастья,<br>Чтоб было понемногу, но всего!<br><br>14<br><br>Давным-давно известно утвержденье,<br>Что если кто родился, то всегда,<br>В начале ночи, в день его рожденья,<br>Hа небе загорается звезда.<br>Так пусть твоя звезда не угасает<br>И в этот день ещё светлей горит,<br>Твой славный путь всё ярче освещая<br>И жизнь твою ничто не омрачит!<br><br>15<br><br>Желаем счастья, радости, успеха,<br>Большой любви и много смеха,<br>Удачь, здоровья, много силы,<br>Чтоб бодрость сердце веселила,<br>Чтоб грусти ты совсем не знал<br>И чтоб друзей не забывал!<br><br>16<br><br>В преданьи старом говорится:<br>Когда родился человек -<br>Звезда на небе загорится,<br>Чтобы светить ему на век.<br>Так пусть она тебе сияет<br>По крайней мере лет до ста,<br>И счастье дом твой охраняет<br>И радость будет в нём всегда.<br>Пусть будет в жизни всё прекрасно,<br>Без горя и невзгод,<br>Пусть будет всё светло и ясно<br>На много-много лет вперёд!<br><br>17<br><br>Пусть счастье спутником твоим<br>Останется на век<br>И будет рядом навсегда<br>Любимый человек!<br><br>18<br><br>Пусть в этот день весенний лучами<br>Вам улыбнутся люди и цветы,<br>И пусть всегда идут по жизни с Вами<br>Любовь, здоровье, счастье и мечты.<br><br>19<br><br>Пусть счастья будет полон дом,<br>И станет, без сомненья.<br>Прекрасным, светлым, добрым днем<br>День твоего рожденья.<br><br>20<br><br>Чтоб всегда под счастливой звездою<br>Вас судьба по дороге вела.<br>В доме чтоб полноводной рекою<br>Жизнь спокойно и мирно текла,<br>Пусть Ваш дом лишь друзья посещают,<br>Стороною обходят ненастья,<br>От души мы добра Вам желаем,<br>Долгой жизни, здоровья и счастья!.',\n",
       "  'А самой слабо сочинить?.\\n'],\n",
       " ['из вдохновения ))) <br>я дама.... мне муза без надобности ))) - мне пегаса подавай ))) <br>это я вам как поэтесса поэту ))).',\n",
       "  'Из эмоций.....',\n",
       "  'из ассоциаций слов с мыслями и чувствами.'],\n",
       " ['<p> Природа очень интересная <br>Красивая прелестная <br>Люблю я очень ее <br>Здоровье нам она дает </p>.\\n']]"
      ]
     },
     "execution_count": 124,
     "metadata": {},
     "output_type": "execute_result"
    }
   ],
   "source": [
    "get_responses(TEXT, w2v_index, modelFT.wv, index_map)"
   ]
  },
  {
   "cell_type": "code",
   "execution_count": 125,
   "metadata": {},
   "outputs": [],
   "source": [
    "TEXT = \"Сегодня будет секс?\""
   ]
  },
  {
   "cell_type": "code",
   "execution_count": 127,
   "metadata": {},
   "outputs": [
    {
     "data": {
      "text/plain": [
       "'Присылай сисьги я подумаю над твоим предложением ))).'"
      ]
     },
     "execution_count": 127,
     "metadata": {},
     "output_type": "execute_result"
    }
   ],
   "source": [
    "get_respons(TEXT, ft_index, modelFT.wv, index_map)"
   ]
  },
  {
   "cell_type": "code",
   "execution_count": 129,
   "metadata": {},
   "outputs": [
    {
     "data": {
      "text/plain": [
       "[['тот от которого крышу сносит?)).',\n",
       "  'нет.',\n",
       "  'Обязательно! И не один раз! И разнообразный)).'],\n",
       " ['Кто-нибудь ХОЧЕТ?Я ХОЧУ...Здесь кто-нибудь ХОЧЕТ?Я ХОЧУ...Отлично и еще ВОПРОС...Кто-нибудь ХОЧЕТ?Я ХОЧУ...Здесь кто-нибудь ХОЧЕТ?Я ХОЧУ....',\n",
       "  'ты предлагаешь создать групу ХОТЕЛОК ? :)).',\n",
       "  'все хотят.. . я хочу....'],\n",
       " ['Я! Но муж на работе=( Мот кто поможет, а зай? =).',\n",
       "  'я хочу! хочу и не молчу).',\n",
       "  'нас двое. предложи женщину. здесь все хотят.']]"
      ]
     },
     "execution_count": 129,
     "metadata": {},
     "output_type": "execute_result"
    }
   ],
   "source": [
    "get_responses(TEXT, ft_index, modelFT.wv, index_map)"
   ]
  },
  {
   "cell_type": "code",
   "execution_count": null,
   "metadata": {},
   "outputs": [],
   "source": []
  }
 ],
 "metadata": {
  "kernelspec": {
   "display_name": "Python 3",
   "language": "python",
   "name": "python3"
  },
  "language_info": {
   "codemirror_mode": {
    "name": "ipython",
    "version": 3
   },
   "file_extension": ".py",
   "mimetype": "text/x-python",
   "name": "python",
   "nbconvert_exporter": "python",
   "pygments_lexer": "ipython3",
   "version": "3.8.5"
  }
 },
 "nbformat": 4,
 "nbformat_minor": 2
}
