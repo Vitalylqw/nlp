{
 "cells": [
  {
   "cell_type": "markdown",
   "metadata": {},
   "source": [
    "Задание\n",
    "Берем отызывы за лето (из архива с материалами или предыдущего занятия)\n",
    "1. Учим conv сеть для классификации\n",
    "2. Рассмотреть 2-а варианта сеточек\n",
    "2.1 Инициализировать tf.keras.layers.Embedding предобученными векторами взять к примеру с https://rusvectores.org/ru/\n",
    "2.2 Инициализировать слой tf.keras.layers.Embedding по умолчанию (ну то есть вам ничего не делать с весами)\n",
    "\n",
    "Сравнить две архитектуры с предобученными весами и когда tf.keras.layers.Embedding обучается сразу со всей сеточкой, что получилось лучше"
   ]
  },
  {
   "cell_type": "code",
   "execution_count": 36,
   "metadata": {},
   "outputs": [],
   "source": [
    "from string import punctuation\n",
    "from stop_words import get_stop_words\n",
    "from pymorphy2 import MorphAnalyzer\n",
    "import re\n",
    "import numpy as np\n",
    "import pandas as pd\n",
    "import tensorflow as tf\n",
    "from tensorflow import keras\n",
    "from tensorflow.keras.models import Sequential, Model\n",
    "from tensorflow.keras.layers import Dense, Dropout, Activation, Input, Embedding, Conv1D, GlobalMaxPool1D,Flatten,\\\n",
    "    GlobalMaxPooling1D,Concatenate,Maximum\n",
    "from tensorflow.keras.preprocessing.text import Tokenizer\n",
    "from tensorflow.keras.preprocessing.sequence import pad_sequences\n",
    "from tensorflow.keras.callbacks import TensorBoard \n",
    "from tensorflow.keras.losses import categorical_crossentropy\n",
    "from tensorflow.keras.callbacks import EarlyStopping  \n",
    "from sklearn.feature_extraction.text import TfidfVectorizer,CountVectorizer\n",
    "from sklearn.linear_model import LogisticRegression\n",
    "from sklearn.pipeline import Pipeline\n",
    "from sklearn.metrics import accuracy_score ,roc_auc_score\n",
    "from sklearn.model_selection import train_test_split\n",
    "from tensorflow.keras.utils import to_categorical\n",
    "from tensorflow.keras.metrics import AUC"
   ]
  },
  {
   "cell_type": "code",
   "execution_count": 2,
   "metadata": {},
   "outputs": [],
   "source": [
    "df = pd.read_excel(\"отзывы за лето.xls\")"
   ]
  },
  {
   "cell_type": "code",
   "execution_count": 3,
   "metadata": {},
   "outputs": [
    {
     "data": {
      "text/html": [
       "<div>\n",
       "<style scoped>\n",
       "    .dataframe tbody tr th:only-of-type {\n",
       "        vertical-align: middle;\n",
       "    }\n",
       "\n",
       "    .dataframe tbody tr th {\n",
       "        vertical-align: top;\n",
       "    }\n",
       "\n",
       "    .dataframe thead th {\n",
       "        text-align: right;\n",
       "    }\n",
       "</style>\n",
       "<table border=\"1\" class=\"dataframe\">\n",
       "  <thead>\n",
       "    <tr style=\"text-align: right;\">\n",
       "      <th></th>\n",
       "      <th>Rating</th>\n",
       "      <th>Content</th>\n",
       "      <th>Date</th>\n",
       "    </tr>\n",
       "  </thead>\n",
       "  <tbody>\n",
       "    <tr>\n",
       "      <th>0</th>\n",
       "      <td>5</td>\n",
       "      <td>It just works!</td>\n",
       "      <td>2017-08-14</td>\n",
       "    </tr>\n",
       "    <tr>\n",
       "      <th>1</th>\n",
       "      <td>4</td>\n",
       "      <td>В целом удобноное приложение...из минусов хотя...</td>\n",
       "      <td>2017-08-14</td>\n",
       "    </tr>\n",
       "    <tr>\n",
       "      <th>2</th>\n",
       "      <td>5</td>\n",
       "      <td>Отлично все</td>\n",
       "      <td>2017-08-14</td>\n",
       "    </tr>\n",
       "    <tr>\n",
       "      <th>3</th>\n",
       "      <td>5</td>\n",
       "      <td>Стал зависать на 1% работы антивируса. Дальше ...</td>\n",
       "      <td>2017-08-14</td>\n",
       "    </tr>\n",
       "    <tr>\n",
       "      <th>4</th>\n",
       "      <td>5</td>\n",
       "      <td>Очень удобно, работает быстро.</td>\n",
       "      <td>2017-08-14</td>\n",
       "    </tr>\n",
       "    <tr>\n",
       "      <th>...</th>\n",
       "      <td>...</td>\n",
       "      <td>...</td>\n",
       "      <td>...</td>\n",
       "    </tr>\n",
       "    <tr>\n",
       "      <th>20654</th>\n",
       "      <td>1</td>\n",
       "      <td>Ну и шляпа,с роот правами бесполезная прога,ра...</td>\n",
       "      <td>2017-06-01</td>\n",
       "    </tr>\n",
       "    <tr>\n",
       "      <th>20655</th>\n",
       "      <td>5</td>\n",
       "      <td>Ок</td>\n",
       "      <td>2017-06-01</td>\n",
       "    </tr>\n",
       "    <tr>\n",
       "      <th>20656</th>\n",
       "      <td>4</td>\n",
       "      <td>Доволен</td>\n",
       "      <td>2017-06-01</td>\n",
       "    </tr>\n",
       "    <tr>\n",
       "      <th>20657</th>\n",
       "      <td>1</td>\n",
       "      <td>Песопаснасть, рут ни нужын</td>\n",
       "      <td>2017-06-01</td>\n",
       "    </tr>\n",
       "    <tr>\n",
       "      <th>20658</th>\n",
       "      <td>5</td>\n",
       "      <td>Сбербанк бомбовая компания на сегодняшний день...</td>\n",
       "      <td>2017-06-01</td>\n",
       "    </tr>\n",
       "  </tbody>\n",
       "</table>\n",
       "<p>20659 rows × 3 columns</p>\n",
       "</div>"
      ],
      "text/plain": [
       "       Rating                                            Content        Date\n",
       "0           5                                     It just works!  2017-08-14\n",
       "1           4  В целом удобноное приложение...из минусов хотя...  2017-08-14\n",
       "2           5                                        Отлично все  2017-08-14\n",
       "3           5  Стал зависать на 1% работы антивируса. Дальше ...  2017-08-14\n",
       "4           5                     Очень удобно, работает быстро.  2017-08-14\n",
       "...       ...                                                ...         ...\n",
       "20654       1  Ну и шляпа,с роот правами бесполезная прога,ра...  2017-06-01\n",
       "20655       5                                                 Ок  2017-06-01\n",
       "20656       4                                            Доволен  2017-06-01\n",
       "20657       1                         Песопаснасть, рут ни нужын  2017-06-01\n",
       "20658       5  Сбербанк бомбовая компания на сегодняшний день...  2017-06-01\n",
       "\n",
       "[20659 rows x 3 columns]"
      ]
     },
     "execution_count": 3,
     "metadata": {},
     "output_type": "execute_result"
    }
   ],
   "source": [
    "df"
   ]
  },
  {
   "cell_type": "code",
   "execution_count": 4,
   "metadata": {},
   "outputs": [
    {
     "data": {
      "text/plain": [
       "5    0.706036\n",
       "1    0.110170\n",
       "4    0.103490\n",
       "3    0.044097\n",
       "2    0.036207\n",
       "Name: Rating, dtype: float64"
      ]
     },
     "execution_count": 4,
     "metadata": {},
     "output_type": "execute_result"
    }
   ],
   "source": [
    "df.Rating.value_counts(normalize=True)"
   ]
  },
  {
   "cell_type": "code",
   "execution_count": 5,
   "metadata": {},
   "outputs": [],
   "source": [
    "df['target'] = df.Rating.apply(lambda x: 1 if x>3 else 0)"
   ]
  },
  {
   "cell_type": "code",
   "execution_count": 6,
   "metadata": {},
   "outputs": [
    {
     "data": {
      "text/plain": [
       "1    0.809526\n",
       "0    0.190474\n",
       "Name: target, dtype: float64"
      ]
     },
     "execution_count": 6,
     "metadata": {},
     "output_type": "execute_result"
    }
   ],
   "source": [
    "df.target.value_counts(normalize=True)"
   ]
  },
  {
   "cell_type": "code",
   "execution_count": 7,
   "metadata": {},
   "outputs": [],
   "source": [
    "sw = set(get_stop_words(\"ru\"))\n",
    "exclude = set(punctuation)\n",
    "morpher = MorphAnalyzer()\n",
    "\n",
    "def removeSpecialChars(review):\n",
    "     return re.sub('[^a-zа-я]', ' ', review)\n",
    "    \n",
    "def preprocess_text(txt):\n",
    "    txt = str(txt)\n",
    "    txt = removeSpecialChars(txt.lower())\n",
    "    txt = [morpher.parse(word)[0].normal_form for word in txt.split() if word not in sw]\n",
    "    return txt   "
   ]
  },
  {
   "cell_type": "code",
   "execution_count": 8,
   "metadata": {},
   "outputs": [
    {
     "name": "stdout",
     "output_type": "stream",
     "text": [
      "Wall time: 14.8 s\n"
     ]
    }
   ],
   "source": [
    "%%time\n",
    "df['text'] = df['Content'].apply(preprocess_text)"
   ]
  },
  {
   "cell_type": "code",
   "execution_count": 9,
   "metadata": {},
   "outputs": [],
   "source": [
    "df_train,df_test,train_y,test_y = train_test_split(df['text'],df['target'],test_size = 0.2,)"
   ]
  },
  {
   "cell_type": "markdown",
   "metadata": {},
   "source": [
    "сделаем безлайн "
   ]
  },
  {
   "cell_type": "code",
   "execution_count": 120,
   "metadata": {},
   "outputs": [
    {
     "name": "stdout",
     "output_type": "stream",
     "text": [
      "acc -  0.9097289448209099\n",
      "roc_auc -  0.8593337272016923\n"
     ]
    }
   ],
   "source": [
    "vectorizer = TfidfVectorizer(ngram_range=(1, 2),max_df = 3000,  min_df=6)\n",
    "classifier = LogisticRegression(n_jobs=16,max_iter=2000)\n",
    "\n",
    "model = Pipeline([\n",
    "    ('vectorizer', vectorizer),\n",
    "    ('classifier', classifier)\n",
    "])\n",
    "\n",
    "model.fit(df_train.apply(lambda x: ', '.join(x)), train_y)\n",
    "\n",
    "print('acc - ',accuracy_score(model.predict(df_test.apply(lambda x: ', '.join(x))), test_y))\n",
    "print('roc_auc - ',roc_auc_score(model.predict(df_test.apply(lambda x: ', '.join(x))), test_y))\n"
   ]
  },
  {
   "cell_type": "code",
   "execution_count": 131,
   "metadata": {},
   "outputs": [
    {
     "name": "stdout",
     "output_type": "stream",
     "text": [
      "acc -  0.9012584704743466\n",
      "roc_auc -  0.85225347555478\n"
     ]
    }
   ],
   "source": [
    "vectorizer = CountVectorizer(ngram_range=(1, 1),max_df = 3000,  min_df=5)\n",
    "classifier = LogisticRegression(n_jobs=16,max_iter=2000)\n",
    "\n",
    "model = Pipeline([\n",
    "    ('vectorizer', vectorizer),\n",
    "    ('classifier', classifier)\n",
    "])\n",
    "\n",
    "model.fit(df_train.apply(lambda x: ', '.join(x)), train_y)\n",
    "\n",
    "print('acc - ',accuracy_score(model.predict(df_test.apply(lambda x: ', '.join(x))), test_y))\n",
    "print('roc_auc - ',roc_auc_score(model.predict(df_test.apply(lambda x: ', '.join(x))), test_y))"
   ]
  },
  {
   "cell_type": "code",
   "execution_count": 14,
   "metadata": {},
   "outputs": [],
   "source": [
    "vect= CountVectorizer(ngram_range=(1, 1),max_df = 3000,  min_df=5,binary=True)\n",
    "my_words = vect.fit(df_train.apply(lambda x: ', '.join(x)))"
   ]
  },
  {
   "cell_type": "code",
   "execution_count": 15,
   "metadata": {},
   "outputs": [
    {
     "data": {
      "text/plain": [
       "1649"
      ]
     },
     "execution_count": 15,
     "metadata": {},
     "output_type": "execute_result"
    }
   ],
   "source": [
    "word2idx = my_words.vocabulary_\n",
    "len(word2idx)"
   ]
  },
  {
   "cell_type": "code",
   "execution_count": 16,
   "metadata": {},
   "outputs": [
    {
     "data": {
      "image/png": "[encoded data removed]",
      "text/plain": [
       "<Figure size 432x288 with 1 Axes>"
      ]
     },
     "metadata": {
      "needs_background": "light"
     },
     "output_type": "display_data"
    }
   ],
   "source": [
    "%matplotlib inline\n",
    "import matplotlib.pyplot as plt\n",
    "\n",
    "plt.hist(df_train.apply(len), bins=50)\n",
    "plt.show()\n"
   ]
  },
  {
   "cell_type": "code",
   "execution_count": 17,
   "metadata": {},
   "outputs": [
    {
     "name": "stderr",
     "output_type": "stream",
     "text": [
      "C:\\Users\\lqw\\AppData\\Local\\Temp/ipykernel_4872/1248772902.py:2: DeprecationWarning: `np.int` is a deprecated alias for the builtin `int`. To silence this warning, use `int` by itself. Doing this will not modify any behavior and is safe. When replacing `np.int`, you may wish to use e.g. `np.int64` or `np.int32` to specify the precision. If you wish to review your current use, check the release note link for additional information.\n",
      "Deprecated in NumPy 1.20; for more details and guidance: https://numpy.org/devdocs/release/1.20.0-notes.html#deprecations\n",
      "  data = np.zeros((len(texts), max_text_len), dtype=np.int)\n",
      "C:\\Users\\lqw\\AppData\\Local\\Temp/ipykernel_4872/1248772902.py:10: DeprecationWarning: `np.int` is a deprecated alias for the builtin `int`. To silence this warning, use `int` by itself. Doing this will not modify any behavior and is safe. When replacing `np.int`, you may wish to use e.g. `np.int64` or `np.int32` to specify the precision. If you wish to review your current use, check the release note link for additional information.\n",
      "Deprecated in NumPy 1.20; for more details and guidance: https://numpy.org/devdocs/release/1.20.0-notes.html#deprecations\n",
      "  data[inx] = np.array(padding + result[-max_text_len:], dtype=np.int)\n"
     ]
    }
   ],
   "source": [
    "def convert(texts, word2idx, max_text_len):\n",
    "    data = np.zeros((len(texts), max_text_len), dtype=np.int)\n",
    "    \n",
    "    for inx, text in enumerate(texts):\n",
    "        result = []\n",
    "        for word in text:\n",
    "            if word.lower() in word2idx:\n",
    "                result.append(word2idx[word.lower()])\n",
    "        padding = [0]*(max_text_len - len(result))\n",
    "        data[inx] = np.array(padding + result[-max_text_len:], dtype=np.int)\n",
    "    return data\n",
    "X_train = convert(df_train, word2idx, 50)\n",
    "X_test = convert(df_test, word2idx, 50)\n"
   ]
  },
  {
   "cell_type": "code",
   "execution_count": 66,
   "metadata": {},
   "outputs": [],
   "source": [
    "metrik = AUC(name= 'auc')"
   ]
  },
  {
   "cell_type": "code",
   "execution_count": 19,
   "metadata": {},
   "outputs": [],
   "source": [
    "y_train = train_y.to_numpy()\n",
    "y_test = test_y.to_numpy()"
   ]
  },
  {
   "cell_type": "code",
   "execution_count": 20,
   "metadata": {},
   "outputs": [
    {
     "name": "stdout",
     "output_type": "stream",
     "text": [
      "Model: \"model\"\n",
      "_________________________________________________________________\n",
      "Layer (type)                 Output Shape              Param #   \n",
      "=================================================================\n",
      "input_2 (InputLayer)         [(None, 50)]              0         \n",
      "_________________________________________________________________\n",
      "embedding (Embedding)        (None, 50, 128)           211072    \n",
      "_________________________________________________________________\n",
      "flatten (Flatten)            (None, 6400)              0         \n",
      "_________________________________________________________________\n",
      "dense (Dense)                (None, 64)                409664    \n",
      "_________________________________________________________________\n",
      "dense_1 (Dense)              (None, 32)                2080      \n",
      "_________________________________________________________________\n",
      "dense_2 (Dense)              (None, 1)                 33        \n",
      "=================================================================\n",
      "Total params: 622,849\n",
      "Trainable params: 622,849\n",
      "Non-trainable params: 0\n",
      "_________________________________________________________________\n"
     ]
    }
   ],
   "source": [
    "input_x = Input(shape=(50))\n",
    "x= Embedding(input_dim=len(word2idx), output_dim=128, input_shape=(X_train.shape[1],))(input_x)\n",
    "x = Flatten()(x)\n",
    "x = Dense(units=64,activation='relu')(x)\n",
    "x = Dense(units=32,activation='relu')(x)\n",
    "out_x = Dense(units=1, activation='sigmoid')(x)\n",
    "model = Model(input_x,out_x)\n",
    "model.summary()"
   ]
  },
  {
   "cell_type": "code",
   "execution_count": 252,
   "metadata": {},
   "outputs": [],
   "source": [
    "model.compile(loss='binary_crossentropy',\n",
    "              optimizer='adam',\n",
    "              metrics=['accuracy'])"
   ]
  },
  {
   "cell_type": "code",
   "execution_count": 253,
   "metadata": {},
   "outputs": [
    {
     "name": "stdout",
     "output_type": "stream",
     "text": [
      "Epoch 1/6\n",
      "17/17 [==============================] - 1s 13ms/step - loss: 0.4674 - accuracy: 0.8095 - val_loss: 0.3743 - val_accuracy: 0.8207\n",
      "Epoch 2/6\n",
      "17/17 [==============================] - 0s 7ms/step - loss: 0.3424 - accuracy: 0.8468 - val_loss: 0.2909 - val_accuracy: 0.8700\n",
      "Epoch 3/6\n",
      "17/17 [==============================] - 0s 7ms/step - loss: 0.2739 - accuracy: 0.8829 - val_loss: 0.2437 - val_accuracy: 0.8913\n",
      "Epoch 4/6\n",
      "17/17 [==============================] - 0s 7ms/step - loss: 0.2243 - accuracy: 0.9051 - val_loss: 0.2252 - val_accuracy: 0.9054\n",
      "Epoch 5/6\n",
      "17/17 [==============================] - 0s 7ms/step - loss: 0.2009 - accuracy: 0.9184 - val_loss: 0.2192 - val_accuracy: 0.9097\n",
      "Epoch 6/6\n",
      "17/17 [==============================] - 0s 7ms/step - loss: 0.1809 - accuracy: 0.9287 - val_loss: 0.2200 - val_accuracy: 0.9109\n",
      "acc -  0.9109390125847048\n",
      "roc_auc_score -  0.9487992320692852\n"
     ]
    }
   ],
   "source": [
    "model.fit(X_train, train_y, batch_size=1024, epochs=6, \n",
    "          validation_data=(X_test, test_y))\n",
    "pred = model.predict(X_test)\n",
    "print('acc - ',accuracy_score(test_y,(pred.flatten()>=0.5)*1    )) \n",
    "print('roc_auc_score - ',roc_auc_score(test_y,pred.flatten() ))\n",
    "  "
   ]
  },
  {
   "cell_type": "markdown",
   "metadata": {},
   "source": [
    "Простая полнорсвязанная  сеть сразу дала лучшие результаты. Пооскольку roc_auc_score  больше , то есть ещен существенный ресурс поднять accuracy, за счет изменения точки отсечения"
   ]
  },
  {
   "cell_type": "markdown",
   "metadata": {},
   "source": [
    "Рассмотрим сверточнуые сети"
   ]
  },
  {
   "cell_type": "code",
   "execution_count": 281,
   "metadata": {},
   "outputs": [
    {
     "name": "stdout",
     "output_type": "stream",
     "text": [
      "Model: \"model_24\"\n",
      "_________________________________________________________________\n",
      "Layer (type)                 Output Shape              Param #   \n",
      "=================================================================\n",
      "input_27 (InputLayer)        [(None, 50)]              0         \n",
      "_________________________________________________________________\n",
      "embedding_26 (Embedding)     (None, 50, 128)           213120    \n",
      "_________________________________________________________________\n",
      "conv1d_13 (Conv1D)           (None, 50, 1024)          263168    \n",
      "_________________________________________________________________\n",
      "global_max_pooling1d_12 (Glo (None, 1024)              0         \n",
      "_________________________________________________________________\n",
      "dense_73 (Dense)             (None, 64)                65600     \n",
      "_________________________________________________________________\n",
      "dense_74 (Dense)             (None, 32)                2080      \n",
      "_________________________________________________________________\n",
      "dense_75 (Dense)             (None, 1)                 33        \n",
      "=================================================================\n",
      "Total params: 544,001\n",
      "Trainable params: 544,001\n",
      "Non-trainable params: 0\n",
      "_________________________________________________________________\n"
     ]
    }
   ],
   "source": [
    "input_x = Input(shape=(50))\n",
    "x= Embedding(input_dim=len(word2idx), output_dim=128, input_shape=(X_train.shape[1],))(input_x)\n",
    "x = Conv1D(filters=1024,kernel_size =2, strides=1,padding='same',activation='relu')(x)\n",
    "x= GlobalMaxPooling1D()(x)\n",
    "x = Dense(units=64,activation = 'relu')(x)\n",
    "x = Dense(units=32,activation = 'relu')(x)\n",
    "out_x = Dense(units=1, activation='sigmoid')(x)\n",
    "model = Model(input_x,out_x)\n",
    "model.summary()"
   ]
  },
  {
   "cell_type": "code",
   "execution_count": 282,
   "metadata": {},
   "outputs": [
    {
     "name": "stdout",
     "output_type": "stream",
     "text": [
      "Epoch 1/5\n",
      "17/17 [==============================] - 2s 70ms/step - loss: 0.5256 - accuracy: 0.7863 - val_loss: 0.3966 - val_accuracy: 0.8156\n",
      "Epoch 2/5\n",
      "17/17 [==============================] - 1s 59ms/step - loss: 0.3070 - accuracy: 0.8558 - val_loss: 0.2103 - val_accuracy: 0.9102\n",
      "Epoch 3/5\n",
      "17/17 [==============================] - 1s 59ms/step - loss: 0.2058 - accuracy: 0.9138 - val_loss: 0.2050 - val_accuracy: 0.9141\n",
      "Epoch 4/5\n",
      "17/17 [==============================] - 1s 59ms/step - loss: 0.1829 - accuracy: 0.9268 - val_loss: 0.2042 - val_accuracy: 0.9121\n",
      "Epoch 5/5\n",
      "17/17 [==============================] - 1s 59ms/step - loss: 0.1690 - accuracy: 0.9332 - val_loss: 0.2104 - val_accuracy: 0.9129\n",
      "acc -  0.9128751210067764\n",
      "roc_auc_score -  0.9527025553556547\n"
     ]
    }
   ],
   "source": [
    "model.compile(loss='binary_crossentropy',\n",
    "              optimizer='adam',\n",
    "              metrics=['accuracy'])\n",
    "model.fit(X_train, train_y, batch_size=1024, epochs=5, \n",
    "          validation_data=(X_test, test_y))\n",
    "pred = model.predict(X_test)\n",
    "print('acc - ',accuracy_score(test_y,(pred.flatten()>=0.5)*1    )) \n",
    "print('roc_auc_score - ',roc_auc_score(test_y,pred.flatten() ))"
   ]
  },
  {
   "cell_type": "markdown",
   "metadata": {},
   "source": [
    "свертка особьо не дает результатов  \n",
    "Попробуем больше сверток"
   ]
  },
  {
   "cell_type": "code",
   "execution_count": 297,
   "metadata": {},
   "outputs": [
    {
     "name": "stdout",
     "output_type": "stream",
     "text": [
      "Model: \"model_31\"\n",
      "__________________________________________________________________________________________________\n",
      "Layer (type)                    Output Shape         Param #     Connected to                     \n",
      "==================================================================================================\n",
      "input_35 (InputLayer)           [(None, 50)]         0                                            \n",
      "__________________________________________________________________________________________________\n",
      "embedding_34 (Embedding)        (None, 50, 128)      213120      input_35[0][0]                   \n",
      "__________________________________________________________________________________________________\n",
      "conv1d_49 (Conv1D)              (None, 50, 1024)     263168      embedding_34[0][0]               \n",
      "__________________________________________________________________________________________________\n",
      "conv1d_50 (Conv1D)              (None, 50, 1024)     394240      embedding_34[0][0]               \n",
      "__________________________________________________________________________________________________\n",
      "conv1d_51 (Conv1D)              (None, 50, 1024)     525312      embedding_34[0][0]               \n",
      "__________________________________________________________________________________________________\n",
      "conv1d_52 (Conv1D)              (None, 50, 512)      328192      embedding_34[0][0]               \n",
      "__________________________________________________________________________________________________\n",
      "conv1d_53 (Conv1D)              (None, 50, 1024)     787456      embedding_34[0][0]               \n",
      "__________________________________________________________________________________________________\n",
      "dropout_29 (Dropout)            (None, 50, 1024)     0           conv1d_49[0][0]                  \n",
      "__________________________________________________________________________________________________\n",
      "dropout_30 (Dropout)            (None, 50, 1024)     0           conv1d_50[0][0]                  \n",
      "__________________________________________________________________________________________________\n",
      "dropout_31 (Dropout)            (None, 50, 1024)     0           conv1d_51[0][0]                  \n",
      "__________________________________________________________________________________________________\n",
      "dropout_32 (Dropout)            (None, 50, 512)      0           conv1d_52[0][0]                  \n",
      "__________________________________________________________________________________________________\n",
      "dropout_33 (Dropout)            (None, 50, 1024)     0           conv1d_53[0][0]                  \n",
      "__________________________________________________________________________________________________\n",
      "activation_47 (Activation)      (None, 50, 1024)     0           dropout_29[0][0]                 \n",
      "__________________________________________________________________________________________________\n",
      "activation_48 (Activation)      (None, 50, 1024)     0           dropout_30[0][0]                 \n",
      "__________________________________________________________________________________________________\n",
      "activation_49 (Activation)      (None, 50, 1024)     0           dropout_31[0][0]                 \n",
      "__________________________________________________________________________________________________\n",
      "activation_50 (Activation)      (None, 50, 512)      0           dropout_32[0][0]                 \n",
      "__________________________________________________________________________________________________\n",
      "activation_51 (Activation)      (None, 50, 1024)     0           dropout_33[0][0]                 \n",
      "__________________________________________________________________________________________________\n",
      "global_max_pooling1d_48 (Global (None, 1024)         0           activation_47[0][0]              \n",
      "__________________________________________________________________________________________________\n",
      "global_max_pooling1d_49 (Global (None, 1024)         0           activation_48[0][0]              \n",
      "__________________________________________________________________________________________________\n",
      "global_max_pooling1d_50 (Global (None, 1024)         0           activation_49[0][0]              \n",
      "__________________________________________________________________________________________________\n",
      "global_max_pooling1d_51 (Global (None, 512)          0           activation_50[0][0]              \n",
      "__________________________________________________________________________________________________\n",
      "global_max_pooling1d_52 (Global (None, 1024)         0           activation_51[0][0]              \n",
      "__________________________________________________________________________________________________\n",
      "concatenate_6 (Concatenate)     (None, 5632)         0           global_max_pooling1d_48[0][0]    \n",
      "                                                                 global_max_pooling1d_48[0][0]    \n",
      "                                                                 global_max_pooling1d_49[0][0]    \n",
      "                                                                 global_max_pooling1d_50[0][0]    \n",
      "                                                                 global_max_pooling1d_51[0][0]    \n",
      "                                                                 global_max_pooling1d_52[0][0]    \n",
      "__________________________________________________________________________________________________\n",
      "dense_94 (Dense)                (None, 256)          1442048     concatenate_6[0][0]              \n",
      "__________________________________________________________________________________________________\n",
      "dropout_34 (Dropout)            (None, 256)          0           dense_94[0][0]                   \n",
      "__________________________________________________________________________________________________\n",
      "activation_52 (Activation)      (None, 256)          0           dropout_34[0][0]                 \n",
      "__________________________________________________________________________________________________\n",
      "dense_95 (Dense)                (None, 128)          32896       activation_52[0][0]              \n",
      "__________________________________________________________________________________________________\n",
      "dropout_35 (Dropout)            (None, 128)          0           dense_95[0][0]                   \n",
      "__________________________________________________________________________________________________\n",
      "activation_53 (Activation)      (None, 128)          0           dropout_35[0][0]                 \n",
      "__________________________________________________________________________________________________\n",
      "dense_96 (Dense)                (None, 1)            129         activation_53[0][0]              \n",
      "==================================================================================================\n",
      "Total params: 3,986,561\n",
      "Trainable params: 3,986,561\n",
      "Non-trainable params: 0\n",
      "__________________________________________________________________________________________________\n"
     ]
    }
   ],
   "source": [
    "input_x = Input(shape=(50))\n",
    "x= Embedding(input_dim=len(word2idx), output_dim=128, input_shape=(X_train.shape[1],))(input_x)\n",
    "\n",
    "x2 = Conv1D(filters=1024,kernel_size =2, strides=1,padding='same')(x)\n",
    "x2 = Dropout(0.5)(x2)\n",
    "x2= Activation('relu')(x2)\n",
    "x2= GlobalMaxPooling1D()(x2)\n",
    "\n",
    "\n",
    "x3 = Conv1D(filters=1024,kernel_size =3, strides=1,padding='same')(x)\n",
    "x3 = Dropout(0.5)(x3)\n",
    "x3= Activation('relu')(x3)\n",
    "x3= GlobalMaxPooling1D()(x3)\n",
    "\n",
    "\n",
    "x4 = Conv1D(filters=1024,kernel_size =4, strides=1,padding='same')(x)\n",
    "x4 = Dropout(0.5)(x4)\n",
    "x4= Activation('relu')(x4)\n",
    "x4= GlobalMaxPooling1D()(x4)\n",
    "\n",
    "\n",
    "x5 = Conv1D(filters=512,kernel_size =5, strides=1,padding='same')(x)\n",
    "x5 = Dropout(0.5)(x5)\n",
    "x5= Activation('relu')(x5)\n",
    "x5= GlobalMaxPooling1D()(x5)\n",
    "\n",
    "x6 = Conv1D(filters=1024,kernel_size =6, strides=1,padding='same')(x)\n",
    "x6 = Dropout(0.5)(x6)\n",
    "x6= Activation('relu')(x6)\n",
    "x6= GlobalMaxPooling1D()(x6)\n",
    "\n",
    "y = Concatenate(axis=1)([x2, x2,x3,x4,x5,x6])\n",
    "\n",
    "x = Dense(units=256)(y)\n",
    "x = Dropout(0.3)(x)\n",
    "x= Activation('relu')(x)\n",
    "x = Dense(units=128)(x)\n",
    "x = Dropout(0.3)(x)\n",
    "\n",
    "x= Activation('relu')(x)\n",
    "out_x = Dense(units=1, activation='sigmoid')(x)\n",
    "model = Model(input_x,out_x)\n",
    "model.summary()"
   ]
  },
  {
   "cell_type": "code",
   "execution_count": 298,
   "metadata": {},
   "outputs": [
    {
     "name": "stdout",
     "output_type": "stream",
     "text": [
      "Epoch 1/3\n",
      "17/17 [==============================] - 7s 392ms/step - loss: 0.4167 - accuracy: 0.8016 - val_loss: 0.3094 - val_accuracy: 0.8734\n",
      "Epoch 2/3\n",
      "17/17 [==============================] - 6s 382ms/step - loss: 0.2418 - accuracy: 0.8970 - val_loss: 0.2479 - val_accuracy: 0.9066\n",
      "Epoch 3/3\n",
      "17/17 [==============================] - 7s 384ms/step - loss: 0.1956 - accuracy: 0.9230 - val_loss: 0.2282 - val_accuracy: 0.9097\n",
      "acc -  0.9097289448209099\n",
      "roc_auc_score -  0.9549052937373926\n"
     ]
    }
   ],
   "source": [
    "model.compile(loss='binary_crossentropy',\n",
    "              optimizer='adam',\n",
    "              metrics=['accuracy'])\n",
    "model.fit(X_train, train_y, batch_size=1024, epochs=3, \n",
    "          validation_data=(X_test, test_y))\n",
    "pred = model.predict(X_test)\n",
    "print('acc - ',accuracy_score(test_y,(pred.flatten()>=0.5)*1    )) \n",
    "print('roc_auc_score - ',roc_auc_score(test_y,pred.flatten() ))"
   ]
  },
  {
   "cell_type": "markdown",
   "metadata": {},
   "source": [
    "Особых изменений нет"
   ]
  },
  {
   "cell_type": "code",
   "execution_count": null,
   "metadata": {},
   "outputs": [],
   "source": []
  },
  {
   "cell_type": "code",
   "execution_count": 30,
   "metadata": {},
   "outputs": [],
   "source": [
    "y_train = to_categorical(train_y)\n",
    "y_test = to_categorical(test_y)"
   ]
  },
  {
   "cell_type": "code",
   "execution_count": 26,
   "metadata": {},
   "outputs": [
    {
     "name": "stdout",
     "output_type": "stream",
     "text": [
      "Model: \"model_2\"\n",
      "__________________________________________________________________________________________________\n",
      "Layer (type)                    Output Shape         Param #     Connected to                     \n",
      "==================================================================================================\n",
      "input_4 (InputLayer)            [(None, 50)]         0                                            \n",
      "__________________________________________________________________________________________________\n",
      "embedding_2 (Embedding)         (None, 50, 128)      211072      input_4[0][0]                    \n",
      "__________________________________________________________________________________________________\n",
      "conv1d_5 (Conv1D)               (None, 50, 1024)     263168      embedding_2[0][0]                \n",
      "__________________________________________________________________________________________________\n",
      "conv1d_6 (Conv1D)               (None, 50, 1024)     394240      embedding_2[0][0]                \n",
      "__________________________________________________________________________________________________\n",
      "conv1d_7 (Conv1D)               (None, 50, 1024)     525312      embedding_2[0][0]                \n",
      "__________________________________________________________________________________________________\n",
      "conv1d_8 (Conv1D)               (None, 50, 1024)     656384      embedding_2[0][0]                \n",
      "__________________________________________________________________________________________________\n",
      "conv1d_9 (Conv1D)               (None, 50, 1024)     787456      embedding_2[0][0]                \n",
      "__________________________________________________________________________________________________\n",
      "dropout_7 (Dropout)             (None, 50, 1024)     0           conv1d_5[0][0]                   \n",
      "__________________________________________________________________________________________________\n",
      "dropout_8 (Dropout)             (None, 50, 1024)     0           conv1d_6[0][0]                   \n",
      "__________________________________________________________________________________________________\n",
      "dropout_9 (Dropout)             (None, 50, 1024)     0           conv1d_7[0][0]                   \n",
      "__________________________________________________________________________________________________\n",
      "dropout_10 (Dropout)            (None, 50, 1024)     0           conv1d_8[0][0]                   \n",
      "__________________________________________________________________________________________________\n",
      "dropout_11 (Dropout)            (None, 50, 1024)     0           conv1d_9[0][0]                   \n",
      "__________________________________________________________________________________________________\n",
      "activation_7 (Activation)       (None, 50, 1024)     0           dropout_7[0][0]                  \n",
      "__________________________________________________________________________________________________\n",
      "activation_8 (Activation)       (None, 50, 1024)     0           dropout_8[0][0]                  \n",
      "__________________________________________________________________________________________________\n",
      "activation_9 (Activation)       (None, 50, 1024)     0           dropout_9[0][0]                  \n",
      "__________________________________________________________________________________________________\n",
      "activation_10 (Activation)      (None, 50, 1024)     0           dropout_10[0][0]                 \n",
      "__________________________________________________________________________________________________\n",
      "activation_11 (Activation)      (None, 50, 1024)     0           dropout_11[0][0]                 \n",
      "__________________________________________________________________________________________________\n",
      "global_max_pooling1d_5 (GlobalM (None, 1024)         0           activation_7[0][0]               \n",
      "__________________________________________________________________________________________________\n",
      "global_max_pooling1d_6 (GlobalM (None, 1024)         0           activation_8[0][0]               \n",
      "__________________________________________________________________________________________________\n",
      "global_max_pooling1d_7 (GlobalM (None, 1024)         0           activation_9[0][0]               \n",
      "__________________________________________________________________________________________________\n",
      "global_max_pooling1d_8 (GlobalM (None, 1024)         0           activation_10[0][0]              \n",
      "__________________________________________________________________________________________________\n",
      "global_max_pooling1d_9 (GlobalM (None, 1024)         0           activation_11[0][0]              \n",
      "__________________________________________________________________________________________________\n",
      "concatenate_1 (Concatenate)     (None, 6144)         0           global_max_pooling1d_5[0][0]     \n",
      "                                                                 global_max_pooling1d_5[0][0]     \n",
      "                                                                 global_max_pooling1d_6[0][0]     \n",
      "                                                                 global_max_pooling1d_7[0][0]     \n",
      "                                                                 global_max_pooling1d_8[0][0]     \n",
      "                                                                 global_max_pooling1d_9[0][0]     \n",
      "__________________________________________________________________________________________________\n",
      "dense_6 (Dense)                 (None, 256)          1573120     concatenate_1[0][0]              \n",
      "__________________________________________________________________________________________________\n",
      "dropout_12 (Dropout)            (None, 256)          0           dense_6[0][0]                    \n",
      "__________________________________________________________________________________________________\n",
      "activation_12 (Activation)      (None, 256)          0           dropout_12[0][0]                 \n",
      "__________________________________________________________________________________________________\n",
      "dense_7 (Dense)                 (None, 128)          32896       activation_12[0][0]              \n",
      "__________________________________________________________________________________________________\n",
      "dropout_13 (Dropout)            (None, 128)          0           dense_7[0][0]                    \n",
      "__________________________________________________________________________________________________\n",
      "activation_13 (Activation)      (None, 128)          0           dropout_13[0][0]                 \n",
      "__________________________________________________________________________________________________\n",
      "dense_8 (Dense)                 (None, 2)            258         activation_13[0][0]              \n",
      "==================================================================================================\n",
      "Total params: 4,443,906\n",
      "Trainable params: 4,443,906\n",
      "Non-trainable params: 0\n",
      "__________________________________________________________________________________________________\n"
     ]
    }
   ],
   "source": [
    "input_x = Input(shape=(50))\n",
    "x= Embedding(input_dim=len(word2idx), output_dim=128, input_shape=(X_train.shape[1],))(input_x)\n",
    "\n",
    "x2 = Conv1D(filters=1024,kernel_size =2, strides=1,padding='same')(x)\n",
    "x2 = Dropout(0.5)(x2)\n",
    "x2= Activation('relu')(x2)\n",
    "x2= GlobalMaxPooling1D()(x2)\n",
    "\n",
    "\n",
    "x3 = Conv1D(filters=1024,kernel_size =3, strides=1,padding='same')(x)\n",
    "x3 = Dropout(0.5)(x3)\n",
    "x3= Activation('relu')(x3)\n",
    "x3= GlobalMaxPooling1D()(x3)\n",
    "\n",
    "\n",
    "x4 = Conv1D(filters=1024,kernel_size =4, strides=1,padding='same')(x)\n",
    "x4 = Dropout(0.5)(x4)\n",
    "x4= Activation('relu')(x4)\n",
    "x4= GlobalMaxPooling1D()(x4)\n",
    "\n",
    "\n",
    "x5 = Conv1D(filters=1024,kernel_size =5, strides=1,padding='same')(x)\n",
    "x5 = Dropout(0.5)(x5)\n",
    "x5= Activation('relu')(x5)\n",
    "x5= GlobalMaxPooling1D()(x5)\n",
    "\n",
    "x6 = Conv1D(filters=1024,kernel_size =6, strides=1,padding='same')(x)\n",
    "x6 = Dropout(0.5)(x6)\n",
    "x6= Activation('relu')(x6)\n",
    "x6= GlobalMaxPooling1D()(x6)\n",
    "\n",
    "y = Concatenate(axis=1)([x2, x2,x3,x4,x5,x6])\n",
    "\n",
    "x = Dense(units=256)(y)\n",
    "x = Dropout(0.3)(x)\n",
    "x= Activation('relu')(x)\n",
    "x = Dense(units=128)(x)\n",
    "x = Dropout(0.3)(x)\n",
    "\n",
    "x= Activation('relu')(x)\n",
    "out_x = Dense(units=2, activation='softmax')(x)\n",
    "model = Model(input_x,out_x)\n",
    "model.summary()"
   ]
  },
  {
   "cell_type": "code",
   "execution_count": 34,
   "metadata": {},
   "outputs": [
    {
     "name": "stdout",
     "output_type": "stream",
     "text": [
      "Epoch 1/3\n",
      "17/17 [==============================] - 8s 434ms/step - loss: 0.1849 - accuracy: 0.9270 - val_loss: 0.2187 - val_accuracy: 0.9083\n",
      "Epoch 2/3\n",
      "17/17 [==============================] - 7s 426ms/step - loss: 0.1627 - accuracy: 0.9388 - val_loss: 0.2193 - val_accuracy: 0.9119\n",
      "Epoch 3/3\n",
      "17/17 [==============================] - 7s 426ms/step - loss: 0.1538 - accuracy: 0.9423 - val_loss: 0.2271 - val_accuracy: 0.9071\n",
      "acc -  0.9070667957405615\n",
      "roc_auc_score -  0.9455933942206137\n"
     ]
    }
   ],
   "source": [
    "model.compile(loss='binary_crossentropy',\n",
    "              optimizer='adam',\n",
    "              metrics=['accuracy'])\n",
    "model.fit(X_train, y_train, batch_size=1024, epochs=3, \n",
    "          validation_data=(X_test, y_test))\n",
    "pred = model.predict(X_test)\n",
    "print('acc - ',accuracy_score(y_test,(pred>=0.5)*1    )) \n",
    "print('roc_auc_score - ',roc_auc_score(y_test,pred ))"
   ]
  },
  {
   "cell_type": "code",
   "execution_count": null,
   "metadata": {},
   "outputs": [],
   "source": []
  },
  {
   "cell_type": "code",
   "execution_count": 112,
   "metadata": {},
   "outputs": [],
   "source": [
    "input_x = Input(shape=(50))\n",
    "x= Embedding(input_dim=len(word2idx), output_dim=128, input_shape=(X_train.shape[1],))(input_x)\n",
    "\n",
    "x2 = Conv1D(filters=512,kernel_size =2, strides=1,padding='same')(x)\n",
    "# x2 = Dropout(0.5)(x2)\n",
    "x2= Activation('relu')(x2)\n",
    "x2= GlobalMaxPooling1D()(x2)\n",
    "\n",
    "x2 = Dense(units=64)(x2)\n",
    "# x2 = Dropout(0.3)(x2)\n",
    "x2= Activation('relu')(x2)\n",
    "x2 = Dense(units=32)(x2)\n",
    "# x2 = Dropout(0.3)(x2)\n",
    "out_x2 = Dense(units=2, activation='softmax',name = 'out2')(x2)\n",
    "model_2 = Model(input_x,out_x2)\n",
    "\n",
    "\n",
    "\n",
    "x3 = Conv1D(filters=512,kernel_size =3, strides=1,padding='same')(x)\n",
    "# x3 = Dropout(0.5)(x3)\n",
    "x3= Activation('relu')(x3)\n",
    "x3= GlobalMaxPooling1D()(x3)\n",
    "\n",
    "x3 = Dense(units=64)(x3)\n",
    "# x3 = Dropout(0.3)(x3)\n",
    "x3= Activation('relu')(x3)\n",
    "x3 = Dense(units=32)(x3)\n",
    "# x3 = Dropout(0.3)(x3)\n",
    "out_x3 = Dense(units=2, activation='softmax',name = 'out3')(x3)\n",
    "model_3 = Model(input_x,out_x3)\n",
    "\n",
    "\n",
    "x4 = Conv1D(filters=512,kernel_size =4, strides=1,padding='same')(x)\n",
    "# x4 = Dropout(0.5)(x4)\n",
    "x4= Activation('relu')(x4)\n",
    "x4= GlobalMaxPooling1D()(x4)\n",
    "\n",
    "x4 = Dense(units=64)(x4)\n",
    "# x4 = Dropout(0.3)(x4)\n",
    "x4= Activation('relu')(x4)\n",
    "x4 = Dense(units=32)(x4)\n",
    "# x4 = Dropout(0.3)(x4)\n",
    "out_x4 = Dense(units=2, activation='softmax',name = 'out4')(x4)\n",
    "model_4 = Model(input_x,out_x4)\n",
    "\n",
    "\n",
    "x5 = Conv1D(filters=512,kernel_size =5, strides=1,padding='same')(x)\n",
    "# x5 = Dropout(0.5)(x5)\n",
    "x5= Activation('relu')(x5)\n",
    "x5= GlobalMaxPooling1D()(x5)\n",
    "\n",
    "x5 = Dense(units=4)(x5)\n",
    "# x5 = Dropout(0.3)(x5)\n",
    "x5= Activation('relu')(x5)\n",
    "x5 = Dense(units=32)(x5)\n",
    "# x5 = Dropout(0.3)(x5)\n",
    "out_x5 = Dense(units=2, activation='softmax',name = 'out5')(x5)\n",
    "model_5 = Model(input_x,out_x5)\n",
    "\n",
    "\n",
    "\n",
    "x6 = Conv1D(filters=512,kernel_size =6, strides=1,padding='same')(x)\n",
    "# x6 = Dropout(0.5)(x6)\n",
    "x6= Activation('relu')(x6)\n",
    "x6= GlobalMaxPooling1D()(x6)\n",
    "\n",
    "x6 = Dense(units=64)(x6)\n",
    "# x6 = Dropout(0.3)(x6)\n",
    "x6= Activation('relu')(x6)\n",
    "x6 = Dense(units=32)(x6)\n",
    "# x6 = Dropout(0.3)(x6)\n",
    "out_x6 = Dense(units=2, activation='softmax',name = 'out6')(x6)\n",
    "model_6 = Model(input_x,out_x6)\n",
    "\n",
    "\n",
    "\n"
   ]
  },
  {
   "cell_type": "code",
   "execution_count": 113,
   "metadata": {},
   "outputs": [],
   "source": [
    "out_all = Maximum()([model_2.output, model_3.output ,model_4.output,model_5.output,model_6.output])\n",
    "model_ansabl = Model(input_x,out_all,name = 'ansbl')\n",
    "\n",
    "model_ansabl.compile(loss='binary_crossentropy',\n",
    "                     optimizer='adam',\n",
    "                    metrics=['accuracy'])"
   ]
  },
  {
   "cell_type": "code",
   "execution_count": 114,
   "metadata": {},
   "outputs": [
    {
     "name": "stdout",
     "output_type": "stream",
     "text": [
      "Model: \"ansbl\"\n",
      "__________________________________________________________________________________________________\n",
      "Layer (type)                    Output Shape         Param #     Connected to                     \n",
      "==================================================================================================\n",
      "input_18 (InputLayer)           [(None, 50)]         0                                            \n",
      "__________________________________________________________________________________________________\n",
      "embedding_16 (Embedding)        (None, 50, 128)      211072      input_18[0][0]                   \n",
      "__________________________________________________________________________________________________\n",
      "conv1d_75 (Conv1D)              (None, 50, 512)      131584      embedding_16[0][0]               \n",
      "__________________________________________________________________________________________________\n",
      "conv1d_76 (Conv1D)              (None, 50, 512)      197120      embedding_16[0][0]               \n",
      "__________________________________________________________________________________________________\n",
      "conv1d_77 (Conv1D)              (None, 50, 512)      262656      embedding_16[0][0]               \n",
      "__________________________________________________________________________________________________\n",
      "conv1d_78 (Conv1D)              (None, 50, 512)      328192      embedding_16[0][0]               \n",
      "__________________________________________________________________________________________________\n",
      "conv1d_79 (Conv1D)              (None, 50, 512)      393728      embedding_16[0][0]               \n",
      "__________________________________________________________________________________________________\n",
      "activation_144 (Activation)     (None, 50, 512)      0           conv1d_75[0][0]                  \n",
      "__________________________________________________________________________________________________\n",
      "activation_146 (Activation)     (None, 50, 512)      0           conv1d_76[0][0]                  \n",
      "__________________________________________________________________________________________________\n",
      "activation_148 (Activation)     (None, 50, 512)      0           conv1d_77[0][0]                  \n",
      "__________________________________________________________________________________________________\n",
      "activation_150 (Activation)     (None, 50, 512)      0           conv1d_78[0][0]                  \n",
      "__________________________________________________________________________________________________\n",
      "activation_152 (Activation)     (None, 50, 512)      0           conv1d_79[0][0]                  \n",
      "__________________________________________________________________________________________________\n",
      "global_max_pooling1d_75 (Global (None, 512)          0           activation_144[0][0]             \n",
      "__________________________________________________________________________________________________\n",
      "global_max_pooling1d_76 (Global (None, 512)          0           activation_146[0][0]             \n",
      "__________________________________________________________________________________________________\n",
      "global_max_pooling1d_77 (Global (None, 512)          0           activation_148[0][0]             \n",
      "__________________________________________________________________________________________________\n",
      "global_max_pooling1d_78 (Global (None, 512)          0           activation_150[0][0]             \n",
      "__________________________________________________________________________________________________\n",
      "global_max_pooling1d_79 (Global (None, 512)          0           activation_152[0][0]             \n",
      "__________________________________________________________________________________________________\n",
      "dense_174 (Dense)               (None, 64)           32832       global_max_pooling1d_75[0][0]    \n",
      "__________________________________________________________________________________________________\n",
      "dense_176 (Dense)               (None, 64)           32832       global_max_pooling1d_76[0][0]    \n",
      "__________________________________________________________________________________________________\n",
      "dense_178 (Dense)               (None, 64)           32832       global_max_pooling1d_77[0][0]    \n",
      "__________________________________________________________________________________________________\n",
      "dense_180 (Dense)               (None, 4)            2052        global_max_pooling1d_78[0][0]    \n",
      "__________________________________________________________________________________________________\n",
      "dense_182 (Dense)               (None, 64)           32832       global_max_pooling1d_79[0][0]    \n",
      "__________________________________________________________________________________________________\n",
      "activation_145 (Activation)     (None, 64)           0           dense_174[0][0]                  \n",
      "__________________________________________________________________________________________________\n",
      "activation_147 (Activation)     (None, 64)           0           dense_176[0][0]                  \n",
      "__________________________________________________________________________________________________\n",
      "activation_149 (Activation)     (None, 64)           0           dense_178[0][0]                  \n",
      "__________________________________________________________________________________________________\n",
      "activation_151 (Activation)     (None, 4)            0           dense_180[0][0]                  \n",
      "__________________________________________________________________________________________________\n",
      "activation_153 (Activation)     (None, 64)           0           dense_182[0][0]                  \n",
      "__________________________________________________________________________________________________\n",
      "dense_175 (Dense)               (None, 32)           2080        activation_145[0][0]             \n",
      "__________________________________________________________________________________________________\n",
      "dense_177 (Dense)               (None, 32)           2080        activation_147[0][0]             \n",
      "__________________________________________________________________________________________________\n",
      "dense_179 (Dense)               (None, 32)           2080        activation_149[0][0]             \n",
      "__________________________________________________________________________________________________\n",
      "dense_181 (Dense)               (None, 32)           160         activation_151[0][0]             \n",
      "__________________________________________________________________________________________________\n",
      "dense_183 (Dense)               (None, 32)           2080        activation_153[0][0]             \n",
      "__________________________________________________________________________________________________\n",
      "out2 (Dense)                    (None, 2)            66          dense_175[0][0]                  \n",
      "__________________________________________________________________________________________________\n",
      "out3 (Dense)                    (None, 2)            66          dense_177[0][0]                  \n",
      "__________________________________________________________________________________________________\n",
      "out4 (Dense)                    (None, 2)            66          dense_179[0][0]                  \n",
      "__________________________________________________________________________________________________\n",
      "out5 (Dense)                    (None, 2)            66          dense_181[0][0]                  \n",
      "__________________________________________________________________________________________________\n",
      "out6 (Dense)                    (None, 2)            66          dense_183[0][0]                  \n",
      "__________________________________________________________________________________________________\n",
      "maximum_19 (Maximum)            (None, 2)            0           out2[0][0]                       \n",
      "                                                                 out3[0][0]                       \n",
      "                                                                 out4[0][0]                       \n",
      "                                                                 out5[0][0]                       \n",
      "                                                                 out6[0][0]                       \n",
      "==================================================================================================\n",
      "Total params: 1,666,542\n",
      "Trainable params: 1,666,542\n",
      "Non-trainable params: 0\n",
      "__________________________________________________________________________________________________\n"
     ]
    }
   ],
   "source": [
    "model_ansabl.summary()"
   ]
  },
  {
   "cell_type": "code",
   "execution_count": 115,
   "metadata": {},
   "outputs": [
    {
     "name": "stdout",
     "output_type": "stream",
     "text": [
      "Epoch 1/7\n",
      "17/17 [==============================] - 4s 193ms/step - loss: 0.4911 - accuracy: 0.7759 - val_loss: 0.3808 - val_accuracy: 0.8120\n",
      "Epoch 2/7\n",
      "17/17 [==============================] - 3s 182ms/step - loss: 0.3189 - accuracy: 0.8677 - val_loss: 0.2649 - val_accuracy: 0.9034\n",
      "Epoch 3/7\n",
      "17/17 [==============================] - 3s 182ms/step - loss: 0.2337 - accuracy: 0.9146 - val_loss: 0.2252 - val_accuracy: 0.9076\n",
      "Epoch 4/7\n",
      "17/17 [==============================] - 3s 182ms/step - loss: 0.1935 - accuracy: 0.9263 - val_loss: 0.2133 - val_accuracy: 0.9097\n",
      "Epoch 5/7\n",
      "17/17 [==============================] - 3s 182ms/step - loss: 0.1733 - accuracy: 0.9355 - val_loss: 0.2177 - val_accuracy: 0.9148\n",
      "Epoch 6/7\n",
      "17/17 [==============================] - 3s 182ms/step - loss: 0.1607 - accuracy: 0.9428 - val_loss: 0.2214 - val_accuracy: 0.9129\n",
      "Epoch 7/7\n",
      "17/17 [==============================] - 3s 182ms/step - loss: 0.1515 - accuracy: 0.9481 - val_loss: 0.2302 - val_accuracy: 0.9129\n",
      "acc -  0.8983543078412392\n",
      "roc_auc_score -  0.949887752489833\n"
     ]
    }
   ],
   "source": [
    "\n",
    "model_ansabl.fit(X_train, y_train, batch_size=1024, epochs=7, \n",
    "          validation_data=(X_test, y_test))\n",
    "pred = model_ansabl.predict(X_test)\n",
    "print('acc - ',accuracy_score(y_test,(pred>=0.5)*1    )) \n",
    "print('roc_auc_score - ',roc_auc_score(y_test,pred ))"
   ]
  },
  {
   "cell_type": "markdown",
   "metadata": {},
   "source": [
    "Инициализировать tf.keras.layers.Embedding предобученными векторами  \n",
    "Что это такое, как это делать, представления не имею. На уроке слово не було сказано. Что это за вектора где их взять и ка кприкрутить не потнимаю. ПРошу показать как этим пользоваться"
   ]
  },
  {
   "cell_type": "code",
   "execution_count": null,
   "metadata": {},
   "outputs": [],
   "source": []
  },
  {
   "cell_type": "code",
   "execution_count": null,
   "metadata": {},
   "outputs": [],
   "source": []
  }
 ],
 "metadata": {
  "kernelspec": {
   "display_name": "Python 3 (ipykernel)",
   "language": "python",
   "name": "python3"
  },
  "language_info": {
   "codemirror_mode": {
    "name": "ipython",
    "version": 3
   },
   "file_extension": ".py",
   "mimetype": "text/x-python",
   "name": "python",
   "nbconvert_exporter": "python",
   "pygments_lexer": "ipython3",
   "version": "3.8.5"
  }
 },
 "nbformat": 4,
 "nbformat_minor": 4
}
